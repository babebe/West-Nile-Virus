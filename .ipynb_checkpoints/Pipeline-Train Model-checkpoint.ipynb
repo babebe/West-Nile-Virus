{
 "cells": [
  {
   "cell_type": "code",
   "execution_count": 17,
   "metadata": {
    "collapsed": false
   },
   "outputs": [],
   "source": [
    "import pandas as pd\n",
    "import numpy as np\n",
    "from sklearn import cross_validation\n",
    "from sklearn.cross_validation import KFold\n",
    "from sklearn.cross_validation import cross_val_score\n",
    "from sklearn.metrics import classification_report\n",
    "from sklearn.metrics import accuracy_score\n",
    "from sklearn.metrics import confusion_matrix\n",
    "from sklearn.preprocessing import StandardScaler\n",
    "from sklearn.linear_model import LogisticRegression\n",
    "from sklearn.tree import DecisionTreeClassifier\n",
    "from sklearn.neighbors import KNeighborsClassifier\n",
    "from sklearn.naive_bayes import GaussianNB\n",
    "from sklearn.grid_search import GridSearchCV\n",
    "from sklearn.feature_selection import SelectFromModel\n",
    "import sklearn.metrics\n",
    "from sklearn.svm import SVC\n",
    "from sklearn.pipeline import Pipeline\n",
    "from sklearn.discriminant_analysis import LinearDiscriminantAnalysis\n",
    "from sklearn.ensemble import AdaBoostClassifier\n",
    "from sklearn.ensemble import GradientBoostingClassifier\n",
    "from sklearn.ensemble import RandomForestClassifier\n",
    "from sklearn.ensemble import ExtraTreesClassifier\n",
    "from sklearn.pipeline import FeatureUnion\n",
    "from sklearn.feature_selection import SelectKBest\n",
    "from sklearn.decomposition import PCA"
   ]
  },
  {
   "cell_type": "code",
   "execution_count": 18,
   "metadata": {
    "collapsed": false
   },
   "outputs": [],
   "source": [
    "df=pd.read_csv('df.csv')"
   ]
  },
  {
   "cell_type": "code",
   "execution_count": 19,
   "metadata": {
    "collapsed": true
   },
   "outputs": [],
   "source": [
    "_df=pd.read_csv('test.csv')"
   ]
  },
  {
   "cell_type": "code",
   "execution_count": 20,
   "metadata": {
    "collapsed": false
   },
   "outputs": [
    {
     "data": {
      "text/html": [
       "<div>\n",
       "<table border=\"1\" class=\"dataframe\">\n",
       "  <thead>\n",
       "    <tr style=\"text-align: right;\">\n",
       "      <th></th>\n",
       "      <th>Unnamed: 0</th>\n",
       "      <th>species</th>\n",
       "      <th>latitude</th>\n",
       "      <th>longitude</th>\n",
       "      <th>nummosquitos</th>\n",
       "      <th>month</th>\n",
       "      <th>day</th>\n",
       "      <th>Tmax</th>\n",
       "      <th>Tmin</th>\n",
       "      <th>Tavg</th>\n",
       "      <th>...</th>\n",
       "      <th>WetBulb</th>\n",
       "      <th>Cool</th>\n",
       "      <th>Sunrise</th>\n",
       "      <th>Sunset</th>\n",
       "      <th>StnPressure</th>\n",
       "      <th>SeaLevel</th>\n",
       "      <th>ResultSpeed</th>\n",
       "      <th>ResultDir</th>\n",
       "      <th>AvgSpeed</th>\n",
       "      <th>wnvpresent</th>\n",
       "    </tr>\n",
       "  </thead>\n",
       "  <tbody>\n",
       "    <tr>\n",
       "      <th>0</th>\n",
       "      <td>0</td>\n",
       "      <td>2</td>\n",
       "      <td>41.95469</td>\n",
       "      <td>-87.800991</td>\n",
       "      <td>1</td>\n",
       "      <td>5</td>\n",
       "      <td>29</td>\n",
       "      <td>88</td>\n",
       "      <td>60</td>\n",
       "      <td>74</td>\n",
       "      <td>...</td>\n",
       "      <td>65.0</td>\n",
       "      <td>9</td>\n",
       "      <td>421</td>\n",
       "      <td>1917</td>\n",
       "      <td>29.39</td>\n",
       "      <td>30.11</td>\n",
       "      <td>5.8</td>\n",
       "      <td>18</td>\n",
       "      <td>6.5</td>\n",
       "      <td>0</td>\n",
       "    </tr>\n",
       "    <tr>\n",
       "      <th>1</th>\n",
       "      <td>1</td>\n",
       "      <td>3</td>\n",
       "      <td>41.95469</td>\n",
       "      <td>-87.800991</td>\n",
       "      <td>1</td>\n",
       "      <td>5</td>\n",
       "      <td>29</td>\n",
       "      <td>88</td>\n",
       "      <td>60</td>\n",
       "      <td>74</td>\n",
       "      <td>...</td>\n",
       "      <td>65.0</td>\n",
       "      <td>9</td>\n",
       "      <td>421</td>\n",
       "      <td>1917</td>\n",
       "      <td>29.39</td>\n",
       "      <td>30.11</td>\n",
       "      <td>5.8</td>\n",
       "      <td>18</td>\n",
       "      <td>6.5</td>\n",
       "      <td>0</td>\n",
       "    </tr>\n",
       "  </tbody>\n",
       "</table>\n",
       "<p>2 rows × 22 columns</p>\n",
       "</div>"
      ],
      "text/plain": [
       "   Unnamed: 0  species  latitude  longitude  nummosquitos  month  day  Tmax  \\\n",
       "0           0        2  41.95469 -87.800991             1      5   29    88   \n",
       "1           1        3  41.95469 -87.800991             1      5   29    88   \n",
       "\n",
       "   Tmin  Tavg     ...      WetBulb  Cool  Sunrise  Sunset  StnPressure  \\\n",
       "0    60    74     ...         65.0     9      421    1917        29.39   \n",
       "1    60    74     ...         65.0     9      421    1917        29.39   \n",
       "\n",
       "   SeaLevel  ResultSpeed  ResultDir  AvgSpeed  wnvpresent  \n",
       "0     30.11          5.8         18       6.5           0  \n",
       "1     30.11          5.8         18       6.5           0  \n",
       "\n",
       "[2 rows x 22 columns]"
      ]
     },
     "execution_count": 20,
     "metadata": {},
     "output_type": "execute_result"
    }
   ],
   "source": [
    "df.head(2)"
   ]
  },
  {
   "cell_type": "code",
   "execution_count": 21,
   "metadata": {
    "collapsed": false
   },
   "outputs": [
    {
     "data": {
      "text/html": [
       "<div>\n",
       "<table border=\"1\" class=\"dataframe\">\n",
       "  <thead>\n",
       "    <tr style=\"text-align: right;\">\n",
       "      <th></th>\n",
       "      <th>species</th>\n",
       "      <th>latitude</th>\n",
       "      <th>longitude</th>\n",
       "      <th>nummosquitos</th>\n",
       "      <th>month</th>\n",
       "      <th>day</th>\n",
       "      <th>Tmax</th>\n",
       "      <th>Tmin</th>\n",
       "      <th>Tavg</th>\n",
       "      <th>Depart</th>\n",
       "      <th>...</th>\n",
       "      <th>WetBulb</th>\n",
       "      <th>Cool</th>\n",
       "      <th>Sunrise</th>\n",
       "      <th>Sunset</th>\n",
       "      <th>StnPressure</th>\n",
       "      <th>SeaLevel</th>\n",
       "      <th>ResultSpeed</th>\n",
       "      <th>ResultDir</th>\n",
       "      <th>AvgSpeed</th>\n",
       "      <th>wnvpresent</th>\n",
       "    </tr>\n",
       "  </thead>\n",
       "  <tbody>\n",
       "    <tr>\n",
       "      <th>0</th>\n",
       "      <td>2</td>\n",
       "      <td>41.95469</td>\n",
       "      <td>-87.800991</td>\n",
       "      <td>1</td>\n",
       "      <td>5</td>\n",
       "      <td>29</td>\n",
       "      <td>88</td>\n",
       "      <td>60</td>\n",
       "      <td>74</td>\n",
       "      <td>10</td>\n",
       "      <td>...</td>\n",
       "      <td>65.0</td>\n",
       "      <td>9</td>\n",
       "      <td>421</td>\n",
       "      <td>1917</td>\n",
       "      <td>29.39</td>\n",
       "      <td>30.11</td>\n",
       "      <td>5.8</td>\n",
       "      <td>18</td>\n",
       "      <td>6.5</td>\n",
       "      <td>0</td>\n",
       "    </tr>\n",
       "    <tr>\n",
       "      <th>1</th>\n",
       "      <td>3</td>\n",
       "      <td>41.95469</td>\n",
       "      <td>-87.800991</td>\n",
       "      <td>1</td>\n",
       "      <td>5</td>\n",
       "      <td>29</td>\n",
       "      <td>88</td>\n",
       "      <td>60</td>\n",
       "      <td>74</td>\n",
       "      <td>10</td>\n",
       "      <td>...</td>\n",
       "      <td>65.0</td>\n",
       "      <td>9</td>\n",
       "      <td>421</td>\n",
       "      <td>1917</td>\n",
       "      <td>29.39</td>\n",
       "      <td>30.11</td>\n",
       "      <td>5.8</td>\n",
       "      <td>18</td>\n",
       "      <td>6.5</td>\n",
       "      <td>0</td>\n",
       "    </tr>\n",
       "  </tbody>\n",
       "</table>\n",
       "<p>2 rows × 21 columns</p>\n",
       "</div>"
      ],
      "text/plain": [
       "   species  latitude  longitude  nummosquitos  month  day  Tmax  Tmin  Tavg  \\\n",
       "0        2  41.95469 -87.800991             1      5   29    88    60    74   \n",
       "1        3  41.95469 -87.800991             1      5   29    88    60    74   \n",
       "\n",
       "   Depart     ...      WetBulb  Cool  Sunrise  Sunset  StnPressure  SeaLevel  \\\n",
       "0      10     ...         65.0     9      421    1917        29.39     30.11   \n",
       "1      10     ...         65.0     9      421    1917        29.39     30.11   \n",
       "\n",
       "   ResultSpeed  ResultDir  AvgSpeed  wnvpresent  \n",
       "0          5.8         18       6.5           0  \n",
       "1          5.8         18       6.5           0  \n",
       "\n",
       "[2 rows x 21 columns]"
      ]
     },
     "execution_count": 21,
     "metadata": {},
     "output_type": "execute_result"
    }
   ],
   "source": [
    "df=df.drop('Unnamed: 0', axis=1)\n",
    "df.head(2)"
   ]
  },
  {
   "cell_type": "code",
   "execution_count": 22,
   "metadata": {
    "collapsed": false
   },
   "outputs": [
    {
     "data": {
      "text/plain": [
       "Index([u'species', u'latitude', u'longitude', u'nummosquitos', u'month',\n",
       "       u'day', u'Tmax', u'Tmin', u'Tavg', u'Depart', u'DewPoint', u'WetBulb',\n",
       "       u'Cool', u'Sunrise', u'Sunset', u'StnPressure', u'SeaLevel',\n",
       "       u'ResultSpeed', u'ResultDir', u'AvgSpeed', u'wnvpresent'],\n",
       "      dtype='object')"
      ]
     },
     "execution_count": 22,
     "metadata": {},
     "output_type": "execute_result"
    }
   ],
   "source": [
    "df.columns"
   ]
  },
  {
   "cell_type": "code",
   "execution_count": 23,
   "metadata": {
    "collapsed": false
   },
   "outputs": [
    {
     "name": "stdout",
     "output_type": "stream",
     "text": [
      "(10506, 20) 10506\n",
      "(10506,) 10506\n",
      "(8404, 20)\n",
      "(8404,)\n"
     ]
    }
   ],
   "source": [
    "#set up X and Y values & split validation set\n",
    "validation_size= 0.20\n",
    "data=df.values\n",
    "X=data[:,0:20]\n",
    "Y=data[:,20]\n",
    "print X.shape, len(X)\n",
    "Y=df.wnvpresent.values\n",
    "print Y.shape, len(Y)\n",
    "X_train, X_validation, Y_train,Y_validation=cross_validation.train_test_split(X,Y,test_size=validation_size, random_state=10)\n",
    "print X_train.shape\n",
    "print Y_train.shape"
   ]
  },
  {
   "cell_type": "code",
   "execution_count": 24,
   "metadata": {
    "collapsed": false
   },
   "outputs": [],
   "source": [
    "models=[]\n",
    "models.append(('LOG', LogisticRegression()))\n",
    "models.append(('LDA',LinearDiscriminantAnalysis()))\n",
    "models.append(('CART',DecisionTreeClassifier()))\n",
    "models.append(('KNN',KNeighborsClassifier()))\n",
    "models.append(('SVM',SVC()))\n",
    "models.append(('NB',GaussianNB()))"
   ]
  },
  {
   "cell_type": "code",
   "execution_count": 26,
   "metadata": {
    "collapsed": false
   },
   "outputs": [
    {
     "name": "stdout",
     "output_type": "stream",
     "text": [
      "LOG: 0.946693 (0.005334)\n",
      "LDA: 0.946693 (0.005842)\n",
      "CART: 0.914328 (0.010493)\n",
      "KNN: 0.939672 (0.006624)\n",
      "SVM: 0.944313 (0.005518)\n",
      "NB: 0.814613 (0.013983)\n"
     ]
    }
   ],
   "source": [
    "results=[]\n",
    "names=[]\n",
    "\n",
    "for name, model in models:\n",
    "    kfold=KFold(n=8404,n_folds=10, random_state=10)\n",
    "    _results=cross_validation.cross_val_score(model,X_train,Y_train,cv=kfold,scoring='accuracy')\n",
    "    results.append(_results)\n",
    "    names.append(name)\n",
    "    scores=\"%s: %f (%f)\" % (name, _results.mean(), _results.std())\n",
    "    print scores"
   ]
  },
  {
   "cell_type": "markdown",
   "metadata": {},
   "source": [
    "The linear models performed best."
   ]
  },
  {
   "cell_type": "code",
   "execution_count": 27,
   "metadata": {
    "collapsed": true
   },
   "outputs": [],
   "source": [
    "#create a pipeline \n",
    "pipelines=[]\n",
    "pipelines.append(('ScaledLOG', Pipeline([('Scaler', StandardScaler()),('LOG', LogisticRegression())])))\n",
    "pipelines.append(('ScaledLDA', Pipeline([('Scaler', StandardScaler()),('LDA', LinearDiscriminantAnalysis())])))\n",
    "pipelines.append(('ScaledCART', Pipeline([('Scaler', StandardScaler()),('CART', DecisionTreeClassifier())])))\n",
    "pipelines.append(('ScaledKNN', Pipeline([('Scaler', StandardScaler()),('KNN', KNeighborsClassifier())])))\n",
    "pipelines.append(('ScaledSVM', Pipeline([('Scaler', StandardScaler()),('SVM', SVC())])))\n",
    "pipelines.append(('ScaledGNB', Pipeline([('Scaler', StandardScaler()),('GNB', GaussianNB())])))"
   ]
  },
  {
   "cell_type": "code",
   "execution_count": 31,
   "metadata": {
    "collapsed": false
   },
   "outputs": [
    {
     "name": "stdout",
     "output_type": "stream",
     "text": [
      "ScaledLOG: 0.946574 (0.005879)\n",
      "ScaledLDA: 0.946693 (0.005842)\n",
      "ScaledCART: 0.915637 (0.009697)\n",
      "ScaledKNN: 0.941934 (0.006999)\n",
      "ScaledSVM: 0.946693 (0.005334)\n",
      "ScaledGNB: 0.814732 (0.014066)\n"
     ]
    }
   ],
   "source": [
    "results=[]\n",
    "names=[]\n",
    "\n",
    "for name, model in pipelines:\n",
    "    kfold=KFold(n=8404,n_folds=10, random_state=10)\n",
    "    _results=cross_validation.cross_val_score(model,X_train,Y_train,cv=kfold,scoring='accuracy')\n",
    "    results.append(_results)\n",
    "    names.append(name)\n",
    "    scores=\"%s: %f (%f)\" % (name, _results.mean(), _results.std())\n",
    "    print scores"
   ]
  },
  {
   "cell_type": "markdown",
   "metadata": {},
   "source": [
    "After scaling our dataset most of the models performed better. We used pipeline so that each model is perfomed on unseen data."
   ]
  },
  {
   "cell_type": "code",
   "execution_count": 34,
   "metadata": {
    "collapsed": false
   },
   "outputs": [],
   "source": [
    "#improve our knn model\n",
    "\n",
    "scaler=StandardScaler().fit(X_train)\n",
    "_X=scaler.transform(X_train)\n",
    "k_values= np.array(range(1,21))\n",
    "param=dict(n_neighbors=k_values)\n",
    "model=KNeighborsClassifier()\n",
    "kfold=cross_validation.KFold(n=8404,n_folds=10, random_state=10)\n",
    "grid= GridSearchCV(estimator=model, param_grid=param, scoring='accuracy', cv=kfold)\n",
    "grid_result=grid.fit(_X, Y_train)\n"
   ]
  },
  {
   "cell_type": "code",
   "execution_count": 35,
   "metadata": {
    "collapsed": false
   },
   "outputs": [
    {
     "name": "stdout",
     "output_type": "stream",
     "text": [
      "Best: 0.947525 using {'n_neighbors': 20}\n",
      "0.922657 (0.008668) with: {'n_neighbors': 1}\n",
      "0.944075 (0.007516) with: {'n_neighbors': 2}\n",
      "0.938245 (0.008510) with: {'n_neighbors': 3}\n",
      "0.944671 (0.005747) with: {'n_neighbors': 4}\n",
      "0.941577 (0.006786) with: {'n_neighbors': 5}\n",
      "0.947050 (0.004787) with: {'n_neighbors': 6}\n",
      "0.944433 (0.004713) with: {'n_neighbors': 7}\n",
      "0.945860 (0.004729) with: {'n_neighbors': 8}\n",
      "0.944908 (0.004603) with: {'n_neighbors': 9}\n",
      "0.946693 (0.005143) with: {'n_neighbors': 10}\n",
      "0.945742 (0.006721) with: {'n_neighbors': 11}\n",
      "0.946693 (0.005307) with: {'n_neighbors': 12}\n",
      "0.946336 (0.005324) with: {'n_neighbors': 13}\n",
      "0.947288 (0.005648) with: {'n_neighbors': 14}\n",
      "0.946812 (0.005522) with: {'n_neighbors': 15}\n",
      "0.946931 (0.005156) with: {'n_neighbors': 16}\n",
      "0.947169 (0.004903) with: {'n_neighbors': 17}\n",
      "0.946812 (0.005123) with: {'n_neighbors': 18}\n",
      "0.947169 (0.005419) with: {'n_neighbors': 19}\n",
      "0.947526 (0.005131) with: {'n_neighbors': 20}\n"
     ]
    }
   ],
   "source": [
    "print (\"Best: %f using %s\" % (grid_result.best_score_, grid_result.best_params_))\n",
    "for params, mean_score, scores in grid_result.grid_scores_:\n",
    "    print (\"%f (%f) with: %r\" % (scores.mean(), scores.std(), params))"
   ]
  },
  {
   "cell_type": "code",
   "execution_count": 38,
   "metadata": {
    "collapsed": false
   },
   "outputs": [],
   "source": [
    "# Tune SVM\n",
    "scaler=StandardScaler().fit(X_train)\n",
    "_X=scaler.transform(X_train)\n",
    "c_values= [0.1, 0.2, 0.4, 0.6, 0.8, 1.0, 1.3, 1.5, 1.7, 2.0]\n",
    "kernel_values=['linear','poly']\n",
    "param=dict(C=c_values, kernel=kernel_values)\n",
    "model=SVC()\n",
    "kfold=cross_validation.KFold(n=8404,n_folds=10, random_state=10)\n",
    "grid= GridSearchCV(estimator=model, param_grid=param, scoring='accuracy', cv=kfold)\n",
    "grid_result=grid.fit(_X, Y_train)\n"
   ]
  },
  {
   "cell_type": "code",
   "execution_count": 39,
   "metadata": {
    "collapsed": false
   },
   "outputs": [
    {
     "name": "stdout",
     "output_type": "stream",
     "text": [
      "Best: 0.946692 using {'kernel': 'linear', 'C': 0.1}\n",
      "0.946693 (0.005334) with: {'kernel': 'linear', 'C': 0.1}\n",
      "0.946693 (0.005334) with: {'kernel': 'poly', 'C': 0.1}\n",
      "0.946693 (0.005334) with: {'kernel': 'linear', 'C': 0.2}\n",
      "0.946693 (0.005334) with: {'kernel': 'poly', 'C': 0.2}\n",
      "0.946693 (0.005334) with: {'kernel': 'linear', 'C': 0.4}\n",
      "0.946693 (0.005334) with: {'kernel': 'poly', 'C': 0.4}\n",
      "0.946693 (0.005334) with: {'kernel': 'linear', 'C': 0.6}\n",
      "0.946693 (0.005334) with: {'kernel': 'poly', 'C': 0.6}\n",
      "0.946693 (0.005334) with: {'kernel': 'linear', 'C': 0.8}\n",
      "0.946693 (0.005334) with: {'kernel': 'poly', 'C': 0.8}\n",
      "0.946693 (0.005334) with: {'kernel': 'linear', 'C': 1.0}\n",
      "0.946693 (0.005334) with: {'kernel': 'poly', 'C': 1.0}\n",
      "0.946693 (0.005334) with: {'kernel': 'linear', 'C': 1.3}\n",
      "0.946693 (0.005334) with: {'kernel': 'poly', 'C': 1.3}\n",
      "0.946693 (0.005334) with: {'kernel': 'linear', 'C': 1.5}\n",
      "0.946693 (0.005334) with: {'kernel': 'poly', 'C': 1.5}\n",
      "0.946693 (0.005334) with: {'kernel': 'linear', 'C': 1.7}\n",
      "0.946693 (0.005334) with: {'kernel': 'poly', 'C': 1.7}\n",
      "0.946693 (0.005334) with: {'kernel': 'linear', 'C': 2.0}\n",
      "0.946693 (0.005334) with: {'kernel': 'poly', 'C': 2.0}\n"
     ]
    }
   ],
   "source": [
    "print (\"Best: %f using %s\" % (grid_result.best_score_, grid_result.best_params_))\n",
    "for params, mean_score, scores in grid_result.grid_scores_:\n",
    "    print (\"%f (%f) with: %r\" % (scores.mean(), scores.std(), params))"
   ]
  },
  {
   "cell_type": "markdown",
   "metadata": {},
   "source": [
    "KNN model improved. SVM models did not improve significantly"
   ]
  },
  {
   "cell_type": "code",
   "execution_count": 40,
   "metadata": {
    "collapsed": false
   },
   "outputs": [],
   "source": [
    "# use ensemble methods to increase performance\n",
    "methods=[]\n",
    "methods.append(('AB', AdaBoostClassifier()))\n",
    "methods.append(('GBM',LinearDiscriminantAnalysis()))\n",
    "methods.append(('RF',RandomForestClassifier()))\n",
    "methods.append(('ET',ExtraTreesClassifier()))\n"
   ]
  },
  {
   "cell_type": "code",
   "execution_count": 42,
   "metadata": {
    "collapsed": false
   },
   "outputs": [
    {
     "name": "stdout",
     "output_type": "stream",
     "text": [
      "AB: 0.945503 (0.005113)\n",
      "GBM: 0.946693 (0.005842)\n",
      "RF: 0.941576 (0.007353)\n",
      "ET: 0.942528 (0.005846)\n"
     ]
    }
   ],
   "source": [
    "results=[]\n",
    "names=[]\n",
    "\n",
    "for name, model in methods:\n",
    "    kfold=KFold(n=8404,n_folds=10, random_state=10)\n",
    "    _results=cross_validation.cross_val_score(model,X_train,Y_train,cv=kfold,scoring='accuracy')\n",
    "    results.append(_results)\n",
    "    names.append(name)\n",
    "    scores=\"%s: %f (%f)\" % (name, _results.mean(), _results.std())\n",
    "    print scores"
   ]
  },
  {
   "cell_type": "markdown",
   "metadata": {},
   "source": [
    "The ensemble methods did not perform better than our linear & non linear models. "
   ]
  },
  {
   "cell_type": "code",
   "execution_count": 62,
   "metadata": {
    "collapsed": true
   },
   "outputs": [],
   "source": [
    "# study the logistic regression (best model) further:\n",
    "features=[]\n",
    "features.append(('pca', PCA (n_components=3)))\n",
    "features.append(('select_best', SelectKBest(k=6)))\n",
    "feature_union= FeatureUnion(features)"
   ]
  },
  {
   "cell_type": "code",
   "execution_count": 65,
   "metadata": {
    "collapsed": false
   },
   "outputs": [],
   "source": [
    "estimators=[]\n",
    "#knn=KNeighborsClassifier(n_neighbors=20)\n",
    "estimators.append(('feature_union', feature_union))\n",
    "estimators.append(('Knn', KNeighborsClassifier()))\n",
    "model= Pipeline(estimators)"
   ]
  },
  {
   "cell_type": "code",
   "execution_count": 59,
   "metadata": {
    "collapsed": false
   },
   "outputs": [
    {
     "name": "stdout",
     "output_type": "stream",
     "text": [
      "0.951711256441\n"
     ]
    }
   ],
   "source": [
    "kfold=cross_validation.KFold(n=8404,n_folds=10, random_state=200)\n",
    "scores=cross_validation.cross_val_score(model, X, Y, cv=kfold)\n",
    "print scores.mean()"
   ]
  },
  {
   "cell_type": "code",
   "execution_count": 66,
   "metadata": {
    "collapsed": false
   },
   "outputs": [
    {
     "name": "stdout",
     "output_type": "stream",
     "text": [
      "0.946241674596\n",
      "[[1981   18]\n",
      " [  95    8]]\n",
      "             precision    recall  f1-score   support\n",
      "\n",
      "          0       0.95      0.99      0.97      1999\n",
      "          1       0.31      0.08      0.12       103\n",
      "\n",
      "avg / total       0.92      0.95      0.93      2102\n",
      "\n",
      "[0 1]\n"
     ]
    }
   ],
   "source": [
    "#make prediction on validation dataset\n",
    "#cart=DecisionTreeClassifier()\n",
    "#knn= KNeighborsClassifier(n_neighbors=20)\n",
    "model= Pipeline(estimators)\n",
    "#knn.fit(X_train, Y_train)\n",
    "model.fit(X_train, Y_train)\n",
    "Y_pred=model.predict(X_validation)\n",
    "print accuracy_score(Y_validation,Y_pred )\n",
    "print confusion_matrix(Y_validation,Y_pred )\n",
    "print classification_report(Y_validation, Y_pred)\n",
    "print np.unique(Y_pred)"
   ]
  },
  {
   "cell_type": "code",
   "execution_count": 67,
   "metadata": {
    "collapsed": false
   },
   "outputs": [
    {
     "data": {
      "text/html": [
       "<div>\n",
       "<table border=\"1\" class=\"dataframe\">\n",
       "  <thead>\n",
       "    <tr style=\"text-align: right;\">\n",
       "      <th></th>\n",
       "      <th>Y_pred</th>\n",
       "      <th>Y_val</th>\n",
       "    </tr>\n",
       "  </thead>\n",
       "  <tbody>\n",
       "    <tr>\n",
       "      <th>0</th>\n",
       "      <td>0</td>\n",
       "      <td>1</td>\n",
       "    </tr>\n",
       "    <tr>\n",
       "      <th>1</th>\n",
       "      <td>0</td>\n",
       "      <td>0</td>\n",
       "    </tr>\n",
       "  </tbody>\n",
       "</table>\n",
       "</div>"
      ],
      "text/plain": [
       "   Y_pred  Y_val\n",
       "0       0      1\n",
       "1       0      0"
      ]
     },
     "execution_count": 67,
     "metadata": {},
     "output_type": "execute_result"
    }
   ],
   "source": [
    "data={'Y_val': Y_validation, 'Y_pred': Y_pred}\n",
    "ydf=pd.DataFrame(data)\n",
    "ydf.head(2)"
   ]
  },
  {
   "cell_type": "code",
   "execution_count": null,
   "metadata": {
    "collapsed": true
   },
   "outputs": [],
   "source": []
  }
 ],
 "metadata": {
  "kernelspec": {
   "display_name": "Python 2",
   "language": "python",
   "name": "python2"
  },
  "language_info": {
   "codemirror_mode": {
    "name": "ipython",
    "version": 2
   },
   "file_extension": ".py",
   "mimetype": "text/x-python",
   "name": "python",
   "nbconvert_exporter": "python",
   "pygments_lexer": "ipython2",
   "version": "2.7.11"
  }
 },
 "nbformat": 4,
 "nbformat_minor": 0
}
