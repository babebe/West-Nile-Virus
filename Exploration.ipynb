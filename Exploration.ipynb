{
 "cells": [
  {
   "cell_type": "code",
   "execution_count": 397,
   "metadata": {
    "collapsed": true
   },
   "outputs": [],
   "source": [
    "import pandas as pd\n",
    "import seaborn as sns\n",
    "%matplotlib inline"
   ]
  },
  {
   "cell_type": "code",
   "execution_count": 552,
   "metadata": {
    "collapsed": false
   },
   "outputs": [],
   "source": [
    "train=pd.read_csv('train.csv')\n",
    "spray=pd.read_csv('spray.csv')\n",
    "weather=pd.read_csv('weather.csv')"
   ]
  },
  {
   "cell_type": "code",
   "execution_count": 553,
   "metadata": {
    "collapsed": true
   },
   "outputs": [],
   "source": [
    "weather=pd.read_csv('weather.csv')"
   ]
  },
  {
   "cell_type": "markdown",
   "metadata": {},
   "source": [
    "# Train-dataset"
   ]
  },
  {
   "cell_type": "code",
   "execution_count": 554,
   "metadata": {
    "collapsed": false
   },
   "outputs": [
    {
     "data": {
      "text/html": [
       "<div>\n",
       "<table border=\"1\" class=\"dataframe\">\n",
       "  <thead>\n",
       "    <tr style=\"text-align: right;\">\n",
       "      <th></th>\n",
       "      <th>Date</th>\n",
       "      <th>Address</th>\n",
       "      <th>Species</th>\n",
       "      <th>Block</th>\n",
       "      <th>Street</th>\n",
       "      <th>Trap</th>\n",
       "      <th>AddressNumberAndStreet</th>\n",
       "      <th>Latitude</th>\n",
       "      <th>Longitude</th>\n",
       "      <th>AddressAccuracy</th>\n",
       "      <th>NumMosquitos</th>\n",
       "      <th>WnvPresent</th>\n",
       "    </tr>\n",
       "  </thead>\n",
       "  <tbody>\n",
       "    <tr>\n",
       "      <th>0</th>\n",
       "      <td>2007-05-29</td>\n",
       "      <td>4100 North Oak Park Avenue, Chicago, IL 60634,...</td>\n",
       "      <td>CULEX PIPIENS/RESTUANS</td>\n",
       "      <td>41</td>\n",
       "      <td>N OAK PARK AVE</td>\n",
       "      <td>T002</td>\n",
       "      <td>4100  N OAK PARK AVE, Chicago, IL</td>\n",
       "      <td>41.95469</td>\n",
       "      <td>-87.800991</td>\n",
       "      <td>9</td>\n",
       "      <td>1</td>\n",
       "      <td>0</td>\n",
       "    </tr>\n",
       "    <tr>\n",
       "      <th>1</th>\n",
       "      <td>2007-05-29</td>\n",
       "      <td>4100 North Oak Park Avenue, Chicago, IL 60634,...</td>\n",
       "      <td>CULEX RESTUANS</td>\n",
       "      <td>41</td>\n",
       "      <td>N OAK PARK AVE</td>\n",
       "      <td>T002</td>\n",
       "      <td>4100  N OAK PARK AVE, Chicago, IL</td>\n",
       "      <td>41.95469</td>\n",
       "      <td>-87.800991</td>\n",
       "      <td>9</td>\n",
       "      <td>1</td>\n",
       "      <td>0</td>\n",
       "    </tr>\n",
       "  </tbody>\n",
       "</table>\n",
       "</div>"
      ],
      "text/plain": [
       "         Date                                            Address  \\\n",
       "0  2007-05-29  4100 North Oak Park Avenue, Chicago, IL 60634,...   \n",
       "1  2007-05-29  4100 North Oak Park Avenue, Chicago, IL 60634,...   \n",
       "\n",
       "                  Species  Block           Street  Trap  \\\n",
       "0  CULEX PIPIENS/RESTUANS     41   N OAK PARK AVE  T002   \n",
       "1          CULEX RESTUANS     41   N OAK PARK AVE  T002   \n",
       "\n",
       "              AddressNumberAndStreet  Latitude  Longitude  AddressAccuracy  \\\n",
       "0  4100  N OAK PARK AVE, Chicago, IL  41.95469 -87.800991                9   \n",
       "1  4100  N OAK PARK AVE, Chicago, IL  41.95469 -87.800991                9   \n",
       "\n",
       "   NumMosquitos  WnvPresent  \n",
       "0             1           0  \n",
       "1             1           0  "
      ]
     },
     "execution_count": 554,
     "metadata": {},
     "output_type": "execute_result"
    }
   ],
   "source": [
    "train.head(2)"
   ]
  },
  {
   "cell_type": "code",
   "execution_count": 555,
   "metadata": {
    "collapsed": false
   },
   "outputs": [
    {
     "data": {
      "text/html": [
       "<div>\n",
       "<table border=\"1\" class=\"dataframe\">\n",
       "  <thead>\n",
       "    <tr style=\"text-align: right;\">\n",
       "      <th></th>\n",
       "      <th>Block</th>\n",
       "      <th>Latitude</th>\n",
       "      <th>Longitude</th>\n",
       "      <th>AddressAccuracy</th>\n",
       "      <th>NumMosquitos</th>\n",
       "      <th>WnvPresent</th>\n",
       "    </tr>\n",
       "  </thead>\n",
       "  <tbody>\n",
       "    <tr>\n",
       "      <th>count</th>\n",
       "      <td>10506.000000</td>\n",
       "      <td>10506.000000</td>\n",
       "      <td>10506.000000</td>\n",
       "      <td>10506.000000</td>\n",
       "      <td>10506.000000</td>\n",
       "      <td>10506.000000</td>\n",
       "    </tr>\n",
       "    <tr>\n",
       "      <th>mean</th>\n",
       "      <td>35.687797</td>\n",
       "      <td>41.841139</td>\n",
       "      <td>-87.699908</td>\n",
       "      <td>7.819532</td>\n",
       "      <td>12.853512</td>\n",
       "      <td>0.052446</td>\n",
       "    </tr>\n",
       "    <tr>\n",
       "      <th>std</th>\n",
       "      <td>24.339468</td>\n",
       "      <td>0.112742</td>\n",
       "      <td>0.096514</td>\n",
       "      <td>1.452921</td>\n",
       "      <td>16.133816</td>\n",
       "      <td>0.222936</td>\n",
       "    </tr>\n",
       "    <tr>\n",
       "      <th>min</th>\n",
       "      <td>10.000000</td>\n",
       "      <td>41.644612</td>\n",
       "      <td>-87.930995</td>\n",
       "      <td>3.000000</td>\n",
       "      <td>1.000000</td>\n",
       "      <td>0.000000</td>\n",
       "    </tr>\n",
       "    <tr>\n",
       "      <th>25%</th>\n",
       "      <td>12.000000</td>\n",
       "      <td>41.732984</td>\n",
       "      <td>-87.760070</td>\n",
       "      <td>8.000000</td>\n",
       "      <td>2.000000</td>\n",
       "      <td>0.000000</td>\n",
       "    </tr>\n",
       "    <tr>\n",
       "      <th>50%</th>\n",
       "      <td>33.000000</td>\n",
       "      <td>41.846283</td>\n",
       "      <td>-87.694991</td>\n",
       "      <td>8.000000</td>\n",
       "      <td>5.000000</td>\n",
       "      <td>0.000000</td>\n",
       "    </tr>\n",
       "    <tr>\n",
       "      <th>75%</th>\n",
       "      <td>52.000000</td>\n",
       "      <td>41.954690</td>\n",
       "      <td>-87.627796</td>\n",
       "      <td>9.000000</td>\n",
       "      <td>17.000000</td>\n",
       "      <td>0.000000</td>\n",
       "    </tr>\n",
       "    <tr>\n",
       "      <th>max</th>\n",
       "      <td>98.000000</td>\n",
       "      <td>42.017430</td>\n",
       "      <td>-87.531635</td>\n",
       "      <td>9.000000</td>\n",
       "      <td>50.000000</td>\n",
       "      <td>1.000000</td>\n",
       "    </tr>\n",
       "  </tbody>\n",
       "</table>\n",
       "</div>"
      ],
      "text/plain": [
       "              Block      Latitude     Longitude  AddressAccuracy  \\\n",
       "count  10506.000000  10506.000000  10506.000000     10506.000000   \n",
       "mean      35.687797     41.841139    -87.699908         7.819532   \n",
       "std       24.339468      0.112742      0.096514         1.452921   \n",
       "min       10.000000     41.644612    -87.930995         3.000000   \n",
       "25%       12.000000     41.732984    -87.760070         8.000000   \n",
       "50%       33.000000     41.846283    -87.694991         8.000000   \n",
       "75%       52.000000     41.954690    -87.627796         9.000000   \n",
       "max       98.000000     42.017430    -87.531635         9.000000   \n",
       "\n",
       "       NumMosquitos    WnvPresent  \n",
       "count  10506.000000  10506.000000  \n",
       "mean      12.853512      0.052446  \n",
       "std       16.133816      0.222936  \n",
       "min        1.000000      0.000000  \n",
       "25%        2.000000      0.000000  \n",
       "50%        5.000000      0.000000  \n",
       "75%       17.000000      0.000000  \n",
       "max       50.000000      1.000000  "
      ]
     },
     "execution_count": 555,
     "metadata": {},
     "output_type": "execute_result"
    }
   ],
   "source": [
    "train.describe()\n"
   ]
  },
  {
   "cell_type": "code",
   "execution_count": 556,
   "metadata": {
    "collapsed": false
   },
   "outputs": [
    {
     "name": "stdout",
     "output_type": "stream",
     "text": [
      "(10506, 12)\n",
      "Date                       object\n",
      "Address                    object\n",
      "Species                    object\n",
      "Block                       int64\n",
      "Street                     object\n",
      "Trap                       object\n",
      "AddressNumberAndStreet     object\n",
      "Latitude                  float64\n",
      "Longitude                 float64\n",
      "AddressAccuracy             int64\n",
      "NumMosquitos                int64\n",
      "WnvPresent                  int64\n",
      "dtype: object\n"
     ]
    }
   ],
   "source": [
    "print train.shape\n",
    "print train.dtypes"
   ]
  },
  {
   "cell_type": "code",
   "execution_count": 557,
   "metadata": {
    "collapsed": false
   },
   "outputs": [
    {
     "data": {
      "text/plain": [
       "WnvPresent\n",
       "0    9955\n",
       "1     551\n",
       "dtype: int64"
      ]
     },
     "execution_count": 557,
     "metadata": {},
     "output_type": "execute_result"
    }
   ],
   "source": [
    "#WnvPresent distribution\n",
    "train.groupby('WnvPresent').size()"
   ]
  },
  {
   "cell_type": "code",
   "execution_count": 558,
   "metadata": {
    "collapsed": false
   },
   "outputs": [],
   "source": [
    "#dtype conversion\n",
    "train['Date']=pd.to_datetime(train['Date'])"
   ]
  },
  {
   "cell_type": "code",
   "execution_count": 559,
   "metadata": {
    "collapsed": false
   },
   "outputs": [],
   "source": [
    "train.set_index('Date', inplace=True)"
   ]
  },
  {
   "cell_type": "code",
   "execution_count": 560,
   "metadata": {
    "collapsed": false
   },
   "outputs": [],
   "source": [
    "train['Month']=train.index.month\n",
    "train['Day']=train.index.day"
   ]
  },
  {
   "cell_type": "code",
   "execution_count": 561,
   "metadata": {
    "collapsed": true
   },
   "outputs": [],
   "source": [
    "train.reset_index(level=0, inplace=True)"
   ]
  },
  {
   "cell_type": "code",
   "execution_count": 562,
   "metadata": {
    "collapsed": false
   },
   "outputs": [
    {
     "data": {
      "image/png": "[encoded data removed]",
      "text/plain": [
       "<matplotlib.figure.Figure at 0x11e675ed0>"
      ]
     },
     "metadata": {},
     "output_type": "display_data"
    }
   ],
   "source": [
    "ax = sns.countplot(x=\"NumMosquitos\", data=train)"
   ]
  },
  {
   "cell_type": "code",
   "execution_count": 563,
   "metadata": {
    "collapsed": false
   },
   "outputs": [
    {
     "data": {
      "text/plain": [
       "<matplotlib.axes._subplots.AxesSubplot at 0x12c304650>"
      ]
     },
     "execution_count": 563,
     "metadata": {},
     "output_type": "execute_result"
    },
    {
     "data": {
      "image/png": "[encoded data removed]",
      "text/plain": [
       "<matplotlib.figure.Figure at 0x1404d4d50>"
      ]
     },
     "metadata": {},
     "output_type": "display_data"
    }
   ],
   "source": [
    "sns.countplot(x='Day', data= train)"
   ]
  },
  {
   "cell_type": "code",
   "execution_count": 564,
   "metadata": {
    "collapsed": false
   },
   "outputs": [
    {
     "data": {
      "text/plain": [
       "<matplotlib.axes._subplots.AxesSubplot at 0x12f1189d0>"
      ]
     },
     "execution_count": 564,
     "metadata": {},
     "output_type": "execute_result"
    },
    {
     "data": {
      "image/png": "[encoded data removed]",
      "text/plain": [
       "<matplotlib.figure.Figure at 0x1360cbd90>"
      ]
     },
     "metadata": {},
     "output_type": "display_data"
    }
   ],
   "source": [
    "sns.countplot(x='Month', data= train)"
   ]
  },
  {
   "cell_type": "code",
   "execution_count": 565,
   "metadata": {
    "collapsed": false
   },
   "outputs": [
    {
     "data": {
      "text/plain": [
       "<matplotlib.axes._subplots.AxesSubplot at 0x135d710d0>"
      ]
     },
     "execution_count": 565,
     "metadata": {},
     "output_type": "execute_result"
    },
    {
     "data": {
      "image/png": "[encoded data removed]",
      "text/plain": [
       "<matplotlib.figure.Figure at 0x135d59810>"
      ]
     },
     "metadata": {},
     "output_type": "display_data"
    }
   ],
   "source": [
    "#1=present\n",
    "train.WnvPresent.plot(kind='hist')"
   ]
  },
  {
   "cell_type": "code",
   "execution_count": 566,
   "metadata": {
    "collapsed": false
   },
   "outputs": [
    {
     "data": {
      "image/png": "[encoded data removed]",
      "text/plain": [
       "<matplotlib.figure.Figure at 0x132e86210>"
      ]
     },
     "metadata": {},
     "output_type": "display_data"
    }
   ],
   "source": [
    "train.NumMosquitos.hist()\n",
    "plt.show()"
   ]
  },
  {
   "cell_type": "code",
   "execution_count": 567,
   "metadata": {
    "collapsed": false
   },
   "outputs": [
    {
     "data": {
      "text/html": [
       "<div>\n",
       "<table border=\"1\" class=\"dataframe\">\n",
       "  <thead>\n",
       "    <tr style=\"text-align: right;\">\n",
       "      <th></th>\n",
       "      <th>Date</th>\n",
       "      <th>Species</th>\n",
       "      <th>Trap</th>\n",
       "      <th>Latitude</th>\n",
       "      <th>Longitude</th>\n",
       "      <th>NumMosquitos</th>\n",
       "      <th>WnvPresent</th>\n",
       "      <th>Month</th>\n",
       "      <th>Day</th>\n",
       "    </tr>\n",
       "  </thead>\n",
       "  <tbody>\n",
       "    <tr>\n",
       "      <th>0</th>\n",
       "      <td>2007-05-29</td>\n",
       "      <td>CULEX PIPIENS/RESTUANS</td>\n",
       "      <td>T002</td>\n",
       "      <td>41.95469</td>\n",
       "      <td>-87.800991</td>\n",
       "      <td>1</td>\n",
       "      <td>0</td>\n",
       "      <td>5</td>\n",
       "      <td>29</td>\n",
       "    </tr>\n",
       "    <tr>\n",
       "      <th>1</th>\n",
       "      <td>2007-05-29</td>\n",
       "      <td>CULEX RESTUANS</td>\n",
       "      <td>T002</td>\n",
       "      <td>41.95469</td>\n",
       "      <td>-87.800991</td>\n",
       "      <td>1</td>\n",
       "      <td>0</td>\n",
       "      <td>5</td>\n",
       "      <td>29</td>\n",
       "    </tr>\n",
       "  </tbody>\n",
       "</table>\n",
       "</div>"
      ],
      "text/plain": [
       "        Date                 Species  Trap  Latitude  Longitude  NumMosquitos  \\\n",
       "0 2007-05-29  CULEX PIPIENS/RESTUANS  T002  41.95469 -87.800991             1   \n",
       "1 2007-05-29          CULEX RESTUANS  T002  41.95469 -87.800991             1   \n",
       "\n",
       "   WnvPresent  Month  Day  \n",
       "0           0      5   29  \n",
       "1           0      5   29  "
      ]
     },
     "execution_count": 567,
     "metadata": {},
     "output_type": "execute_result"
    }
   ],
   "source": [
    "train = train.drop(['Block','AddressAccuracy','Address','Street', 'AddressNumberAndStreet','AddressAccuracy'], axis= 1)\n",
    "train.head(2)"
   ]
  },
  {
   "cell_type": "code",
   "execution_count": 568,
   "metadata": {
    "collapsed": false
   },
   "outputs": [],
   "source": [
    "train.columns = map(str.lower, train.columns)"
   ]
  },
  {
   "cell_type": "code",
   "execution_count": 569,
   "metadata": {
    "collapsed": false
   },
   "outputs": [
    {
     "data": {
      "text/html": [
       "<div>\n",
       "<table border=\"1\" class=\"dataframe\">\n",
       "  <thead>\n",
       "    <tr style=\"text-align: right;\">\n",
       "      <th></th>\n",
       "      <th>date</th>\n",
       "      <th>species</th>\n",
       "      <th>trap</th>\n",
       "      <th>latitude</th>\n",
       "      <th>longitude</th>\n",
       "      <th>nummosquitos</th>\n",
       "      <th>wnvpresent</th>\n",
       "      <th>month</th>\n",
       "      <th>day</th>\n",
       "    </tr>\n",
       "  </thead>\n",
       "  <tbody>\n",
       "    <tr>\n",
       "      <th>0</th>\n",
       "      <td>2007-05-29</td>\n",
       "      <td>CULEX PIPIENS/RESTUANS</td>\n",
       "      <td>T002</td>\n",
       "      <td>41.95469</td>\n",
       "      <td>-87.800991</td>\n",
       "      <td>1</td>\n",
       "      <td>0</td>\n",
       "      <td>5</td>\n",
       "      <td>29</td>\n",
       "    </tr>\n",
       "    <tr>\n",
       "      <th>1</th>\n",
       "      <td>2007-05-29</td>\n",
       "      <td>CULEX RESTUANS</td>\n",
       "      <td>T002</td>\n",
       "      <td>41.95469</td>\n",
       "      <td>-87.800991</td>\n",
       "      <td>1</td>\n",
       "      <td>0</td>\n",
       "      <td>5</td>\n",
       "      <td>29</td>\n",
       "    </tr>\n",
       "  </tbody>\n",
       "</table>\n",
       "</div>"
      ],
      "text/plain": [
       "        date                 species  trap  latitude  longitude  nummosquitos  \\\n",
       "0 2007-05-29  CULEX PIPIENS/RESTUANS  T002  41.95469 -87.800991             1   \n",
       "1 2007-05-29          CULEX RESTUANS  T002  41.95469 -87.800991             1   \n",
       "\n",
       "   wnvpresent  month  day  \n",
       "0           0      5   29  \n",
       "1           0      5   29  "
      ]
     },
     "execution_count": 569,
     "metadata": {},
     "output_type": "execute_result"
    }
   ],
   "source": [
    "train.head(2)"
   ]
  },
  {
   "cell_type": "code",
   "execution_count": 570,
   "metadata": {
    "collapsed": true
   },
   "outputs": [],
   "source": [
    "_train=train._get_numeric_data()"
   ]
  },
  {
   "cell_type": "code",
   "execution_count": 571,
   "metadata": {
    "collapsed": false
   },
   "outputs": [
    {
     "data": {
      "image/png": "[encoded data removed]",
      "text/plain": [
       "<matplotlib.figure.Figure at 0x133c3a950>"
      ]
     },
     "metadata": {},
     "output_type": "display_data"
    }
   ],
   "source": [
    "from pandas.tools.plotting import scatter_matrix\n",
    "scatter_matrix(_train)\n",
    "plt.show()"
   ]
  },
  {
   "cell_type": "code",
   "execution_count": 414,
   "metadata": {
    "collapsed": false
   },
   "outputs": [
    {
     "data": {
      "text/plain": [
       "<matplotlib.axes._subplots.AxesSubplot at 0x13b7b7d50>"
      ]
     },
     "execution_count": 414,
     "metadata": {},
     "output_type": "execute_result"
    },
    {
     "data": {
      "image/png": "[encoded data removed]",
      "text/plain": [
       "<matplotlib.figure.Figure at 0x13f089590>"
      ]
     },
     "metadata": {},
     "output_type": "display_data"
    }
   ],
   "source": [
    "import seaborn as sns\n",
    "sns.heatmap(train.corr())"
   ]
  },
  {
   "cell_type": "code",
   "execution_count": 415,
   "metadata": {
    "collapsed": false
   },
   "outputs": [
    {
     "name": "stderr",
     "output_type": "stream",
     "text": [
      "/anaconda/lib/python2.7/site-packages/ipykernel/__main__.py:1: FutureWarning: sort(columns=....) is deprecated, use sort_values(by=.....)\n",
      "  if __name__ == '__main__':\n"
     ]
    },
    {
     "data": {
      "text/html": [
       "<div>\n",
       "<table border=\"1\" class=\"dataframe\">\n",
       "  <thead>\n",
       "    <tr style=\"text-align: right;\">\n",
       "      <th></th>\n",
       "      <th>date</th>\n",
       "      <th>species</th>\n",
       "      <th>trap</th>\n",
       "      <th>latitude</th>\n",
       "      <th>longitude</th>\n",
       "      <th>nummosquitos</th>\n",
       "      <th>wnvpresent</th>\n",
       "      <th>month</th>\n",
       "      <th>day</th>\n",
       "    </tr>\n",
       "  </thead>\n",
       "  <tbody>\n",
       "    <tr>\n",
       "      <th>1233</th>\n",
       "      <td>2007-08-01</td>\n",
       "      <td>CULEX PIPIENS</td>\n",
       "      <td>T115</td>\n",
       "      <td>41.673408</td>\n",
       "      <td>-87.599862</td>\n",
       "      <td>50</td>\n",
       "      <td>0</td>\n",
       "      <td>8</td>\n",
       "      <td>1</td>\n",
       "    </tr>\n",
       "    <tr>\n",
       "      <th>1406</th>\n",
       "      <td>2007-08-02</td>\n",
       "      <td>CULEX PIPIENS</td>\n",
       "      <td>T138</td>\n",
       "      <td>41.726465</td>\n",
       "      <td>-87.585413</td>\n",
       "      <td>50</td>\n",
       "      <td>0</td>\n",
       "      <td>8</td>\n",
       "      <td>2</td>\n",
       "    </tr>\n",
       "    <tr>\n",
       "      <th>4284</th>\n",
       "      <td>2009-06-22</td>\n",
       "      <td>CULEX PIPIENS/RESTUANS</td>\n",
       "      <td>T900</td>\n",
       "      <td>41.974689</td>\n",
       "      <td>-87.890615</td>\n",
       "      <td>50</td>\n",
       "      <td>0</td>\n",
       "      <td>6</td>\n",
       "      <td>22</td>\n",
       "    </tr>\n",
       "    <tr>\n",
       "      <th>4285</th>\n",
       "      <td>2009-06-22</td>\n",
       "      <td>CULEX PIPIENS/RESTUANS</td>\n",
       "      <td>T900</td>\n",
       "      <td>41.974689</td>\n",
       "      <td>-87.890615</td>\n",
       "      <td>50</td>\n",
       "      <td>0</td>\n",
       "      <td>6</td>\n",
       "      <td>22</td>\n",
       "    </tr>\n",
       "    <tr>\n",
       "      <th>4287</th>\n",
       "      <td>2009-06-22</td>\n",
       "      <td>CULEX PIPIENS/RESTUANS</td>\n",
       "      <td>T900</td>\n",
       "      <td>41.974689</td>\n",
       "      <td>-87.890615</td>\n",
       "      <td>50</td>\n",
       "      <td>0</td>\n",
       "      <td>6</td>\n",
       "      <td>22</td>\n",
       "    </tr>\n",
       "    <tr>\n",
       "      <th>1434</th>\n",
       "      <td>2007-08-02</td>\n",
       "      <td>CULEX PIPIENS/RESTUANS</td>\n",
       "      <td>T215</td>\n",
       "      <td>41.686398</td>\n",
       "      <td>-87.531635</td>\n",
       "      <td>50</td>\n",
       "      <td>0</td>\n",
       "      <td>8</td>\n",
       "      <td>2</td>\n",
       "    </tr>\n",
       "    <tr>\n",
       "      <th>1433</th>\n",
       "      <td>2007-08-02</td>\n",
       "      <td>CULEX PIPIENS/RESTUANS</td>\n",
       "      <td>T215</td>\n",
       "      <td>41.686398</td>\n",
       "      <td>-87.531635</td>\n",
       "      <td>50</td>\n",
       "      <td>0</td>\n",
       "      <td>8</td>\n",
       "      <td>2</td>\n",
       "    </tr>\n",
       "    <tr>\n",
       "      <th>1432</th>\n",
       "      <td>2007-08-02</td>\n",
       "      <td>CULEX PIPIENS/RESTUANS</td>\n",
       "      <td>T215</td>\n",
       "      <td>41.686398</td>\n",
       "      <td>-87.531635</td>\n",
       "      <td>50</td>\n",
       "      <td>0</td>\n",
       "      <td>8</td>\n",
       "      <td>2</td>\n",
       "    </tr>\n",
       "    <tr>\n",
       "      <th>1430</th>\n",
       "      <td>2007-08-02</td>\n",
       "      <td>CULEX PIPIENS</td>\n",
       "      <td>T212</td>\n",
       "      <td>41.680946</td>\n",
       "      <td>-87.535198</td>\n",
       "      <td>50</td>\n",
       "      <td>0</td>\n",
       "      <td>8</td>\n",
       "      <td>2</td>\n",
       "    </tr>\n",
       "    <tr>\n",
       "      <th>1428</th>\n",
       "      <td>2007-08-02</td>\n",
       "      <td>CULEX PIPIENS</td>\n",
       "      <td>T212</td>\n",
       "      <td>41.680946</td>\n",
       "      <td>-87.535198</td>\n",
       "      <td>50</td>\n",
       "      <td>0</td>\n",
       "      <td>8</td>\n",
       "      <td>2</td>\n",
       "    </tr>\n",
       "    <tr>\n",
       "      <th>4288</th>\n",
       "      <td>2009-06-22</td>\n",
       "      <td>CULEX PIPIENS/RESTUANS</td>\n",
       "      <td>T900</td>\n",
       "      <td>41.974689</td>\n",
       "      <td>-87.890615</td>\n",
       "      <td>50</td>\n",
       "      <td>0</td>\n",
       "      <td>6</td>\n",
       "      <td>22</td>\n",
       "    </tr>\n",
       "    <tr>\n",
       "      <th>1424</th>\n",
       "      <td>2007-08-02</td>\n",
       "      <td>CULEX PIPIENS/RESTUANS</td>\n",
       "      <td>T212</td>\n",
       "      <td>41.680946</td>\n",
       "      <td>-87.535198</td>\n",
       "      <td>50</td>\n",
       "      <td>0</td>\n",
       "      <td>8</td>\n",
       "      <td>2</td>\n",
       "    </tr>\n",
       "    <tr>\n",
       "      <th>4289</th>\n",
       "      <td>2009-06-22</td>\n",
       "      <td>CULEX PIPIENS/RESTUANS</td>\n",
       "      <td>T900</td>\n",
       "      <td>41.974689</td>\n",
       "      <td>-87.890615</td>\n",
       "      <td>50</td>\n",
       "      <td>0</td>\n",
       "      <td>6</td>\n",
       "      <td>22</td>\n",
       "    </tr>\n",
       "    <tr>\n",
       "      <th>4290</th>\n",
       "      <td>2009-06-22</td>\n",
       "      <td>CULEX PIPIENS/RESTUANS</td>\n",
       "      <td>T900</td>\n",
       "      <td>41.974689</td>\n",
       "      <td>-87.890615</td>\n",
       "      <td>50</td>\n",
       "      <td>0</td>\n",
       "      <td>6</td>\n",
       "      <td>22</td>\n",
       "    </tr>\n",
       "    <tr>\n",
       "      <th>4291</th>\n",
       "      <td>2009-06-22</td>\n",
       "      <td>CULEX PIPIENS/RESTUANS</td>\n",
       "      <td>T900</td>\n",
       "      <td>41.974689</td>\n",
       "      <td>-87.890615</td>\n",
       "      <td>50</td>\n",
       "      <td>0</td>\n",
       "      <td>6</td>\n",
       "      <td>22</td>\n",
       "    </tr>\n",
       "    <tr>\n",
       "      <th>4292</th>\n",
       "      <td>2009-06-22</td>\n",
       "      <td>CULEX PIPIENS/RESTUANS</td>\n",
       "      <td>T900</td>\n",
       "      <td>41.974689</td>\n",
       "      <td>-87.890615</td>\n",
       "      <td>50</td>\n",
       "      <td>0</td>\n",
       "      <td>6</td>\n",
       "      <td>22</td>\n",
       "    </tr>\n",
       "    <tr>\n",
       "      <th>4293</th>\n",
       "      <td>2009-06-22</td>\n",
       "      <td>CULEX PIPIENS/RESTUANS</td>\n",
       "      <td>T900</td>\n",
       "      <td>41.974689</td>\n",
       "      <td>-87.890615</td>\n",
       "      <td>50</td>\n",
       "      <td>0</td>\n",
       "      <td>6</td>\n",
       "      <td>22</td>\n",
       "    </tr>\n",
       "    <tr>\n",
       "      <th>4294</th>\n",
       "      <td>2009-06-22</td>\n",
       "      <td>CULEX PIPIENS/RESTUANS</td>\n",
       "      <td>T900</td>\n",
       "      <td>41.974689</td>\n",
       "      <td>-87.890615</td>\n",
       "      <td>50</td>\n",
       "      <td>0</td>\n",
       "      <td>6</td>\n",
       "      <td>22</td>\n",
       "    </tr>\n",
       "    <tr>\n",
       "      <th>4297</th>\n",
       "      <td>2009-06-22</td>\n",
       "      <td>CULEX PIPIENS/RESTUANS</td>\n",
       "      <td>T900</td>\n",
       "      <td>41.974689</td>\n",
       "      <td>-87.890615</td>\n",
       "      <td>50</td>\n",
       "      <td>0</td>\n",
       "      <td>6</td>\n",
       "      <td>22</td>\n",
       "    </tr>\n",
       "    <tr>\n",
       "      <th>1411</th>\n",
       "      <td>2007-08-02</td>\n",
       "      <td>CULEX PIPIENS</td>\n",
       "      <td>T138</td>\n",
       "      <td>41.726465</td>\n",
       "      <td>-87.585413</td>\n",
       "      <td>50</td>\n",
       "      <td>1</td>\n",
       "      <td>8</td>\n",
       "      <td>2</td>\n",
       "    </tr>\n",
       "    <tr>\n",
       "      <th>4298</th>\n",
       "      <td>2009-06-22</td>\n",
       "      <td>CULEX PIPIENS/RESTUANS</td>\n",
       "      <td>T900</td>\n",
       "      <td>41.974689</td>\n",
       "      <td>-87.890615</td>\n",
       "      <td>50</td>\n",
       "      <td>0</td>\n",
       "      <td>6</td>\n",
       "      <td>22</td>\n",
       "    </tr>\n",
       "    <tr>\n",
       "      <th>4299</th>\n",
       "      <td>2009-06-22</td>\n",
       "      <td>CULEX PIPIENS/RESTUANS</td>\n",
       "      <td>T900</td>\n",
       "      <td>41.974689</td>\n",
       "      <td>-87.890615</td>\n",
       "      <td>50</td>\n",
       "      <td>0</td>\n",
       "      <td>6</td>\n",
       "      <td>22</td>\n",
       "    </tr>\n",
       "    <tr>\n",
       "      <th>1408</th>\n",
       "      <td>2007-08-02</td>\n",
       "      <td>CULEX PIPIENS</td>\n",
       "      <td>T138</td>\n",
       "      <td>41.726465</td>\n",
       "      <td>-87.585413</td>\n",
       "      <td>50</td>\n",
       "      <td>0</td>\n",
       "      <td>8</td>\n",
       "      <td>2</td>\n",
       "    </tr>\n",
       "    <tr>\n",
       "      <th>4283</th>\n",
       "      <td>2009-06-22</td>\n",
       "      <td>CULEX PIPIENS/RESTUANS</td>\n",
       "      <td>T900</td>\n",
       "      <td>41.974689</td>\n",
       "      <td>-87.890615</td>\n",
       "      <td>50</td>\n",
       "      <td>0</td>\n",
       "      <td>6</td>\n",
       "      <td>22</td>\n",
       "    </tr>\n",
       "    <tr>\n",
       "      <th>4282</th>\n",
       "      <td>2009-06-22</td>\n",
       "      <td>CULEX PIPIENS/RESTUANS</td>\n",
       "      <td>T900</td>\n",
       "      <td>41.974689</td>\n",
       "      <td>-87.890615</td>\n",
       "      <td>50</td>\n",
       "      <td>0</td>\n",
       "      <td>6</td>\n",
       "      <td>22</td>\n",
       "    </tr>\n",
       "    <tr>\n",
       "      <th>4281</th>\n",
       "      <td>2009-06-22</td>\n",
       "      <td>CULEX PIPIENS/RESTUANS</td>\n",
       "      <td>T900</td>\n",
       "      <td>41.974689</td>\n",
       "      <td>-87.890615</td>\n",
       "      <td>50</td>\n",
       "      <td>0</td>\n",
       "      <td>6</td>\n",
       "      <td>22</td>\n",
       "    </tr>\n",
       "    <tr>\n",
       "      <th>1464</th>\n",
       "      <td>2007-08-03</td>\n",
       "      <td>CULEX PIPIENS/RESTUANS</td>\n",
       "      <td>T215</td>\n",
       "      <td>41.686398</td>\n",
       "      <td>-87.531635</td>\n",
       "      <td>50</td>\n",
       "      <td>0</td>\n",
       "      <td>8</td>\n",
       "      <td>3</td>\n",
       "    </tr>\n",
       "    <tr>\n",
       "      <th>4168</th>\n",
       "      <td>2009-06-15</td>\n",
       "      <td>CULEX PIPIENS/RESTUANS</td>\n",
       "      <td>T900</td>\n",
       "      <td>41.974689</td>\n",
       "      <td>-87.890615</td>\n",
       "      <td>50</td>\n",
       "      <td>0</td>\n",
       "      <td>6</td>\n",
       "      <td>15</td>\n",
       "    </tr>\n",
       "    <tr>\n",
       "      <th>9508</th>\n",
       "      <td>2013-08-08</td>\n",
       "      <td>CULEX PIPIENS/RESTUANS</td>\n",
       "      <td>T009</td>\n",
       "      <td>41.992478</td>\n",
       "      <td>-87.862995</td>\n",
       "      <td>50</td>\n",
       "      <td>0</td>\n",
       "      <td>8</td>\n",
       "      <td>8</td>\n",
       "    </tr>\n",
       "    <tr>\n",
       "      <th>4197</th>\n",
       "      <td>2009-06-19</td>\n",
       "      <td>CULEX PIPIENS/RESTUANS</td>\n",
       "      <td>T159</td>\n",
       "      <td>41.732984</td>\n",
       "      <td>-87.649642</td>\n",
       "      <td>50</td>\n",
       "      <td>0</td>\n",
       "      <td>6</td>\n",
       "      <td>19</td>\n",
       "    </tr>\n",
       "    <tr>\n",
       "      <th>...</th>\n",
       "      <td>...</td>\n",
       "      <td>...</td>\n",
       "      <td>...</td>\n",
       "      <td>...</td>\n",
       "      <td>...</td>\n",
       "      <td>...</td>\n",
       "      <td>...</td>\n",
       "      <td>...</td>\n",
       "      <td>...</td>\n",
       "    </tr>\n",
       "    <tr>\n",
       "      <th>5723</th>\n",
       "      <td>2009-09-14</td>\n",
       "      <td>CULEX RESTUANS</td>\n",
       "      <td>T900</td>\n",
       "      <td>41.974689</td>\n",
       "      <td>-87.890615</td>\n",
       "      <td>1</td>\n",
       "      <td>0</td>\n",
       "      <td>9</td>\n",
       "      <td>14</td>\n",
       "    </tr>\n",
       "    <tr>\n",
       "      <th>5679</th>\n",
       "      <td>2009-09-14</td>\n",
       "      <td>CULEX RESTUANS</td>\n",
       "      <td>T039</td>\n",
       "      <td>41.911824</td>\n",
       "      <td>-87.726737</td>\n",
       "      <td>1</td>\n",
       "      <td>0</td>\n",
       "      <td>9</td>\n",
       "      <td>14</td>\n",
       "    </tr>\n",
       "    <tr>\n",
       "      <th>5681</th>\n",
       "      <td>2009-09-14</td>\n",
       "      <td>CULEX PIPIENS</td>\n",
       "      <td>T061</td>\n",
       "      <td>41.801179</td>\n",
       "      <td>-87.679447</td>\n",
       "      <td>1</td>\n",
       "      <td>0</td>\n",
       "      <td>9</td>\n",
       "      <td>14</td>\n",
       "    </tr>\n",
       "    <tr>\n",
       "      <th>5687</th>\n",
       "      <td>2009-09-14</td>\n",
       "      <td>CULEX PIPIENS/RESTUANS</td>\n",
       "      <td>T079</td>\n",
       "      <td>41.766202</td>\n",
       "      <td>-87.562889</td>\n",
       "      <td>1</td>\n",
       "      <td>0</td>\n",
       "      <td>9</td>\n",
       "      <td>14</td>\n",
       "    </tr>\n",
       "    <tr>\n",
       "      <th>5688</th>\n",
       "      <td>2009-09-14</td>\n",
       "      <td>CULEX PIPIENS/RESTUANS</td>\n",
       "      <td>T080</td>\n",
       "      <td>41.754676</td>\n",
       "      <td>-87.612922</td>\n",
       "      <td>1</td>\n",
       "      <td>0</td>\n",
       "      <td>9</td>\n",
       "      <td>14</td>\n",
       "    </tr>\n",
       "    <tr>\n",
       "      <th>5689</th>\n",
       "      <td>2009-09-14</td>\n",
       "      <td>CULEX PIPIENS/RESTUANS</td>\n",
       "      <td>T081</td>\n",
       "      <td>41.821582</td>\n",
       "      <td>-87.627796</td>\n",
       "      <td>1</td>\n",
       "      <td>0</td>\n",
       "      <td>9</td>\n",
       "      <td>14</td>\n",
       "    </tr>\n",
       "    <tr>\n",
       "      <th>5691</th>\n",
       "      <td>2009-09-14</td>\n",
       "      <td>CULEX RESTUANS</td>\n",
       "      <td>T082</td>\n",
       "      <td>41.803423</td>\n",
       "      <td>-87.642984</td>\n",
       "      <td>1</td>\n",
       "      <td>0</td>\n",
       "      <td>9</td>\n",
       "      <td>14</td>\n",
       "    </tr>\n",
       "    <tr>\n",
       "      <th>5698</th>\n",
       "      <td>2009-09-14</td>\n",
       "      <td>CULEX RESTUANS</td>\n",
       "      <td>T115</td>\n",
       "      <td>41.673408</td>\n",
       "      <td>-87.599862</td>\n",
       "      <td>1</td>\n",
       "      <td>0</td>\n",
       "      <td>9</td>\n",
       "      <td>14</td>\n",
       "    </tr>\n",
       "    <tr>\n",
       "      <th>5706</th>\n",
       "      <td>2009-09-14</td>\n",
       "      <td>CULEX PIPIENS</td>\n",
       "      <td>T209</td>\n",
       "      <td>41.740641</td>\n",
       "      <td>-87.546587</td>\n",
       "      <td>1</td>\n",
       "      <td>0</td>\n",
       "      <td>9</td>\n",
       "      <td>14</td>\n",
       "    </tr>\n",
       "    <tr>\n",
       "      <th>5708</th>\n",
       "      <td>2009-09-14</td>\n",
       "      <td>CULEX RESTUANS</td>\n",
       "      <td>T212</td>\n",
       "      <td>41.680946</td>\n",
       "      <td>-87.535198</td>\n",
       "      <td>1</td>\n",
       "      <td>0</td>\n",
       "      <td>9</td>\n",
       "      <td>14</td>\n",
       "    </tr>\n",
       "    <tr>\n",
       "      <th>5709</th>\n",
       "      <td>2009-09-14</td>\n",
       "      <td>CULEX PIPIENS/RESTUANS</td>\n",
       "      <td>T128</td>\n",
       "      <td>41.704572</td>\n",
       "      <td>-87.565666</td>\n",
       "      <td>1</td>\n",
       "      <td>0</td>\n",
       "      <td>9</td>\n",
       "      <td>14</td>\n",
       "    </tr>\n",
       "    <tr>\n",
       "      <th>5710</th>\n",
       "      <td>2009-09-14</td>\n",
       "      <td>CULEX PIPIENS</td>\n",
       "      <td>T128</td>\n",
       "      <td>41.704572</td>\n",
       "      <td>-87.565666</td>\n",
       "      <td>1</td>\n",
       "      <td>0</td>\n",
       "      <td>9</td>\n",
       "      <td>14</td>\n",
       "    </tr>\n",
       "    <tr>\n",
       "      <th>5718</th>\n",
       "      <td>2009-09-14</td>\n",
       "      <td>CULEX PIPIENS/RESTUANS</td>\n",
       "      <td>T900</td>\n",
       "      <td>41.974689</td>\n",
       "      <td>-87.890615</td>\n",
       "      <td>1</td>\n",
       "      <td>0</td>\n",
       "      <td>9</td>\n",
       "      <td>14</td>\n",
       "    </tr>\n",
       "    <tr>\n",
       "      <th>5721</th>\n",
       "      <td>2009-09-14</td>\n",
       "      <td>CULEX RESTUANS</td>\n",
       "      <td>T900</td>\n",
       "      <td>41.974689</td>\n",
       "      <td>-87.890615</td>\n",
       "      <td>1</td>\n",
       "      <td>0</td>\n",
       "      <td>9</td>\n",
       "      <td>14</td>\n",
       "    </tr>\n",
       "    <tr>\n",
       "      <th>5725</th>\n",
       "      <td>2009-09-14</td>\n",
       "      <td>CULEX PIPIENS</td>\n",
       "      <td>T900</td>\n",
       "      <td>41.974689</td>\n",
       "      <td>-87.890615</td>\n",
       "      <td>1</td>\n",
       "      <td>0</td>\n",
       "      <td>9</td>\n",
       "      <td>14</td>\n",
       "    </tr>\n",
       "    <tr>\n",
       "      <th>5784</th>\n",
       "      <td>2009-09-17</td>\n",
       "      <td>CULEX RESTUANS</td>\n",
       "      <td>T218</td>\n",
       "      <td>41.948167</td>\n",
       "      <td>-87.730698</td>\n",
       "      <td>1</td>\n",
       "      <td>0</td>\n",
       "      <td>9</td>\n",
       "      <td>17</td>\n",
       "    </tr>\n",
       "    <tr>\n",
       "      <th>5727</th>\n",
       "      <td>2009-09-14</td>\n",
       "      <td>CULEX RESTUANS</td>\n",
       "      <td>T903</td>\n",
       "      <td>41.957799</td>\n",
       "      <td>-87.930995</td>\n",
       "      <td>1</td>\n",
       "      <td>0</td>\n",
       "      <td>9</td>\n",
       "      <td>14</td>\n",
       "    </tr>\n",
       "    <tr>\n",
       "      <th>5728</th>\n",
       "      <td>2009-09-14</td>\n",
       "      <td>CULEX PIPIENS</td>\n",
       "      <td>T903</td>\n",
       "      <td>41.957799</td>\n",
       "      <td>-87.930995</td>\n",
       "      <td>1</td>\n",
       "      <td>0</td>\n",
       "      <td>9</td>\n",
       "      <td>14</td>\n",
       "    </tr>\n",
       "    <tr>\n",
       "      <th>5738</th>\n",
       "      <td>2009-09-14</td>\n",
       "      <td>CULEX PIPIENS/RESTUANS</td>\n",
       "      <td>T224</td>\n",
       "      <td>41.947227</td>\n",
       "      <td>-87.671457</td>\n",
       "      <td>1</td>\n",
       "      <td>0</td>\n",
       "      <td>9</td>\n",
       "      <td>14</td>\n",
       "    </tr>\n",
       "    <tr>\n",
       "      <th>5753</th>\n",
       "      <td>2009-09-17</td>\n",
       "      <td>CULEX RESTUANS</td>\n",
       "      <td>T054</td>\n",
       "      <td>41.921965</td>\n",
       "      <td>-87.632085</td>\n",
       "      <td>1</td>\n",
       "      <td>0</td>\n",
       "      <td>9</td>\n",
       "      <td>17</td>\n",
       "    </tr>\n",
       "    <tr>\n",
       "      <th>5754</th>\n",
       "      <td>2009-09-17</td>\n",
       "      <td>CULEX RESTUANS</td>\n",
       "      <td>T054</td>\n",
       "      <td>41.921965</td>\n",
       "      <td>-87.632085</td>\n",
       "      <td>1</td>\n",
       "      <td>0</td>\n",
       "      <td>9</td>\n",
       "      <td>17</td>\n",
       "    </tr>\n",
       "    <tr>\n",
       "      <th>5755</th>\n",
       "      <td>2009-09-17</td>\n",
       "      <td>CULEX PIPIENS/RESTUANS</td>\n",
       "      <td>T094</td>\n",
       "      <td>41.720848</td>\n",
       "      <td>-87.666014</td>\n",
       "      <td>1</td>\n",
       "      <td>0</td>\n",
       "      <td>9</td>\n",
       "      <td>17</td>\n",
       "    </tr>\n",
       "    <tr>\n",
       "      <th>5758</th>\n",
       "      <td>2009-09-17</td>\n",
       "      <td>CULEX RESTUANS</td>\n",
       "      <td>T159</td>\n",
       "      <td>41.732984</td>\n",
       "      <td>-87.649642</td>\n",
       "      <td>1</td>\n",
       "      <td>0</td>\n",
       "      <td>9</td>\n",
       "      <td>17</td>\n",
       "    </tr>\n",
       "    <tr>\n",
       "      <th>5760</th>\n",
       "      <td>2009-09-17</td>\n",
       "      <td>CULEX PIPIENS</td>\n",
       "      <td>T011</td>\n",
       "      <td>41.944869</td>\n",
       "      <td>-87.832763</td>\n",
       "      <td>1</td>\n",
       "      <td>0</td>\n",
       "      <td>9</td>\n",
       "      <td>17</td>\n",
       "    </tr>\n",
       "    <tr>\n",
       "      <th>5762</th>\n",
       "      <td>2009-09-17</td>\n",
       "      <td>CULEX RESTUANS</td>\n",
       "      <td>T016</td>\n",
       "      <td>42.011601</td>\n",
       "      <td>-87.811506</td>\n",
       "      <td>1</td>\n",
       "      <td>0</td>\n",
       "      <td>9</td>\n",
       "      <td>17</td>\n",
       "    </tr>\n",
       "    <tr>\n",
       "      <th>5763</th>\n",
       "      <td>2009-09-17</td>\n",
       "      <td>CULEX PIPIENS</td>\n",
       "      <td>T016</td>\n",
       "      <td>42.011601</td>\n",
       "      <td>-87.811506</td>\n",
       "      <td>1</td>\n",
       "      <td>0</td>\n",
       "      <td>9</td>\n",
       "      <td>17</td>\n",
       "    </tr>\n",
       "    <tr>\n",
       "      <th>5766</th>\n",
       "      <td>2009-09-17</td>\n",
       "      <td>CULEX PIPIENS</td>\n",
       "      <td>T033</td>\n",
       "      <td>41.906638</td>\n",
       "      <td>-87.701431</td>\n",
       "      <td>1</td>\n",
       "      <td>0</td>\n",
       "      <td>9</td>\n",
       "      <td>17</td>\n",
       "    </tr>\n",
       "    <tr>\n",
       "      <th>5773</th>\n",
       "      <td>2009-09-17</td>\n",
       "      <td>CULEX PIPIENS/RESTUANS</td>\n",
       "      <td>T147</td>\n",
       "      <td>41.932094</td>\n",
       "      <td>-87.700117</td>\n",
       "      <td>1</td>\n",
       "      <td>0</td>\n",
       "      <td>9</td>\n",
       "      <td>17</td>\n",
       "    </tr>\n",
       "    <tr>\n",
       "      <th>5775</th>\n",
       "      <td>2009-09-17</td>\n",
       "      <td>CULEX PIPIENS</td>\n",
       "      <td>T147</td>\n",
       "      <td>41.932094</td>\n",
       "      <td>-87.700117</td>\n",
       "      <td>1</td>\n",
       "      <td>0</td>\n",
       "      <td>9</td>\n",
       "      <td>17</td>\n",
       "    </tr>\n",
       "    <tr>\n",
       "      <th>10505</th>\n",
       "      <td>2013-09-26</td>\n",
       "      <td>CULEX PIPIENS/RESTUANS</td>\n",
       "      <td>T235</td>\n",
       "      <td>41.776428</td>\n",
       "      <td>-87.627096</td>\n",
       "      <td>1</td>\n",
       "      <td>0</td>\n",
       "      <td>9</td>\n",
       "      <td>26</td>\n",
       "    </tr>\n",
       "  </tbody>\n",
       "</table>\n",
       "<p>10506 rows × 9 columns</p>\n",
       "</div>"
      ],
      "text/plain": [
       "            date                 species  trap   latitude  longitude  \\\n",
       "1233  2007-08-01           CULEX PIPIENS  T115  41.673408 -87.599862   \n",
       "1406  2007-08-02           CULEX PIPIENS  T138  41.726465 -87.585413   \n",
       "4284  2009-06-22  CULEX PIPIENS/RESTUANS  T900  41.974689 -87.890615   \n",
       "4285  2009-06-22  CULEX PIPIENS/RESTUANS  T900  41.974689 -87.890615   \n",
       "4287  2009-06-22  CULEX PIPIENS/RESTUANS  T900  41.974689 -87.890615   \n",
       "1434  2007-08-02  CULEX PIPIENS/RESTUANS  T215  41.686398 -87.531635   \n",
       "1433  2007-08-02  CULEX PIPIENS/RESTUANS  T215  41.686398 -87.531635   \n",
       "1432  2007-08-02  CULEX PIPIENS/RESTUANS  T215  41.686398 -87.531635   \n",
       "1430  2007-08-02           CULEX PIPIENS  T212  41.680946 -87.535198   \n",
       "1428  2007-08-02           CULEX PIPIENS  T212  41.680946 -87.535198   \n",
       "4288  2009-06-22  CULEX PIPIENS/RESTUANS  T900  41.974689 -87.890615   \n",
       "1424  2007-08-02  CULEX PIPIENS/RESTUANS  T212  41.680946 -87.535198   \n",
       "4289  2009-06-22  CULEX PIPIENS/RESTUANS  T900  41.974689 -87.890615   \n",
       "4290  2009-06-22  CULEX PIPIENS/RESTUANS  T900  41.974689 -87.890615   \n",
       "4291  2009-06-22  CULEX PIPIENS/RESTUANS  T900  41.974689 -87.890615   \n",
       "4292  2009-06-22  CULEX PIPIENS/RESTUANS  T900  41.974689 -87.890615   \n",
       "4293  2009-06-22  CULEX PIPIENS/RESTUANS  T900  41.974689 -87.890615   \n",
       "4294  2009-06-22  CULEX PIPIENS/RESTUANS  T900  41.974689 -87.890615   \n",
       "4297  2009-06-22  CULEX PIPIENS/RESTUANS  T900  41.974689 -87.890615   \n",
       "1411  2007-08-02           CULEX PIPIENS  T138  41.726465 -87.585413   \n",
       "4298  2009-06-22  CULEX PIPIENS/RESTUANS  T900  41.974689 -87.890615   \n",
       "4299  2009-06-22  CULEX PIPIENS/RESTUANS  T900  41.974689 -87.890615   \n",
       "1408  2007-08-02           CULEX PIPIENS  T138  41.726465 -87.585413   \n",
       "4283  2009-06-22  CULEX PIPIENS/RESTUANS  T900  41.974689 -87.890615   \n",
       "4282  2009-06-22  CULEX PIPIENS/RESTUANS  T900  41.974689 -87.890615   \n",
       "4281  2009-06-22  CULEX PIPIENS/RESTUANS  T900  41.974689 -87.890615   \n",
       "1464  2007-08-03  CULEX PIPIENS/RESTUANS  T215  41.686398 -87.531635   \n",
       "4168  2009-06-15  CULEX PIPIENS/RESTUANS  T900  41.974689 -87.890615   \n",
       "9508  2013-08-08  CULEX PIPIENS/RESTUANS  T009  41.992478 -87.862995   \n",
       "4197  2009-06-19  CULEX PIPIENS/RESTUANS  T159  41.732984 -87.649642   \n",
       "...          ...                     ...   ...        ...        ...   \n",
       "5723  2009-09-14          CULEX RESTUANS  T900  41.974689 -87.890615   \n",
       "5679  2009-09-14          CULEX RESTUANS  T039  41.911824 -87.726737   \n",
       "5681  2009-09-14           CULEX PIPIENS  T061  41.801179 -87.679447   \n",
       "5687  2009-09-14  CULEX PIPIENS/RESTUANS  T079  41.766202 -87.562889   \n",
       "5688  2009-09-14  CULEX PIPIENS/RESTUANS  T080  41.754676 -87.612922   \n",
       "5689  2009-09-14  CULEX PIPIENS/RESTUANS  T081  41.821582 -87.627796   \n",
       "5691  2009-09-14          CULEX RESTUANS  T082  41.803423 -87.642984   \n",
       "5698  2009-09-14          CULEX RESTUANS  T115  41.673408 -87.599862   \n",
       "5706  2009-09-14           CULEX PIPIENS  T209  41.740641 -87.546587   \n",
       "5708  2009-09-14          CULEX RESTUANS  T212  41.680946 -87.535198   \n",
       "5709  2009-09-14  CULEX PIPIENS/RESTUANS  T128  41.704572 -87.565666   \n",
       "5710  2009-09-14           CULEX PIPIENS  T128  41.704572 -87.565666   \n",
       "5718  2009-09-14  CULEX PIPIENS/RESTUANS  T900  41.974689 -87.890615   \n",
       "5721  2009-09-14          CULEX RESTUANS  T900  41.974689 -87.890615   \n",
       "5725  2009-09-14           CULEX PIPIENS  T900  41.974689 -87.890615   \n",
       "5784  2009-09-17          CULEX RESTUANS  T218  41.948167 -87.730698   \n",
       "5727  2009-09-14          CULEX RESTUANS  T903  41.957799 -87.930995   \n",
       "5728  2009-09-14           CULEX PIPIENS  T903  41.957799 -87.930995   \n",
       "5738  2009-09-14  CULEX PIPIENS/RESTUANS  T224  41.947227 -87.671457   \n",
       "5753  2009-09-17          CULEX RESTUANS  T054  41.921965 -87.632085   \n",
       "5754  2009-09-17          CULEX RESTUANS  T054  41.921965 -87.632085   \n",
       "5755  2009-09-17  CULEX PIPIENS/RESTUANS  T094  41.720848 -87.666014   \n",
       "5758  2009-09-17          CULEX RESTUANS  T159  41.732984 -87.649642   \n",
       "5760  2009-09-17           CULEX PIPIENS  T011  41.944869 -87.832763   \n",
       "5762  2009-09-17          CULEX RESTUANS  T016  42.011601 -87.811506   \n",
       "5763  2009-09-17           CULEX PIPIENS  T016  42.011601 -87.811506   \n",
       "5766  2009-09-17           CULEX PIPIENS  T033  41.906638 -87.701431   \n",
       "5773  2009-09-17  CULEX PIPIENS/RESTUANS  T147  41.932094 -87.700117   \n",
       "5775  2009-09-17           CULEX PIPIENS  T147  41.932094 -87.700117   \n",
       "10505 2013-09-26  CULEX PIPIENS/RESTUANS  T235  41.776428 -87.627096   \n",
       "\n",
       "       nummosquitos  wnvpresent  month  day  \n",
       "1233             50           0      8    1  \n",
       "1406             50           0      8    2  \n",
       "4284             50           0      6   22  \n",
       "4285             50           0      6   22  \n",
       "4287             50           0      6   22  \n",
       "1434             50           0      8    2  \n",
       "1433             50           0      8    2  \n",
       "1432             50           0      8    2  \n",
       "1430             50           0      8    2  \n",
       "1428             50           0      8    2  \n",
       "4288             50           0      6   22  \n",
       "1424             50           0      8    2  \n",
       "4289             50           0      6   22  \n",
       "4290             50           0      6   22  \n",
       "4291             50           0      6   22  \n",
       "4292             50           0      6   22  \n",
       "4293             50           0      6   22  \n",
       "4294             50           0      6   22  \n",
       "4297             50           0      6   22  \n",
       "1411             50           1      8    2  \n",
       "4298             50           0      6   22  \n",
       "4299             50           0      6   22  \n",
       "1408             50           0      8    2  \n",
       "4283             50           0      6   22  \n",
       "4282             50           0      6   22  \n",
       "4281             50           0      6   22  \n",
       "1464             50           0      8    3  \n",
       "4168             50           0      6   15  \n",
       "9508             50           0      8    8  \n",
       "4197             50           0      6   19  \n",
       "...             ...         ...    ...  ...  \n",
       "5723              1           0      9   14  \n",
       "5679              1           0      9   14  \n",
       "5681              1           0      9   14  \n",
       "5687              1           0      9   14  \n",
       "5688              1           0      9   14  \n",
       "5689              1           0      9   14  \n",
       "5691              1           0      9   14  \n",
       "5698              1           0      9   14  \n",
       "5706              1           0      9   14  \n",
       "5708              1           0      9   14  \n",
       "5709              1           0      9   14  \n",
       "5710              1           0      9   14  \n",
       "5718              1           0      9   14  \n",
       "5721              1           0      9   14  \n",
       "5725              1           0      9   14  \n",
       "5784              1           0      9   17  \n",
       "5727              1           0      9   14  \n",
       "5728              1           0      9   14  \n",
       "5738              1           0      9   14  \n",
       "5753              1           0      9   17  \n",
       "5754              1           0      9   17  \n",
       "5755              1           0      9   17  \n",
       "5758              1           0      9   17  \n",
       "5760              1           0      9   17  \n",
       "5762              1           0      9   17  \n",
       "5763              1           0      9   17  \n",
       "5766              1           0      9   17  \n",
       "5773              1           0      9   17  \n",
       "5775              1           0      9   17  \n",
       "10505             1           0      9   26  \n",
       "\n",
       "[10506 rows x 9 columns]"
      ]
     },
     "execution_count": 415,
     "metadata": {},
     "output_type": "execute_result"
    }
   ],
   "source": [
    "train.sort('nummosquitos', ascending=False)"
   ]
  },
  {
   "cell_type": "code",
   "execution_count": 463,
   "metadata": {
    "collapsed": false
   },
   "outputs": [
    {
     "data": {
      "text/plain": [
       "date        trap  species\n",
       "2007-05-29  T002  2           1\n",
       "                  3           1\n",
       "            T007  3           1\n",
       "            T015  2           1\n",
       "                  3           4\n",
       "            T045  3           2\n",
       "            T046  3           1\n",
       "            T048  2           1\n",
       "                  3           2\n",
       "            T049  3           1\n",
       "            T050  2           1\n",
       "            T054  2           2\n",
       "                  3           3\n",
       "            T086  2           1\n",
       "                  3           1\n",
       "            T091  3           1\n",
       "            T094  3           3\n",
       "            T096  1           1\n",
       "                  3           5\n",
       "            T129  2           1\n",
       "                  3           2\n",
       "            T143  2           1\n",
       "            T148  2           1\n",
       "            T153  3           1\n",
       "            T159  3           1\n",
       "2007-06-05  T002  1           1\n",
       "                  2           3\n",
       "                  3           5\n",
       "            T009  3           2\n",
       "            T011  3           1\n",
       "                             ..\n",
       "2013-09-26  T155  2           4\n",
       "            T158  2           8\n",
       "            T159  1           6\n",
       "                  2          21\n",
       "            T209  1           6\n",
       "                  2          11\n",
       "                  3           1\n",
       "            T212  1           2\n",
       "                  2           1\n",
       "            T220  3           8\n",
       "            T221  1           4\n",
       "                  2           5\n",
       "                  3           5\n",
       "            T222  2           1\n",
       "            T223  1           1\n",
       "                  2          11\n",
       "            T224  2           3\n",
       "            T225  2           3\n",
       "            T226  2           8\n",
       "            T227  1           1\n",
       "                  2           7\n",
       "            T228  2           3\n",
       "            T230  1           5\n",
       "                  2          13\n",
       "            T231  2           5\n",
       "            T232  2           1\n",
       "            T233  2           5\n",
       "            T235  2           1\n",
       "            T900  1          37\n",
       "                  2          43\n",
       "Name: nummosquitos, dtype: int64"
      ]
     },
     "execution_count": 463,
     "metadata": {},
     "output_type": "execute_result"
    }
   ],
   "source": [
    "train.groupby(by=['date','trap','species'])['nummosquitos'].sum()\n",
    "#x.sort_values('sum', ascending=False)\n",
    "#x.sum()"
   ]
  },
  {
   "cell_type": "code",
   "execution_count": 417,
   "metadata": {
    "collapsed": true
   },
   "outputs": [],
   "source": [
    "train['2dlocation'] = zip(train.latitude, train.longitude)"
   ]
  },
  {
   "cell_type": "code",
   "execution_count": 418,
   "metadata": {
    "collapsed": false,
    "scrolled": true
   },
   "outputs": [],
   "source": [
    "from math import cos, sin, sqrt, atan2, radians\n",
    "\n",
    "st1 = (radians(41.995), radians(- 87.933))\n",
    "st2 = (radians(41.186), radians(- 87.752))\n",
    "\n",
    "def calculate_distance_from_location(location, lat, lon):\n",
    "    \"\"\" \n",
    "    location is a tuple of a station\n",
    "    lat and lon are locations used to measure distance from station\n",
    "    \"\"\"\n",
    "    \n",
    "    # approximate radius of earth in km\n",
    "    R = 6373.0\n",
    "    \n",
    "    dlat = location[0] - lat\n",
    "    dlon = location[1] - lon\n",
    "    \n",
    "    a = sin(dlat / 2)**2 + cos(lat) * cos(location[0]) * sin(dlon / 2)**2\n",
    "    c = 2 * atan2(sqrt(a), sqrt(1 - a))\n",
    "    \n",
    "    distance = R * c\n",
    "    \n",
    "    return distance\n",
    "\n",
    "dist_from_st1 = []\n",
    "dist_from_st2 = []\n",
    "\n",
    "for row in train['2dlocation']:\n",
    "    #import pdb; pdb.set_trace()\n",
    "    _lat = radians(row[0])\n",
    "    _lon = radians(row[1])\n",
    "    \n",
    "    dist_from_st1.append(calculate_distance_from_location(location=st1, lat=_lat, lon=_lon))\n",
    "    dist_from_st2.append(calculate_distance_from_location(location=st2, lat=_lat, lon=_lon))\n",
    "    \n",
    "#print dist_from_st1[0], dist_from_st2[0]"
   ]
  },
  {
   "cell_type": "code",
   "execution_count": 419,
   "metadata": {
    "collapsed": false
   },
   "outputs": [],
   "source": [
    "train['dist_st1']=dist_from_st1\n",
    "train['dist_st2']=dist_from_st2"
   ]
  },
  {
   "cell_type": "code",
   "execution_count": 420,
   "metadata": {
    "collapsed": false,
    "scrolled": true
   },
   "outputs": [
    {
     "data": {
      "text/html": [
       "<div>\n",
       "<table border=\"1\" class=\"dataframe\">\n",
       "  <thead>\n",
       "    <tr style=\"text-align: right;\">\n",
       "      <th></th>\n",
       "      <th>date</th>\n",
       "      <th>species</th>\n",
       "      <th>trap</th>\n",
       "      <th>latitude</th>\n",
       "      <th>longitude</th>\n",
       "      <th>nummosquitos</th>\n",
       "      <th>wnvpresent</th>\n",
       "      <th>month</th>\n",
       "      <th>day</th>\n",
       "      <th>2dlocation</th>\n",
       "      <th>dist_st1</th>\n",
       "      <th>dist_st2</th>\n",
       "    </tr>\n",
       "  </thead>\n",
       "  <tbody>\n",
       "    <tr>\n",
       "      <th>0</th>\n",
       "      <td>2007-05-29</td>\n",
       "      <td>CULEX PIPIENS/RESTUANS</td>\n",
       "      <td>T002</td>\n",
       "      <td>41.95469</td>\n",
       "      <td>-87.800991</td>\n",
       "      <td>1</td>\n",
       "      <td>0</td>\n",
       "      <td>5</td>\n",
       "      <td>29</td>\n",
       "      <td>(41.95469, -87.800991)</td>\n",
       "      <td>11.801095</td>\n",
       "      <td>85.598395</td>\n",
       "    </tr>\n",
       "    <tr>\n",
       "      <th>1</th>\n",
       "      <td>2007-05-29</td>\n",
       "      <td>CULEX RESTUANS</td>\n",
       "      <td>T002</td>\n",
       "      <td>41.95469</td>\n",
       "      <td>-87.800991</td>\n",
       "      <td>1</td>\n",
       "      <td>0</td>\n",
       "      <td>5</td>\n",
       "      <td>29</td>\n",
       "      <td>(41.95469, -87.800991)</td>\n",
       "      <td>11.801095</td>\n",
       "      <td>85.598395</td>\n",
       "    </tr>\n",
       "  </tbody>\n",
       "</table>\n",
       "</div>"
      ],
      "text/plain": [
       "        date                 species  trap  latitude  longitude  nummosquitos  \\\n",
       "0 2007-05-29  CULEX PIPIENS/RESTUANS  T002  41.95469 -87.800991             1   \n",
       "1 2007-05-29          CULEX RESTUANS  T002  41.95469 -87.800991             1   \n",
       "\n",
       "   wnvpresent  month  day              2dlocation   dist_st1   dist_st2  \n",
       "0           0      5   29  (41.95469, -87.800991)  11.801095  85.598395  \n",
       "1           0      5   29  (41.95469, -87.800991)  11.801095  85.598395  "
      ]
     },
     "execution_count": 420,
     "metadata": {},
     "output_type": "execute_result"
    }
   ],
   "source": [
    "train.head(2)"
   ]
  },
  {
   "cell_type": "code",
   "execution_count": 421,
   "metadata": {
    "collapsed": false
   },
   "outputs": [],
   "source": [
    "def station(station1,station2):\n",
    "    if station1 < station2:\n",
    "        return 1\n",
    "    return 2\n",
    "Station=[]\n",
    "\n",
    "for index, row in train.iterrows():\n",
    "    \n",
    "    Station.append(station(station1=dist_st1, station2=dist_st2))"
   ]
  },
  {
   "cell_type": "code",
   "execution_count": 422,
   "metadata": {
    "collapsed": false
   },
   "outputs": [],
   "source": [
    "train['Station']=Station"
   ]
  },
  {
   "cell_type": "code",
   "execution_count": 423,
   "metadata": {
    "collapsed": false
   },
   "outputs": [
    {
     "data": {
      "text/html": [
       "<div>\n",
       "<table border=\"1\" class=\"dataframe\">\n",
       "  <thead>\n",
       "    <tr style=\"text-align: right;\">\n",
       "      <th></th>\n",
       "      <th>date</th>\n",
       "      <th>species</th>\n",
       "      <th>trap</th>\n",
       "      <th>latitude</th>\n",
       "      <th>longitude</th>\n",
       "      <th>nummosquitos</th>\n",
       "      <th>wnvpresent</th>\n",
       "      <th>month</th>\n",
       "      <th>day</th>\n",
       "      <th>2dlocation</th>\n",
       "      <th>dist_st1</th>\n",
       "      <th>dist_st2</th>\n",
       "      <th>Station</th>\n",
       "    </tr>\n",
       "  </thead>\n",
       "  <tbody>\n",
       "    <tr>\n",
       "      <th>0</th>\n",
       "      <td>2007-05-29</td>\n",
       "      <td>CULEX PIPIENS/RESTUANS</td>\n",
       "      <td>T002</td>\n",
       "      <td>41.95469</td>\n",
       "      <td>-87.800991</td>\n",
       "      <td>1</td>\n",
       "      <td>0</td>\n",
       "      <td>5</td>\n",
       "      <td>29</td>\n",
       "      <td>(41.95469, -87.800991)</td>\n",
       "      <td>11.801095</td>\n",
       "      <td>85.598395</td>\n",
       "      <td>1</td>\n",
       "    </tr>\n",
       "    <tr>\n",
       "      <th>1</th>\n",
       "      <td>2007-05-29</td>\n",
       "      <td>CULEX RESTUANS</td>\n",
       "      <td>T002</td>\n",
       "      <td>41.95469</td>\n",
       "      <td>-87.800991</td>\n",
       "      <td>1</td>\n",
       "      <td>0</td>\n",
       "      <td>5</td>\n",
       "      <td>29</td>\n",
       "      <td>(41.95469, -87.800991)</td>\n",
       "      <td>11.801095</td>\n",
       "      <td>85.598395</td>\n",
       "      <td>1</td>\n",
       "    </tr>\n",
       "  </tbody>\n",
       "</table>\n",
       "</div>"
      ],
      "text/plain": [
       "        date                 species  trap  latitude  longitude  nummosquitos  \\\n",
       "0 2007-05-29  CULEX PIPIENS/RESTUANS  T002  41.95469 -87.800991             1   \n",
       "1 2007-05-29          CULEX RESTUANS  T002  41.95469 -87.800991             1   \n",
       "\n",
       "   wnvpresent  month  day              2dlocation   dist_st1   dist_st2  \\\n",
       "0           0      5   29  (41.95469, -87.800991)  11.801095  85.598395   \n",
       "1           0      5   29  (41.95469, -87.800991)  11.801095  85.598395   \n",
       "\n",
       "   Station  \n",
       "0        1  \n",
       "1        1  "
      ]
     },
     "execution_count": 423,
     "metadata": {},
     "output_type": "execute_result"
    }
   ],
   "source": [
    "train.head(2)"
   ]
  },
  {
   "cell_type": "code",
   "execution_count": 424,
   "metadata": {
    "collapsed": false
   },
   "outputs": [
    {
     "data": {
      "text/plain": [
       "array([1])"
      ]
     },
     "execution_count": 424,
     "metadata": {},
     "output_type": "execute_result"
    }
   ],
   "source": [
    "train['Station'].unique()"
   ]
  },
  {
   "cell_type": "code",
   "execution_count": 425,
   "metadata": {
    "collapsed": false
   },
   "outputs": [
    {
     "data": {
      "text/plain": [
       "array(['CULEX PIPIENS/RESTUANS', 'CULEX RESTUANS', 'CULEX PIPIENS',\n",
       "       'CULEX SALINARIUS', 'CULEX TERRITANS', 'CULEX TARSALIS',\n",
       "       'CULEX ERRATICUS'], dtype=object)"
      ]
     },
     "execution_count": 425,
     "metadata": {},
     "output_type": "execute_result"
    }
   ],
   "source": [
    "train.species.unique()"
   ]
  },
  {
   "cell_type": "code",
   "execution_count": 426,
   "metadata": {
    "collapsed": true
   },
   "outputs": [],
   "source": [
    "from sklearn import preprocessing \n",
    "le = preprocessing.LabelEncoder()\n",
    "train.iloc[:,1]=le.fit_transform(train.iloc[:,1])"
   ]
  },
  {
   "cell_type": "code",
   "execution_count": 453,
   "metadata": {
    "collapsed": false
   },
   "outputs": [
    {
     "data": {
      "text/html": [
       "<div>\n",
       "<table border=\"1\" class=\"dataframe\">\n",
       "  <thead>\n",
       "    <tr style=\"text-align: right;\">\n",
       "      <th></th>\n",
       "      <th>date</th>\n",
       "      <th>species</th>\n",
       "      <th>trap</th>\n",
       "      <th>latitude</th>\n",
       "      <th>longitude</th>\n",
       "      <th>nummosquitos</th>\n",
       "      <th>wnvpresent</th>\n",
       "      <th>month</th>\n",
       "      <th>day</th>\n",
       "      <th>2dlocation</th>\n",
       "      <th>dist_st1</th>\n",
       "      <th>dist_st2</th>\n",
       "      <th>Station</th>\n",
       "    </tr>\n",
       "  </thead>\n",
       "  <tbody>\n",
       "    <tr>\n",
       "      <th>0</th>\n",
       "      <td>2007-05-29</td>\n",
       "      <td>2</td>\n",
       "      <td>T002</td>\n",
       "      <td>41.95469</td>\n",
       "      <td>-87.800991</td>\n",
       "      <td>1</td>\n",
       "      <td>0</td>\n",
       "      <td>5</td>\n",
       "      <td>29</td>\n",
       "      <td>(41.95469, -87.800991)</td>\n",
       "      <td>11.801095</td>\n",
       "      <td>85.598395</td>\n",
       "      <td>1</td>\n",
       "    </tr>\n",
       "    <tr>\n",
       "      <th>1</th>\n",
       "      <td>2007-05-29</td>\n",
       "      <td>3</td>\n",
       "      <td>T002</td>\n",
       "      <td>41.95469</td>\n",
       "      <td>-87.800991</td>\n",
       "      <td>1</td>\n",
       "      <td>0</td>\n",
       "      <td>5</td>\n",
       "      <td>29</td>\n",
       "      <td>(41.95469, -87.800991)</td>\n",
       "      <td>11.801095</td>\n",
       "      <td>85.598395</td>\n",
       "      <td>1</td>\n",
       "    </tr>\n",
       "  </tbody>\n",
       "</table>\n",
       "</div>"
      ],
      "text/plain": [
       "        date  species  trap  latitude  longitude  nummosquitos  wnvpresent  \\\n",
       "0 2007-05-29        2  T002  41.95469 -87.800991             1           0   \n",
       "1 2007-05-29        3  T002  41.95469 -87.800991             1           0   \n",
       "\n",
       "   month  day              2dlocation   dist_st1   dist_st2  Station  \n",
       "0      5   29  (41.95469, -87.800991)  11.801095  85.598395        1  \n",
       "1      5   29  (41.95469, -87.800991)  11.801095  85.598395        1  "
      ]
     },
     "execution_count": 453,
     "metadata": {},
     "output_type": "execute_result"
    }
   ],
   "source": [
    "train.head(2)"
   ]
  },
  {
   "cell_type": "code",
   "execution_count": null,
   "metadata": {
    "collapsed": true
   },
   "outputs": [],
   "source": [
    "df.sum(axis=1)"
   ]
  },
  {
   "cell_type": "markdown",
   "metadata": {},
   "source": [
    "# Spray dataset"
   ]
  },
  {
   "cell_type": "code",
   "execution_count": 428,
   "metadata": {
    "collapsed": false
   },
   "outputs": [],
   "source": [
    "#spray.head(2)"
   ]
  },
  {
   "cell_type": "code",
   "execution_count": 429,
   "metadata": {
    "collapsed": false
   },
   "outputs": [],
   "source": [
    "#spray.describe()"
   ]
  },
  {
   "cell_type": "code",
   "execution_count": 430,
   "metadata": {
    "collapsed": false
   },
   "outputs": [],
   "source": [
    "#print spray.shape\n",
    "#print spray.dtypes"
   ]
  },
  {
   "cell_type": "code",
   "execution_count": 431,
   "metadata": {
    "collapsed": false
   },
   "outputs": [],
   "source": [
    "#print spray.isnull().sum()"
   ]
  },
  {
   "cell_type": "code",
   "execution_count": 432,
   "metadata": {
    "collapsed": false
   },
   "outputs": [],
   "source": [
    "#sns.pairplot(spray)"
   ]
  },
  {
   "cell_type": "markdown",
   "metadata": {},
   "source": [
    "# Weather dataset"
   ]
  },
  {
   "cell_type": "code",
   "execution_count": 433,
   "metadata": {
    "collapsed": false,
    "scrolled": true
   },
   "outputs": [
    {
     "data": {
      "text/html": [
       "<div>\n",
       "<table border=\"1\" class=\"dataframe\">\n",
       "  <thead>\n",
       "    <tr style=\"text-align: right;\">\n",
       "      <th></th>\n",
       "      <th>Station</th>\n",
       "      <th>Date</th>\n",
       "      <th>Tmax</th>\n",
       "      <th>Tmin</th>\n",
       "      <th>Tavg</th>\n",
       "      <th>Depart</th>\n",
       "      <th>DewPoint</th>\n",
       "      <th>WetBulb</th>\n",
       "      <th>Heat</th>\n",
       "      <th>Cool</th>\n",
       "      <th>...</th>\n",
       "      <th>CodeSum</th>\n",
       "      <th>Depth</th>\n",
       "      <th>Water1</th>\n",
       "      <th>SnowFall</th>\n",
       "      <th>PrecipTotal</th>\n",
       "      <th>StnPressure</th>\n",
       "      <th>SeaLevel</th>\n",
       "      <th>ResultSpeed</th>\n",
       "      <th>ResultDir</th>\n",
       "      <th>AvgSpeed</th>\n",
       "    </tr>\n",
       "  </thead>\n",
       "  <tbody>\n",
       "    <tr>\n",
       "      <th>0</th>\n",
       "      <td>1</td>\n",
       "      <td>2007-05-01</td>\n",
       "      <td>83</td>\n",
       "      <td>50</td>\n",
       "      <td>67</td>\n",
       "      <td>14</td>\n",
       "      <td>51</td>\n",
       "      <td>56</td>\n",
       "      <td>0</td>\n",
       "      <td>2</td>\n",
       "      <td>...</td>\n",
       "      <td></td>\n",
       "      <td>0</td>\n",
       "      <td>M</td>\n",
       "      <td>0.0</td>\n",
       "      <td>0.00</td>\n",
       "      <td>29.10</td>\n",
       "      <td>29.82</td>\n",
       "      <td>1.7</td>\n",
       "      <td>27</td>\n",
       "      <td>9.2</td>\n",
       "    </tr>\n",
       "    <tr>\n",
       "      <th>1</th>\n",
       "      <td>2</td>\n",
       "      <td>2007-05-01</td>\n",
       "      <td>84</td>\n",
       "      <td>52</td>\n",
       "      <td>68</td>\n",
       "      <td>M</td>\n",
       "      <td>51</td>\n",
       "      <td>57</td>\n",
       "      <td>0</td>\n",
       "      <td>3</td>\n",
       "      <td>...</td>\n",
       "      <td></td>\n",
       "      <td>M</td>\n",
       "      <td>M</td>\n",
       "      <td>M</td>\n",
       "      <td>0.00</td>\n",
       "      <td>29.18</td>\n",
       "      <td>29.82</td>\n",
       "      <td>2.7</td>\n",
       "      <td>25</td>\n",
       "      <td>9.6</td>\n",
       "    </tr>\n",
       "  </tbody>\n",
       "</table>\n",
       "<p>2 rows × 22 columns</p>\n",
       "</div>"
      ],
      "text/plain": [
       "   Station        Date  Tmax  Tmin Tavg Depart  DewPoint WetBulb Heat Cool  \\\n",
       "0        1  2007-05-01    83    50   67     14        51      56    0    2   \n",
       "1        2  2007-05-01    84    52   68      M        51      57    0    3   \n",
       "\n",
       "     ...    CodeSum Depth Water1 SnowFall PrecipTotal StnPressure SeaLevel  \\\n",
       "0    ...                0      M      0.0        0.00       29.10    29.82   \n",
       "1    ...                M      M        M        0.00       29.18    29.82   \n",
       "\n",
       "  ResultSpeed ResultDir  AvgSpeed  \n",
       "0         1.7        27       9.2  \n",
       "1         2.7        25       9.6  \n",
       "\n",
       "[2 rows x 22 columns]"
      ]
     },
     "execution_count": 433,
     "metadata": {},
     "output_type": "execute_result"
    }
   ],
   "source": [
    "weather.head(2)"
   ]
  },
  {
   "cell_type": "code",
   "execution_count": 434,
   "metadata": {
    "collapsed": true
   },
   "outputs": [],
   "source": [
    "weather=weather[weather.Station != 2]"
   ]
  },
  {
   "cell_type": "code",
   "execution_count": 435,
   "metadata": {
    "collapsed": false
   },
   "outputs": [
    {
     "data": {
      "text/html": [
       "<div>\n",
       "<table border=\"1\" class=\"dataframe\">\n",
       "  <thead>\n",
       "    <tr style=\"text-align: right;\">\n",
       "      <th></th>\n",
       "      <th>Station</th>\n",
       "      <th>Tmax</th>\n",
       "      <th>Tmin</th>\n",
       "      <th>DewPoint</th>\n",
       "      <th>ResultSpeed</th>\n",
       "      <th>ResultDir</th>\n",
       "    </tr>\n",
       "  </thead>\n",
       "  <tbody>\n",
       "    <tr>\n",
       "      <th>count</th>\n",
       "      <td>1472.0</td>\n",
       "      <td>1472.00000</td>\n",
       "      <td>1472.000000</td>\n",
       "      <td>1472.000000</td>\n",
       "      <td>1472.000000</td>\n",
       "      <td>1472.000000</td>\n",
       "    </tr>\n",
       "    <tr>\n",
       "      <th>mean</th>\n",
       "      <td>1.0</td>\n",
       "      <td>75.97894</td>\n",
       "      <td>56.730978</td>\n",
       "      <td>53.377717</td>\n",
       "      <td>6.987092</td>\n",
       "      <td>17.656250</td>\n",
       "    </tr>\n",
       "    <tr>\n",
       "      <th>std</th>\n",
       "      <td>0.0</td>\n",
       "      <td>11.50315</td>\n",
       "      <td>10.347907</td>\n",
       "      <td>10.670263</td>\n",
       "      <td>3.586353</td>\n",
       "      <td>10.222077</td>\n",
       "    </tr>\n",
       "    <tr>\n",
       "      <th>min</th>\n",
       "      <td>1.0</td>\n",
       "      <td>42.00000</td>\n",
       "      <td>29.000000</td>\n",
       "      <td>22.000000</td>\n",
       "      <td>0.100000</td>\n",
       "      <td>1.000000</td>\n",
       "    </tr>\n",
       "    <tr>\n",
       "      <th>25%</th>\n",
       "      <td>1.0</td>\n",
       "      <td>68.00000</td>\n",
       "      <td>49.000000</td>\n",
       "      <td>46.000000</td>\n",
       "      <td>4.400000</td>\n",
       "      <td>7.000000</td>\n",
       "    </tr>\n",
       "    <tr>\n",
       "      <th>50%</th>\n",
       "      <td>1.0</td>\n",
       "      <td>78.00000</td>\n",
       "      <td>58.000000</td>\n",
       "      <td>54.000000</td>\n",
       "      <td>6.400000</td>\n",
       "      <td>19.500000</td>\n",
       "    </tr>\n",
       "    <tr>\n",
       "      <th>75%</th>\n",
       "      <td>1.0</td>\n",
       "      <td>85.00000</td>\n",
       "      <td>65.000000</td>\n",
       "      <td>61.250000</td>\n",
       "      <td>9.100000</td>\n",
       "      <td>26.000000</td>\n",
       "    </tr>\n",
       "    <tr>\n",
       "      <th>max</th>\n",
       "      <td>1.0</td>\n",
       "      <td>103.00000</td>\n",
       "      <td>82.000000</td>\n",
       "      <td>75.000000</td>\n",
       "      <td>24.100000</td>\n",
       "      <td>36.000000</td>\n",
       "    </tr>\n",
       "  </tbody>\n",
       "</table>\n",
       "</div>"
      ],
      "text/plain": [
       "       Station        Tmax         Tmin     DewPoint  ResultSpeed    ResultDir\n",
       "count   1472.0  1472.00000  1472.000000  1472.000000  1472.000000  1472.000000\n",
       "mean       1.0    75.97894    56.730978    53.377717     6.987092    17.656250\n",
       "std        0.0    11.50315    10.347907    10.670263     3.586353    10.222077\n",
       "min        1.0    42.00000    29.000000    22.000000     0.100000     1.000000\n",
       "25%        1.0    68.00000    49.000000    46.000000     4.400000     7.000000\n",
       "50%        1.0    78.00000    58.000000    54.000000     6.400000    19.500000\n",
       "75%        1.0    85.00000    65.000000    61.250000     9.100000    26.000000\n",
       "max        1.0   103.00000    82.000000    75.000000    24.100000    36.000000"
      ]
     },
     "execution_count": 435,
     "metadata": {},
     "output_type": "execute_result"
    }
   ],
   "source": [
    "weather.describe()"
   ]
  },
  {
   "cell_type": "code",
   "execution_count": 436,
   "metadata": {
    "collapsed": false
   },
   "outputs": [
    {
     "name": "stdout",
     "output_type": "stream",
     "text": [
      "(1472, 22)\n",
      "Station          int64\n",
      "Date            object\n",
      "Tmax             int64\n",
      "Tmin             int64\n",
      "Tavg            object\n",
      "Depart          object\n",
      "DewPoint         int64\n",
      "WetBulb         object\n",
      "Heat            object\n",
      "Cool            object\n",
      "Sunrise         object\n",
      "Sunset          object\n",
      "CodeSum         object\n",
      "Depth           object\n",
      "Water1          object\n",
      "SnowFall        object\n",
      "PrecipTotal     object\n",
      "StnPressure     object\n",
      "SeaLevel        object\n",
      "ResultSpeed    float64\n",
      "ResultDir        int64\n",
      "AvgSpeed        object\n",
      "dtype: object\n"
     ]
    }
   ],
   "source": [
    "print weather.shape\n",
    "print weather.dtypes"
   ]
  },
  {
   "cell_type": "code",
   "execution_count": 437,
   "metadata": {
    "collapsed": false
   },
   "outputs": [
    {
     "name": "stdout",
     "output_type": "stream",
     "text": [
      "[1]\n",
      "['2007-05-01' '2007-05-02' '2007-05-03' ..., '2014-10-29' '2014-10-30'\n",
      " '2014-10-31']\n",
      "[ 83  59  66  68  82  77  84  70  64  69  90  80  62  71  87  89  88  65\n",
      "  75  79  78  85  81  91  86  93  76  67  92  74  94  61  73  54  56  72\n",
      "  60  58  55  57  50  63  52  53  47  45  51  48  44  46  49  96  95  99\n",
      "  97 100  98 102 103  42]\n",
      "[50 42 46 49 53 47 54 61 56 51 43 57 44 55 60 63 66 65 62 58 71 52 64 70 69\n",
      " 67 75 68 74 72 73 59 45 39 41 40 37 34 48 38 35 33 31 32 77 29 36 78 80 76\n",
      " 79 82 81]\n",
      "['67' '51' '56' '58' '60' '59' '65' '68' '69' '70' '61' '55' '73' '53' '57'\n",
      " '62' '71' '75' '76' '63' '66' '74' '77' '72' '81' '80' '79' '85' '82' '78'\n",
      " '64' '50' '49' '46' '45' '54' '52' '48' '47' '44' '40' '38' '42' '83' '84'\n",
      " '37' '41' '43' '86' '87' '88' '91' '93' '89' '36' '39']\n",
      "['14' '-3' ' 2' ' 4' ' 5' '10' '12' '13' '-2' '15' '11' '-4' '-6' ' 8' '-5'\n",
      " ' 1' ' 9' ' 6' '-9' '-8' ' 3' ' 0' '-1' '-7' ' 7' '-14' '18' '16' '22'\n",
      " '21' '20' '-10' '-16' '17' '-12' '-11' '-15' '-17' '19' '-13' '23']\n",
      "[51 42 40 41 38 30 58 59 52 36 33 47 56 43 32 39 50 46 49 54 44 55 61 63 60\n",
      " 48 62 53 64 65 66 69 70 57 67 68 71 72 73 45 35 37 34 27 23 24 22 31 29 75\n",
      " 28 26 74 25]\n",
      "['56' '47' '48' '50' '49' '46' '54' '62' '63' '60' '51' '59' '61' '43' '53'\n",
      " '44' '58' '65' '66' '67' '55' '69' '57' '64' '70' '72' '71' '68' '73' '74'\n",
      " '76' '52' '45' '42' '39' '40' '41' '35' '33' '34' 'M' '32' '38' '36' '78'\n",
      " '77' '75' '37']\n",
      "['0' '14' '9' '7' '5' '6' '4' '10' '12' '8' '3' '2' '1' '15' '16' '19' '20'\n",
      " '11' '13' '17' '18' '21' '25' '27' '23' '28' '24' '22' '29' '26']\n",
      "[' 2' ' 0' ' 3' ' 4' ' 5' ' 8' ' 6' '10' '11' ' 1' ' 9' '12' ' 7' '16' '15'\n",
      " '14' '20' '17' '13' '18' '19' '21' '22' '23' '26' '28' '24']\n",
      "['0448' '0447' '0446' '0444' '0443' '0442' '0441' '0439' '0438' '0437'\n",
      " '0436' '0435' '0434' '0433' '0432' '0431' '0430' '0429' '0428' '0427'\n",
      " '0426' '0425' '0424' '0423' '0422' '0421' '0420' '0419' '0418' '0417'\n",
      " '0416' '0440' '0445' '0449' '0450' '0451' '0452' '0453' '0454' '0455'\n",
      " '0456' '0457' '0458' '0459' '0500' '0501' '0502' '0503' '0504' '0505'\n",
      " '0506' '0508' '0509' '0510' '0511' '0512' '0513' '0514' '0515' '0516'\n",
      " '0517' '0518' '0519' '0520' '0521' '0522' '0523' '0524' '0525' '0526'\n",
      " '0527' '0528' '0529' '0530' '0531' '0532' '0533' '0535' '0536' '0537'\n",
      " '0538' '0539' '0540' '0541' '0542' '0543' '0544' '0545' '0546' '0547'\n",
      " '0548' '0549' '0550' '0552' '0553' '0554' '0555' '0556' '0557' '0558'\n",
      " '0559' '0600' '0602' '0603' '0604' '0605' '0606' '0607' '0608' '0610'\n",
      " '0611' '0612' '0613' '0614' '0616' '0617' '0618' '0619' '0620' '0622'\n",
      " '0623']\n",
      "['1849' '1850' '1851' '1852' '1853' '1855' '1856' '1857' '1858' '1859'\n",
      " '1860' '1901' '1902' '1903' '1904' '1905' '1906' '1907' '1908' '1909'\n",
      " '1910' '1911' '1912' '1913' '1914' '1915' '1916' '1917' '1918' '1919'\n",
      " '1920' '1921' '1922' '1923' '1924' '1925' '1926' '1927' '1928' '1929'\n",
      " '1930' '1931' '1900' '1854' '1848' '1846' '1845' '1843' '1842' '1840'\n",
      " '1839' '1837' '1835' '1834' '1832' '1831' '1829' '1827' '1826' '1824'\n",
      " '1822' '1821' '1819' '1817' '1815' '1814' '1812' '1810' '1809' '1807'\n",
      " '1805' '1803' '1760' '1758' '1756' '1755' '1753' '1751' '1749' '1748'\n",
      " '1746' '1744' '1742' '1741' '1739' '1737' '1735' '1734' '1732' '1730'\n",
      " '1729' '1727' '1725' '1724' '1722' '1720' '1719' '1717' '1715' '1714'\n",
      " '1712' '1711' '1709' '1707' '1706' '1704' '1703' '1701' '1660' '1658'\n",
      " '1657' '1656' '1654' '1653' '1651' '1650' '1649' '1647']\n",
      "[' ' 'BR' 'RA' 'BR HZ' 'RA BR' 'RA VCTS' 'RA HZ' 'TSRA RA BR HZ' 'HZ'\n",
      " 'TSRA BR HZ' 'TSRA RA BR' 'TSRA RA HZ' 'TSRA BR HZ VCTS' 'TSRA'\n",
      " 'TSRA BR HZ FU' 'BR HZ FU' 'TSRA RA VCTS' 'HZ VCTS' 'RA BR VCTS'\n",
      " 'TSRA RA BR VCTS' 'DZ BR' 'TS TSRA RA BR HZ' 'RA BR HZ' 'TSRA RA'\n",
      " 'TS TSRA RA BR' 'TS RA BR' 'TS TSRA RA' 'TS TSRA RA BR VCTS' 'TS RA'\n",
      " 'TSRA BR' 'RA DZ FG+ BCFG BR' 'RA FG+ MIFG BR' 'RA DZ' 'RA DZ BR'\n",
      " 'TSRA RA FG+ FG BR' 'TSRA DZ FG+ FG BR HZ' 'TS TSRA' 'TSRA HZ' 'TS'\n",
      " 'FG+ BR HZ' 'TS TSRA BR HZ' 'DZ BR HZ' 'TS TSRA BR' 'RA BR FU' 'TS BR HZ'\n",
      " 'FG+ BR' 'FG+ MIFG BR' 'TSRA RA FG BR' 'DZ' 'RA DZ BR HZ' 'TS BR'\n",
      " 'TS RA FG+ FG BR' 'RA DZ FG+ FG BR' 'RA BR SQ' 'RA FG BR' 'RA BR HZ FU'\n",
      " 'MIFG BCFG BR' 'TSRA RA FG+ FG BR HZ' 'TSRA DZ BR HZ'\n",
      " 'TS TSRA RA FG BR HZ' 'RA DZ FG+ BR' 'TSRA FG+ BR HZ' 'FG+ FG BR HZ'\n",
      " 'FG BR HZ' 'TS RA BR HZ' 'BCFG BR' 'RA SN']\n",
      "['0']\n",
      "['M']\n",
      "['0.0' '  T' '0.1']\n",
      "['0.00' '  T' '0.13' '0.38' '0.14' '0.07' '0.02' '1.01' '0.04' '0.01'\n",
      " '0.19' '0.39' '0.42' '0.28' '0.58' '0.05' '0.16' '0.15' '0.40' '0.30'\n",
      " '0.43' '0.11' '1.55' '0.17' '0.03' '1.43' '0.26' '1.31' '0.06' '0.29'\n",
      " '0.41' '0.23' '0.09' '1.33' '0.91' '0.37' '2.35' '0.24' '0.34' '0.18'\n",
      " '0.36' '0.27' '0.33' '1.28' '0.76' '0.95' '0.08' '0.12' '0.48' '0.52'\n",
      " '0.64' '1.24' '0.20' '0.72' '0.73' '1.61' '0.74' '1.05' '2.43' '2.90'\n",
      " '1.23' '6.64' '1.44' '0.82' '0.80' '0.32' '0.67' '0.55' '1.73' '0.44'\n",
      " '0.45' '3.97' '0.25' '0.68' '0.63' '0.35' '0.93' '0.22' '0.75' '0.89'\n",
      " '0.21' '0.46' '1.03' '0.60' '0.81' '0.97' '1.49' '1.02' '0.59' '0.87'\n",
      " '0.85' '0.54' '0.79' '2.79' '3.64' '0.10' '0.31' '2.24' '1.06' '1.88'\n",
      " '6.86' '0.71' '0.70' '1.11' '0.65' '1.21' '0.77' '1.34' '0.47' '1.12'\n",
      " '0.57' '0.51' '1.09' '0.56' '1.35' '0.84' '1.48' '0.92' '0.50' '1.04'\n",
      " '2.09' '1.26' '2.60' '2.76' '0.98' '1.58']\n",
      "['29.10' '29.38' '29.39' '29.31' '29.40' '29.57' '29.29' '29.21' '29.20'\n",
      " '29.33' '29.49' '29.23' '29.13' '29.55' '29.53' '29.34' '29.41' '29.51'\n",
      " '29.36' '29.43' '29.28' '29.19' '29.03' '28.82' '29.07' '28.84' '29.18'\n",
      " '29.44' '29.30' '29.26' '29.12' '29.24' '29.32' '29.05' '29.11' '29.06'\n",
      " '29.22' '29.08' '29.25' '29.37' '29.17' '29.15' '29.47' '29.56' '29.46'\n",
      " '29.42' '29.27' '29.50' '29.16' '28.59' '28.75' '29.02' '29.79' '29.63'\n",
      " '28.95' '28.79' '29.01' '28.97' '28.85' '28.87' '28.93' '28.96' '28.94'\n",
      " '29.00' '29.60' '28.90' '28.98' '29.09' '29.35' '29.14' '29.04' '29.45'\n",
      " '29.59' '29.54' '29.52' '29.58' '29.48' '29.64' '29.65' 'M' '28.89'\n",
      " '28.91' '28.80' '28.73' '28.74' '28.55' '28.92' '28.99' '29.61' '28.81'\n",
      " '28.71' '29.62' '28.69' '28.83']\n",
      "['29.82' '30.09' '30.12' '30.05' '30.10' '30.29' '30.03' '29.94' '29.92'\n",
      " '30.04' '30.20' '30.24' '29.97' '29.84' '30.27' '30.25' '30.08' '30.11'\n",
      " '30.06' '30.15' '30.00' '29.91' '29.77' '29.56' '29.52' '29.79' '29.81'\n",
      " '29.55' '29.85' '30.07' '30.16' '30.02' '29.99' '29.95' '29.96' '30.13'\n",
      " '30.23' '30.22' '29.90' '29.80' '29.93' '29.98' '29.89' '30.14' '30.21'\n",
      " '29.83' '29.76' '29.87' '30.18' '30.19' '30.28' '30.17' '30.01' '29.88'\n",
      " '29.34' '29.44' '29.71' '29.78' '30.52' '30.40' '29.67' '29.53' '29.69'\n",
      " '29.86' '29.61' '29.64' '29.66' '29.70' '30.34' '29.62' '29.75' '30.26'\n",
      " '30.31' '30.32' '30.37' '30.39' '30.30' '29.73' '29.68' 'M' '29.60'\n",
      " '29.65' '29.59' '30.35' '29.48' '30.33' '30.36' '30.38' '29.74' '29.50'\n",
      " '29.25' '29.72' '29.54' '29.45' '29.43' '29.51' '29.63']\n",
      "[  1.7  13.   11.7  10.4  14.4   8.6   2.7   3.9   0.7  11.3  12.4   6.6\n",
      "  16.9   8.1   7.8  10.5   5.4  11.1   6.3  10.   11.4  14.9   4.9   2.8\n",
      "   8.9   4.8   5.8  10.3   9.3   4.2   6.5   5.2  10.8  22.7  10.9   0.3\n",
      "   8.3   7.2   5.6   4.1  14.   10.7   3.5   7.6   7.    6.1   7.5  11.9\n",
      "   5.9   6.7   4.6   6.4   3.2   8.4  12.9   8.8   9.4   1.4   2.1   4.4\n",
      "   9.1   3.1   3.    3.8   3.3   5.5   5.7   1.6   6.2   2.5   4.5   3.4\n",
      "   3.6   6.    0.5   5.3   9.6   9.    2.    9.2   1.8  12.1   6.8   5.\n",
      "   2.6   7.9   4.3   2.3   9.5   6.9   7.7  11.5  15.1  17.2  16.2  18.\n",
      "  13.3  13.9  10.2  12.2  10.6  13.8  14.5   5.1  15.5   7.3   7.4  19.2\n",
      "   8.2   1.9  21.1  12.5  16.1   7.1   2.9   8.    8.7  11.6   8.5   4.\n",
      "  12.7   9.8   1.   11.2  12.   13.7   3.7   4.7  11.    0.2  13.5   1.2\n",
      "   2.4  13.2   9.9   1.3   1.5   0.1   0.6  20.3  15.6   9.7   2.2  15.\n",
      "   0.8  14.1  14.7  15.3  14.2  17.4  16.6  15.2  24.1  21.8  14.3  10.1\n",
      "  16.7  21.4  17.7  12.6   0.9  14.6   1.1  15.4  14.8  17.1  15.8  17.5\n",
      "  13.4  16.8  13.6  11.8  15.9  13.1  12.8  19.4  12.3  15.7   0.4  22.6]\n",
      "[27  4  7  8 11 18  9 17  3 14 21 36 25 24 19  5 26 10 22 31 20 28 33  6 12\n",
      "  2 23 30 29  1 16 32 13 35 34 15]\n",
      "['9.2' '13.4' '11.9' '10.8' '12.0' '15.0' '10.5' '5.8' '6.2' '4.1' '12.9'\n",
      " '8.1' '17.3' '12.3' '12.2' '11.3' '7.5' '11.4' '10.7' '8.2' '10.2' '11.8'\n",
      " '8.8' '7.2' '9.5' '5.3' '6.5' '10.6' '9.9' '6.4' '7.4' '6.7' '9.7' '7.6'\n",
      " '23.1' '13.8' '5.0' '5.6' '6.9' '8.6' '6.8' '4.9' '6.3' '15.1' '8.7' '9.0'\n",
      " '8.0' '7.1' '12.5' '8.3' '7.3' '5.5' '13.1' '10.9' '11.1' '13.2' '5.2'\n",
      " '10.1' '9.1' '3.3' '4.0' '6.6' '9.4' '7.9' '5.7' '4.3' '5.9' '6.1' '9.6'\n",
      " '6.0' '3.9' '5.4' '11.7' '12.1' '13.9' '13.5' '8.5' '12.4' '9.8' '14.6'\n",
      " '4.6' '7.0' '12.8' '15.5' '3.5' '18.9' '16.7' '18.2' '14.5' '14.1' '4.2'\n",
      " '10.4' '14.3' '11.5' '12.7' '12.6' '17.7' '7.8' '15.9' '14.7' '8.4' '19.3'\n",
      " '4.8' '14.0' '21.5' '7.7' '10.0' '16.3' '11.2' '5.1' '9.3' '10.3' '4.4'\n",
      " '3.8' '2.9' '2.7' '17.8' '14.4' '16.4' '11.0' '4.7' '11.6' '13.6' '2.4'\n",
      " '8.9' '3.4' '3.0' '2.1' '20.7' '14.9' '13.0' '16.2' '17.4' '14.2' '15.2'\n",
      " '4.5' '15.3' '15.7' '18.8' '17.1' '3.7' '15.4' '3.6' '26.3' '23.2' '13.3'\n",
      " '16.9' '21.4' '14.8' '3.1' '2.3' '3.2' '15.6' '18.0' '16.1' '17.2' '17.6'\n",
      " '18.5' '13.7' '16.0' '15.8' '2.8' '1.9' '22.9']\n"
     ]
    }
   ],
   "source": [
    "for col in weather:\n",
    "    print weather[col].unique()"
   ]
  },
  {
   "cell_type": "code",
   "execution_count": 438,
   "metadata": {
    "collapsed": false
   },
   "outputs": [],
   "source": [
    "weather.Date=pd.to_datetime(weather.Date)"
   ]
  },
  {
   "cell_type": "code",
   "execution_count": 439,
   "metadata": {
    "collapsed": false
   },
   "outputs": [
    {
     "name": "stdout",
     "output_type": "stream",
     "text": [
      "0.0    1459\n",
      "  T      12\n",
      "0.1       1\n",
      "Name: SnowFall, dtype: int64\n"
     ]
    }
   ],
   "source": [
    "print weather.SnowFall.value_counts()"
   ]
  },
  {
   "cell_type": "code",
   "execution_count": 440,
   "metadata": {
    "collapsed": true
   },
   "outputs": [],
   "source": [
    "weather=weather.drop(['Depth','Water1','SnowFall'], axis=1)"
   ]
  },
  {
   "cell_type": "code",
   "execution_count": 441,
   "metadata": {
    "collapsed": false
   },
   "outputs": [
    {
     "data": {
      "text/html": [
       "<div>\n",
       "<table border=\"1\" class=\"dataframe\">\n",
       "  <thead>\n",
       "    <tr style=\"text-align: right;\">\n",
       "      <th></th>\n",
       "      <th>Station</th>\n",
       "      <th>Date</th>\n",
       "      <th>Tmax</th>\n",
       "      <th>Tmin</th>\n",
       "      <th>Tavg</th>\n",
       "      <th>Depart</th>\n",
       "      <th>DewPoint</th>\n",
       "      <th>WetBulb</th>\n",
       "      <th>Heat</th>\n",
       "      <th>Cool</th>\n",
       "      <th>Sunrise</th>\n",
       "      <th>Sunset</th>\n",
       "      <th>CodeSum</th>\n",
       "      <th>PrecipTotal</th>\n",
       "      <th>StnPressure</th>\n",
       "      <th>SeaLevel</th>\n",
       "      <th>ResultSpeed</th>\n",
       "      <th>ResultDir</th>\n",
       "      <th>AvgSpeed</th>\n",
       "    </tr>\n",
       "  </thead>\n",
       "  <tbody>\n",
       "    <tr>\n",
       "      <th>0</th>\n",
       "      <td>1</td>\n",
       "      <td>2007-05-01</td>\n",
       "      <td>83</td>\n",
       "      <td>50</td>\n",
       "      <td>67</td>\n",
       "      <td>14</td>\n",
       "      <td>51</td>\n",
       "      <td>56</td>\n",
       "      <td>0</td>\n",
       "      <td>2</td>\n",
       "      <td>0448</td>\n",
       "      <td>1849</td>\n",
       "      <td></td>\n",
       "      <td>0.00</td>\n",
       "      <td>29.10</td>\n",
       "      <td>29.82</td>\n",
       "      <td>1.7</td>\n",
       "      <td>27</td>\n",
       "      <td>9.2</td>\n",
       "    </tr>\n",
       "    <tr>\n",
       "      <th>2</th>\n",
       "      <td>1</td>\n",
       "      <td>2007-05-02</td>\n",
       "      <td>59</td>\n",
       "      <td>42</td>\n",
       "      <td>51</td>\n",
       "      <td>-3</td>\n",
       "      <td>42</td>\n",
       "      <td>47</td>\n",
       "      <td>14</td>\n",
       "      <td>0</td>\n",
       "      <td>0447</td>\n",
       "      <td>1850</td>\n",
       "      <td>BR</td>\n",
       "      <td>0.00</td>\n",
       "      <td>29.38</td>\n",
       "      <td>30.09</td>\n",
       "      <td>13.0</td>\n",
       "      <td>4</td>\n",
       "      <td>13.4</td>\n",
       "    </tr>\n",
       "  </tbody>\n",
       "</table>\n",
       "</div>"
      ],
      "text/plain": [
       "   Station       Date  Tmax  Tmin Tavg Depart  DewPoint WetBulb Heat Cool  \\\n",
       "0        1 2007-05-01    83    50   67     14        51      56    0    2   \n",
       "2        1 2007-05-02    59    42   51     -3        42      47   14    0   \n",
       "\n",
       "  Sunrise Sunset CodeSum PrecipTotal StnPressure SeaLevel  ResultSpeed  \\\n",
       "0    0448   1849                0.00       29.10    29.82          1.7   \n",
       "2    0447   1850      BR        0.00       29.38    30.09         13.0   \n",
       "\n",
       "   ResultDir AvgSpeed  \n",
       "0         27      9.2  \n",
       "2          4     13.4  "
      ]
     },
     "execution_count": 441,
     "metadata": {},
     "output_type": "execute_result"
    }
   ],
   "source": [
    "weather.head(2)"
   ]
  },
  {
   "cell_type": "code",
   "execution_count": 442,
   "metadata": {
    "collapsed": false
   },
   "outputs": [],
   "source": [
    "for col in weather[['WetBulb','SeaLevel','StnPressure','PrecipTotal']]:\n",
    "    weather[col]=pd.to_numeric(weather[col], errors=coerce)\n",
    "for col in weather[['Tavg','Sunrise','Sunset','Tavg','Depart','Heat','Cool']]:\n",
    "    weather[col]=weather[col].astype(int)\n",
    "weather.AvgSpeed=weather.AvgSpeed.astype(float)\n",
    "    "
   ]
  },
  {
   "cell_type": "code",
   "execution_count": 530,
   "metadata": {
    "collapsed": false
   },
   "outputs": [],
   "source": [
    "le = preprocessing.LabelEncoder()\n",
    "label_encoder=le.fit_transform(weather.iloc[:,12])\n"
   ]
  },
  {
   "cell_type": "code",
   "execution_count": 529,
   "metadata": {
    "collapsed": false
   },
   "outputs": [
    {
     "data": {
      "text/plain": [
       "array([38, 65, 68, ..., 62, 65, 76])"
      ]
     },
     "execution_count": 529,
     "metadata": {},
     "output_type": "execute_result"
    }
   ],
   "source": [
    "label_encoder"
   ]
  },
  {
   "cell_type": "code",
   "execution_count": 444,
   "metadata": {
    "collapsed": false
   },
   "outputs": [
    {
     "name": "stdout",
     "output_type": "stream",
     "text": [
      "Station                 int64\n",
      "Date           datetime64[ns]\n",
      "Tmax                    int64\n",
      "Tmin                    int64\n",
      "Tavg                    int64\n",
      "Depart                  int64\n",
      "DewPoint                int64\n",
      "WetBulb               float64\n",
      "Heat                    int64\n",
      "Cool                    int64\n",
      "Sunrise                 int64\n",
      "Sunset                  int64\n",
      "CodeSum                 int64\n",
      "PrecipTotal           float64\n",
      "StnPressure           float64\n",
      "SeaLevel              float64\n",
      "ResultSpeed           float64\n",
      "ResultDir               int64\n",
      "AvgSpeed              float64\n",
      "dtype: object\n"
     ]
    }
   ],
   "source": [
    "print weather.dtypes"
   ]
  },
  {
   "cell_type": "code",
   "execution_count": 445,
   "metadata": {
    "collapsed": false
   },
   "outputs": [],
   "source": [
    "# fill null values with the mean of each column\n",
    "weather.WetBulb=weather.WetBulb.fillna(int(weather.WetBulb.mean()))\n",
    "weather.PrecipTotal=weather.PrecipTotal.fillna(int(weather.PrecipTotal.mean()))\n",
    "weather.StnPressure=weather.StnPressure.fillna(int(weather.StnPressure.mean()))\n",
    "weather.SeaLevel=weather.SeaLevel.fillna(int(weather.SeaLevel.mean()))"
   ]
  },
  {
   "cell_type": "code",
   "execution_count": 446,
   "metadata": {
    "collapsed": false
   },
   "outputs": [
    {
     "data": {
      "text/html": [
       "<div>\n",
       "<table border=\"1\" class=\"dataframe\">\n",
       "  <thead>\n",
       "    <tr style=\"text-align: right;\">\n",
       "      <th></th>\n",
       "      <th>Station</th>\n",
       "      <th>Tmax</th>\n",
       "      <th>Tmin</th>\n",
       "      <th>Tavg</th>\n",
       "      <th>Depart</th>\n",
       "      <th>DewPoint</th>\n",
       "      <th>WetBulb</th>\n",
       "      <th>Heat</th>\n",
       "      <th>Cool</th>\n",
       "      <th>Sunrise</th>\n",
       "      <th>Sunset</th>\n",
       "      <th>CodeSum</th>\n",
       "      <th>PrecipTotal</th>\n",
       "      <th>StnPressure</th>\n",
       "      <th>SeaLevel</th>\n",
       "      <th>ResultSpeed</th>\n",
       "      <th>ResultDir</th>\n",
       "      <th>AvgSpeed</th>\n",
       "    </tr>\n",
       "  </thead>\n",
       "  <tbody>\n",
       "    <tr>\n",
       "      <th>count</th>\n",
       "      <td>1472.0</td>\n",
       "      <td>1472.00000</td>\n",
       "      <td>1472.000000</td>\n",
       "      <td>1472.000000</td>\n",
       "      <td>1472.000000</td>\n",
       "      <td>1472.000000</td>\n",
       "      <td>1472.000000</td>\n",
       "      <td>1472.000000</td>\n",
       "      <td>1472.000000</td>\n",
       "      <td>1472.000000</td>\n",
       "      <td>1472.000000</td>\n",
       "      <td>1472.000000</td>\n",
       "      <td>1472.000000</td>\n",
       "      <td>1472.000000</td>\n",
       "      <td>1472.000000</td>\n",
       "      <td>1472.000000</td>\n",
       "      <td>1472.000000</td>\n",
       "      <td>1472.000000</td>\n",
       "    </tr>\n",
       "    <tr>\n",
       "      <th>mean</th>\n",
       "      <td>1.0</td>\n",
       "      <td>75.97894</td>\n",
       "      <td>56.730978</td>\n",
       "      <td>66.606658</td>\n",
       "      <td>1.954484</td>\n",
       "      <td>53.377717</td>\n",
       "      <td>59.036005</td>\n",
       "      <td>3.631114</td>\n",
       "      <td>5.237772</td>\n",
       "      <td>480.646739</td>\n",
       "      <td>1847.347826</td>\n",
       "      <td>10.816576</td>\n",
       "      <td>0.134538</td>\n",
       "      <td>29.253859</td>\n",
       "      <td>29.969497</td>\n",
       "      <td>6.987092</td>\n",
       "      <td>17.656250</td>\n",
       "      <td>8.570788</td>\n",
       "    </tr>\n",
       "    <tr>\n",
       "      <th>std</th>\n",
       "      <td>0.0</td>\n",
       "      <td>11.50315</td>\n",
       "      <td>10.347907</td>\n",
       "      <td>10.511437</td>\n",
       "      <td>6.841110</td>\n",
       "      <td>10.670263</td>\n",
       "      <td>9.314181</td>\n",
       "      <td>6.133829</td>\n",
       "      <td>5.899382</td>\n",
       "      <td>65.344729</td>\n",
       "      <td>87.050615</td>\n",
       "      <td>16.936770</td>\n",
       "      <td>0.421066</td>\n",
       "      <td>0.156321</td>\n",
       "      <td>0.167775</td>\n",
       "      <td>3.586353</td>\n",
       "      <td>10.222077</td>\n",
       "      <td>3.187250</td>\n",
       "    </tr>\n",
       "    <tr>\n",
       "      <th>min</th>\n",
       "      <td>1.0</td>\n",
       "      <td>42.00000</td>\n",
       "      <td>29.000000</td>\n",
       "      <td>36.000000</td>\n",
       "      <td>-17.000000</td>\n",
       "      <td>22.000000</td>\n",
       "      <td>32.000000</td>\n",
       "      <td>0.000000</td>\n",
       "      <td>0.000000</td>\n",
       "      <td>416.000000</td>\n",
       "      <td>1647.000000</td>\n",
       "      <td>0.000000</td>\n",
       "      <td>0.000000</td>\n",
       "      <td>28.550000</td>\n",
       "      <td>29.000000</td>\n",
       "      <td>0.100000</td>\n",
       "      <td>1.000000</td>\n",
       "      <td>1.900000</td>\n",
       "    </tr>\n",
       "    <tr>\n",
       "      <th>25%</th>\n",
       "      <td>1.0</td>\n",
       "      <td>68.00000</td>\n",
       "      <td>49.000000</td>\n",
       "      <td>60.000000</td>\n",
       "      <td>-3.000000</td>\n",
       "      <td>46.000000</td>\n",
       "      <td>53.000000</td>\n",
       "      <td>0.000000</td>\n",
       "      <td>0.000000</td>\n",
       "      <td>424.750000</td>\n",
       "      <td>1792.250000</td>\n",
       "      <td>0.000000</td>\n",
       "      <td>0.000000</td>\n",
       "      <td>29.160000</td>\n",
       "      <td>29.880000</td>\n",
       "      <td>4.400000</td>\n",
       "      <td>7.000000</td>\n",
       "      <td>6.200000</td>\n",
       "    </tr>\n",
       "    <tr>\n",
       "      <th>50%</th>\n",
       "      <td>1.0</td>\n",
       "      <td>78.00000</td>\n",
       "      <td>58.000000</td>\n",
       "      <td>68.000000</td>\n",
       "      <td>2.000000</td>\n",
       "      <td>54.000000</td>\n",
       "      <td>60.000000</td>\n",
       "      <td>0.000000</td>\n",
       "      <td>3.000000</td>\n",
       "      <td>446.500000</td>\n",
       "      <td>1859.500000</td>\n",
       "      <td>0.000000</td>\n",
       "      <td>0.000000</td>\n",
       "      <td>29.260000</td>\n",
       "      <td>29.970000</td>\n",
       "      <td>6.400000</td>\n",
       "      <td>19.500000</td>\n",
       "      <td>8.100000</td>\n",
       "    </tr>\n",
       "    <tr>\n",
       "      <th>75%</th>\n",
       "      <td>1.0</td>\n",
       "      <td>85.00000</td>\n",
       "      <td>65.000000</td>\n",
       "      <td>75.000000</td>\n",
       "      <td>7.000000</td>\n",
       "      <td>61.250000</td>\n",
       "      <td>66.000000</td>\n",
       "      <td>5.000000</td>\n",
       "      <td>10.000000</td>\n",
       "      <td>531.250000</td>\n",
       "      <td>1922.250000</td>\n",
       "      <td>17.000000</td>\n",
       "      <td>0.060000</td>\n",
       "      <td>29.350000</td>\n",
       "      <td>30.070000</td>\n",
       "      <td>9.100000</td>\n",
       "      <td>26.000000</td>\n",
       "      <td>10.400000</td>\n",
       "    </tr>\n",
       "    <tr>\n",
       "      <th>max</th>\n",
       "      <td>1.0</td>\n",
       "      <td>103.00000</td>\n",
       "      <td>82.000000</td>\n",
       "      <td>93.000000</td>\n",
       "      <td>23.000000</td>\n",
       "      <td>75.000000</td>\n",
       "      <td>78.000000</td>\n",
       "      <td>29.000000</td>\n",
       "      <td>28.000000</td>\n",
       "      <td>623.000000</td>\n",
       "      <td>1931.000000</td>\n",
       "      <td>66.000000</td>\n",
       "      <td>6.860000</td>\n",
       "      <td>29.790000</td>\n",
       "      <td>30.520000</td>\n",
       "      <td>24.100000</td>\n",
       "      <td>36.000000</td>\n",
       "      <td>26.300000</td>\n",
       "    </tr>\n",
       "  </tbody>\n",
       "</table>\n",
       "</div>"
      ],
      "text/plain": [
       "       Station        Tmax         Tmin         Tavg       Depart  \\\n",
       "count   1472.0  1472.00000  1472.000000  1472.000000  1472.000000   \n",
       "mean       1.0    75.97894    56.730978    66.606658     1.954484   \n",
       "std        0.0    11.50315    10.347907    10.511437     6.841110   \n",
       "min        1.0    42.00000    29.000000    36.000000   -17.000000   \n",
       "25%        1.0    68.00000    49.000000    60.000000    -3.000000   \n",
       "50%        1.0    78.00000    58.000000    68.000000     2.000000   \n",
       "75%        1.0    85.00000    65.000000    75.000000     7.000000   \n",
       "max        1.0   103.00000    82.000000    93.000000    23.000000   \n",
       "\n",
       "          DewPoint      WetBulb         Heat         Cool      Sunrise  \\\n",
       "count  1472.000000  1472.000000  1472.000000  1472.000000  1472.000000   \n",
       "mean     53.377717    59.036005     3.631114     5.237772   480.646739   \n",
       "std      10.670263     9.314181     6.133829     5.899382    65.344729   \n",
       "min      22.000000    32.000000     0.000000     0.000000   416.000000   \n",
       "25%      46.000000    53.000000     0.000000     0.000000   424.750000   \n",
       "50%      54.000000    60.000000     0.000000     3.000000   446.500000   \n",
       "75%      61.250000    66.000000     5.000000    10.000000   531.250000   \n",
       "max      75.000000    78.000000    29.000000    28.000000   623.000000   \n",
       "\n",
       "            Sunset      CodeSum  PrecipTotal  StnPressure     SeaLevel  \\\n",
       "count  1472.000000  1472.000000  1472.000000  1472.000000  1472.000000   \n",
       "mean   1847.347826    10.816576     0.134538    29.253859    29.969497   \n",
       "std      87.050615    16.936770     0.421066     0.156321     0.167775   \n",
       "min    1647.000000     0.000000     0.000000    28.550000    29.000000   \n",
       "25%    1792.250000     0.000000     0.000000    29.160000    29.880000   \n",
       "50%    1859.500000     0.000000     0.000000    29.260000    29.970000   \n",
       "75%    1922.250000    17.000000     0.060000    29.350000    30.070000   \n",
       "max    1931.000000    66.000000     6.860000    29.790000    30.520000   \n",
       "\n",
       "       ResultSpeed    ResultDir     AvgSpeed  \n",
       "count  1472.000000  1472.000000  1472.000000  \n",
       "mean      6.987092    17.656250     8.570788  \n",
       "std       3.586353    10.222077     3.187250  \n",
       "min       0.100000     1.000000     1.900000  \n",
       "25%       4.400000     7.000000     6.200000  \n",
       "50%       6.400000    19.500000     8.100000  \n",
       "75%       9.100000    26.000000    10.400000  \n",
       "max      24.100000    36.000000    26.300000  "
      ]
     },
     "execution_count": 446,
     "metadata": {},
     "output_type": "execute_result"
    }
   ],
   "source": [
    "weather.describe()"
   ]
  },
  {
   "cell_type": "code",
   "execution_count": 448,
   "metadata": {
    "collapsed": false
   },
   "outputs": [
    {
     "name": "stdout",
     "output_type": "stream",
     "text": [
      "Station :\n",
      "NormaltestResult(statistic=masked, pvalue=1.0)\n"
     ]
    },
    {
     "data": {
      "image/png": "[encoded data removed]",
      "text/plain": [
       "<matplotlib.figure.Figure at 0x12e6b6150>"
      ]
     },
     "metadata": {},
     "output_type": "display_data"
    },
    {
     "name": "stdout",
     "output_type": "stream",
     "text": [
      "\n",
      "Tmax :\n",
      "NormaltestResult(statistic=4.8173179350981501, pvalue=0.089935820593448693)\n"
     ]
    },
    {
     "data": {
      "image/png": "[encoded data removed]",
      "text/plain": [
       "<matplotlib.figure.Figure at 0x11fec7490>"
      ]
     },
     "metadata": {},
     "output_type": "display_data"
    },
    {
     "name": "stdout",
     "output_type": "stream",
     "text": [
      "\n",
      "Tmin :\n",
      "NormaltestResult(statistic=2.9959522799551928, pvalue=0.22358220163940062)\n"
     ]
    },
    {
     "data": {
      "image/png": "[encoded data removed]",
      "text/plain": [
       "<matplotlib.figure.Figure at 0x13ee7a310>"
      ]
     },
     "metadata": {},
     "output_type": "display_data"
    },
    {
     "name": "stdout",
     "output_type": "stream",
     "text": [
      "\n",
      "Tavg :\n",
      "NormaltestResult(statistic=4.2278119330949506, pvalue=0.12076533862729889)\n"
     ]
    },
    {
     "data": {
      "image/png": "[encoded data removed]",
      "text/plain": [
       "<matplotlib.figure.Figure at 0x13f014590>"
      ]
     },
     "metadata": {},
     "output_type": "display_data"
    },
    {
     "name": "stdout",
     "output_type": "stream",
     "text": [
      "\n",
      "Depart :\n",
      "NormaltestResult(statistic=0.95001057797199107, pvalue=0.62188176733236378)\n"
     ]
    },
    {
     "data": {
      "image/png": "[encoded data removed]",
      "text/plain": [
       "<matplotlib.figure.Figure at 0x133911650>"
      ]
     },
     "metadata": {},
     "output_type": "display_data"
    },
    {
     "name": "stdout",
     "output_type": "stream",
     "text": [
      "\n",
      "DewPoint :\n",
      "NormaltestResult(statistic=5.6707361345499407, pvalue=0.058696917442993046)\n"
     ]
    },
    {
     "data": {
      "image/png": "[encoded data removed]",
      "text/plain": [
       "<matplotlib.figure.Figure at 0x128a66490>"
      ]
     },
     "metadata": {},
     "output_type": "display_data"
    },
    {
     "name": "stdout",
     "output_type": "stream",
     "text": [
      "\n",
      "WetBulb :\n",
      "NormaltestResult(statistic=5.3647976671686193, pvalue=0.068398879669796783)\n"
     ]
    },
    {
     "data": {
      "image/png": "[encoded data removed]",
      "text/plain": [
       "<matplotlib.figure.Figure at 0x128a66790>"
      ]
     },
     "metadata": {},
     "output_type": "display_data"
    },
    {
     "name": "stdout",
     "output_type": "stream",
     "text": [
      "\n",
      "Heat :\n",
      "NormaltestResult(statistic=40.651828250938692, pvalue=1.4878791422068531e-09)\n"
     ]
    },
    {
     "data": {
      "image/png": "[encoded data removed]",
      "text/plain": [
       "<matplotlib.figure.Figure at 0x13ff57290>"
      ]
     },
     "metadata": {},
     "output_type": "display_data"
    },
    {
     "name": "stdout",
     "output_type": "stream",
     "text": [
      "\n",
      "Cool :\n",
      "NormaltestResult(statistic=7.2338098037560661, pvalue=0.02686569992090242)\n"
     ]
    },
    {
     "data": {
      "image/png": "[encoded data removed]",
      "text/plain": [
       "<matplotlib.figure.Figure at 0x13b447650>"
      ]
     },
     "metadata": {},
     "output_type": "display_data"
    },
    {
     "name": "stdout",
     "output_type": "stream",
     "text": [
      "\n",
      "Sunrise :\n",
      "NormaltestResult(statistic=9.4124691262332583, pvalue=0.009038748421459129)\n"
     ]
    },
    {
     "data": {
      "image/png": "[encoded data removed]",
      "text/plain": [
       "<matplotlib.figure.Figure at 0x143189e10>"
      ]
     },
     "metadata": {},
     "output_type": "display_data"
    },
    {
     "name": "stdout",
     "output_type": "stream",
     "text": [
      "\n",
      "Sunset :\n",
      "NormaltestResult(statistic=12.544701824670639, pvalue=0.0018877853445710923)\n"
     ]
    },
    {
     "data": {
      "image/png": "[encoded data removed]",
      "text/plain": [
       "<matplotlib.figure.Figure at 0x13ca48dd0>"
      ]
     },
     "metadata": {},
     "output_type": "display_data"
    },
    {
     "name": "stdout",
     "output_type": "stream",
     "text": [
      "\n",
      "CodeSum :\n",
      "NormaltestResult(statistic=15.709288534146699, pvalue=0.00038794605284257766)\n"
     ]
    },
    {
     "data": {
      "image/png": "[encoded data removed]",
      "text/plain": [
       "<matplotlib.figure.Figure at 0x13ca48f50>"
      ]
     },
     "metadata": {},
     "output_type": "display_data"
    },
    {
     "name": "stdout",
     "output_type": "stream",
     "text": [
      "\n",
      "PrecipTotal :\n",
      "NormaltestResult(statistic=63.244136271683033, pvalue=1.8480354687375767e-14)\n"
     ]
    },
    {
     "data": {
      "image/png": "[encoded data removed]",
      "text/plain": [
       "<matplotlib.figure.Figure at 0x13d176d50>"
      ]
     },
     "metadata": {},
     "output_type": "display_data"
    },
    {
     "name": "stdout",
     "output_type": "stream",
     "text": [
      "\n",
      "StnPressure :\n",
      "NormaltestResult(statistic=0.72162575213767666, pvalue=0.69710943212025134)\n"
     ]
    },
    {
     "data": {
      "image/png": "[encoded data removed]",
      "text/plain": [
       "<matplotlib.figure.Figure at 0x13d03f450>"
      ]
     },
     "metadata": {},
     "output_type": "display_data"
    },
    {
     "name": "stdout",
     "output_type": "stream",
     "text": [
      "\n",
      "SeaLevel :\n",
      "NormaltestResult(statistic=0.50763488339519014, pvalue=0.77583342395178101)\n"
     ]
    },
    {
     "data": {
      "image/png": "[encoded data removed]",
      "text/plain": [
       "<matplotlib.figure.Figure at 0x1404410d0>"
      ]
     },
     "metadata": {},
     "output_type": "display_data"
    },
    {
     "name": "stdout",
     "output_type": "stream",
     "text": [
      "\n",
      "ResultSpeed :\n",
      "NormaltestResult(statistic=5.2384858905692777, pvalue=0.072857999446116095)\n"
     ]
    },
    {
     "data": {
      "image/png": "[encoded data removed]",
      "text/plain": [
       "<matplotlib.figure.Figure at 0x13d145e10>"
      ]
     },
     "metadata": {},
     "output_type": "display_data"
    },
    {
     "name": "stdout",
     "output_type": "stream",
     "text": [
      "\n",
      "ResultDir :\n",
      "NormaltestResult(statistic=10.115137588618248, pvalue=0.0063610056420590373)\n"
     ]
    },
    {
     "data": {
      "image/png": "[encoded data removed]",
      "text/plain": [
       "<matplotlib.figure.Figure at 0x13f0ce550>"
      ]
     },
     "metadata": {},
     "output_type": "display_data"
    },
    {
     "name": "stdout",
     "output_type": "stream",
     "text": [
      "\n",
      "AvgSpeed :\n",
      "NormaltestResult(statistic=4.4495066239965615, pvalue=0.1080940808588734)\n"
     ]
    },
    {
     "data": {
      "image/png": "[encoded data removed]",
      "text/plain": [
       "<matplotlib.figure.Figure at 0x13f0ce190>"
      ]
     },
     "metadata": {},
     "output_type": "display_data"
    },
    {
     "name": "stdout",
     "output_type": "stream",
     "text": [
      "\n"
     ]
    }
   ],
   "source": [
    "import scipy\n",
    "import matplotlib.pyplot as plt\n",
    "for i in weather.drop('Date', axis=1):\n",
    "    rand_sample = weather[i].sample(50, random_state=6)\n",
    "    print i,':\\n', scipy.stats.mstats.normaltest(rand_sample)\n",
    "    sns.distplot(weather[i])\n",
    "    plt.xlabel(i)\n",
    "    plt.show()\n",
    "    print"
   ]
  },
  {
   "cell_type": "code",
   "execution_count": 449,
   "metadata": {
    "collapsed": true
   },
   "outputs": [],
   "source": [
    "weather=weather.drop(['PrecipTotal','CodeSum','Heat'], axis=1)"
   ]
  },
  {
   "cell_type": "code",
   "execution_count": 455,
   "metadata": {
    "collapsed": false
   },
   "outputs": [
    {
     "data": {
      "text/plain": [
       "<matplotlib.axes._subplots.AxesSubplot at 0x140485c90>"
      ]
     },
     "execution_count": 455,
     "metadata": {},
     "output_type": "execute_result"
    },
    {
     "data": {
      "image/png": "[encoded data removed]",
      "text/plain": [
       "<matplotlib.figure.Figure at 0x13f089950>"
      ]
     },
     "metadata": {},
     "output_type": "display_data"
    }
   ],
   "source": [
    "import seaborn as sns\n",
    "sns.heatmap(weather.corr())"
   ]
  },
  {
   "cell_type": "code",
   "execution_count": 475,
   "metadata": {
    "collapsed": false
   },
   "outputs": [
    {
     "data": {
      "text/html": [
       "<div>\n",
       "<table border=\"1\" class=\"dataframe\">\n",
       "  <thead>\n",
       "    <tr style=\"text-align: right;\">\n",
       "      <th></th>\n",
       "      <th>Station</th>\n",
       "      <th>Date</th>\n",
       "      <th>Tmax</th>\n",
       "      <th>Tmin</th>\n",
       "      <th>Tavg</th>\n",
       "      <th>Depart</th>\n",
       "      <th>DewPoint</th>\n",
       "      <th>WetBulb</th>\n",
       "      <th>Cool</th>\n",
       "      <th>Sunrise</th>\n",
       "      <th>Sunset</th>\n",
       "      <th>StnPressure</th>\n",
       "      <th>SeaLevel</th>\n",
       "      <th>ResultSpeed</th>\n",
       "      <th>ResultDir</th>\n",
       "      <th>AvgSpeed</th>\n",
       "      <th>date</th>\n",
       "    </tr>\n",
       "  </thead>\n",
       "  <tbody>\n",
       "    <tr>\n",
       "      <th>0</th>\n",
       "      <td>1</td>\n",
       "      <td>2007-05-01</td>\n",
       "      <td>83</td>\n",
       "      <td>50</td>\n",
       "      <td>67</td>\n",
       "      <td>14</td>\n",
       "      <td>51</td>\n",
       "      <td>56.0</td>\n",
       "      <td>2</td>\n",
       "      <td>448</td>\n",
       "      <td>1849</td>\n",
       "      <td>29.10</td>\n",
       "      <td>29.82</td>\n",
       "      <td>1.7</td>\n",
       "      <td>27</td>\n",
       "      <td>9.2</td>\n",
       "      <td>2007-05-01</td>\n",
       "    </tr>\n",
       "    <tr>\n",
       "      <th>2</th>\n",
       "      <td>1</td>\n",
       "      <td>2007-05-02</td>\n",
       "      <td>59</td>\n",
       "      <td>42</td>\n",
       "      <td>51</td>\n",
       "      <td>-3</td>\n",
       "      <td>42</td>\n",
       "      <td>47.0</td>\n",
       "      <td>0</td>\n",
       "      <td>447</td>\n",
       "      <td>1850</td>\n",
       "      <td>29.38</td>\n",
       "      <td>30.09</td>\n",
       "      <td>13.0</td>\n",
       "      <td>4</td>\n",
       "      <td>13.4</td>\n",
       "      <td>2007-05-02</td>\n",
       "    </tr>\n",
       "  </tbody>\n",
       "</table>\n",
       "</div>"
      ],
      "text/plain": [
       "   Station       Date  Tmax  Tmin  Tavg  Depart  DewPoint  WetBulb  Cool  \\\n",
       "0        1 2007-05-01    83    50    67      14        51     56.0     2   \n",
       "2        1 2007-05-02    59    42    51      -3        42     47.0     0   \n",
       "\n",
       "   Sunrise  Sunset  StnPressure  SeaLevel  ResultSpeed  ResultDir  AvgSpeed  \\\n",
       "0      448    1849        29.10     29.82          1.7         27       9.2   \n",
       "2      447    1850        29.38     30.09         13.0          4      13.4   \n",
       "\n",
       "        date  \n",
       "0 2007-05-01  \n",
       "2 2007-05-02  "
      ]
     },
     "execution_count": 475,
     "metadata": {},
     "output_type": "execute_result"
    }
   ],
   "source": [
    "weather.head(2)"
   ]
  },
  {
   "cell_type": "code",
   "execution_count": 474,
   "metadata": {
    "collapsed": false
   },
   "outputs": [],
   "source": [
    "train.head(2)\n",
    "weather['date']= weather.Date"
   ]
  },
  {
   "cell_type": "code",
   "execution_count": 477,
   "metadata": {
    "collapsed": true
   },
   "outputs": [],
   "source": [
    "weather['date'] = pd.to_datetime(weather.date)"
   ]
  },
  {
   "cell_type": "code",
   "execution_count": 479,
   "metadata": {
    "collapsed": true
   },
   "outputs": [],
   "source": [
    "weather.set_index('date', inplace=True)\n",
    "train.set_index('date', inplace=True)"
   ]
  },
  {
   "cell_type": "code",
   "execution_count": 518,
   "metadata": {
    "collapsed": false
   },
   "outputs": [
    {
     "data": {
      "text/html": [
       "<div>\n",
       "<table border=\"1\" class=\"dataframe\">\n",
       "  <thead>\n",
       "    <tr style=\"text-align: right;\">\n",
       "      <th></th>\n",
       "      <th>species</th>\n",
       "      <th>trap</th>\n",
       "      <th>latitude</th>\n",
       "      <th>longitude</th>\n",
       "      <th>nummosquitos</th>\n",
       "      <th>wnvpresent</th>\n",
       "      <th>month</th>\n",
       "      <th>day</th>\n",
       "      <th>2dlocation</th>\n",
       "      <th>dist_st1</th>\n",
       "      <th>...</th>\n",
       "      <th>DewPoint</th>\n",
       "      <th>WetBulb</th>\n",
       "      <th>Cool</th>\n",
       "      <th>Sunrise</th>\n",
       "      <th>Sunset</th>\n",
       "      <th>StnPressure</th>\n",
       "      <th>SeaLevel</th>\n",
       "      <th>ResultSpeed</th>\n",
       "      <th>ResultDir</th>\n",
       "      <th>AvgSpeed</th>\n",
       "    </tr>\n",
       "    <tr>\n",
       "      <th>date</th>\n",
       "      <th></th>\n",
       "      <th></th>\n",
       "      <th></th>\n",
       "      <th></th>\n",
       "      <th></th>\n",
       "      <th></th>\n",
       "      <th></th>\n",
       "      <th></th>\n",
       "      <th></th>\n",
       "      <th></th>\n",
       "      <th></th>\n",
       "      <th></th>\n",
       "      <th></th>\n",
       "      <th></th>\n",
       "      <th></th>\n",
       "      <th></th>\n",
       "      <th></th>\n",
       "      <th></th>\n",
       "      <th></th>\n",
       "      <th></th>\n",
       "      <th></th>\n",
       "    </tr>\n",
       "  </thead>\n",
       "  <tbody>\n",
       "    <tr>\n",
       "      <th>2007-05-29</th>\n",
       "      <td>2</td>\n",
       "      <td>T002</td>\n",
       "      <td>41.95469</td>\n",
       "      <td>-87.800991</td>\n",
       "      <td>1</td>\n",
       "      <td>0</td>\n",
       "      <td>5</td>\n",
       "      <td>29</td>\n",
       "      <td>(41.95469, -87.800991)</td>\n",
       "      <td>11.801095</td>\n",
       "      <td>...</td>\n",
       "      <td>58</td>\n",
       "      <td>65.0</td>\n",
       "      <td>9</td>\n",
       "      <td>421</td>\n",
       "      <td>1917</td>\n",
       "      <td>29.39</td>\n",
       "      <td>30.11</td>\n",
       "      <td>5.8</td>\n",
       "      <td>18</td>\n",
       "      <td>6.5</td>\n",
       "    </tr>\n",
       "    <tr>\n",
       "      <th>2007-05-29</th>\n",
       "      <td>3</td>\n",
       "      <td>T002</td>\n",
       "      <td>41.95469</td>\n",
       "      <td>-87.800991</td>\n",
       "      <td>1</td>\n",
       "      <td>0</td>\n",
       "      <td>5</td>\n",
       "      <td>29</td>\n",
       "      <td>(41.95469, -87.800991)</td>\n",
       "      <td>11.801095</td>\n",
       "      <td>...</td>\n",
       "      <td>58</td>\n",
       "      <td>65.0</td>\n",
       "      <td>9</td>\n",
       "      <td>421</td>\n",
       "      <td>1917</td>\n",
       "      <td>29.39</td>\n",
       "      <td>30.11</td>\n",
       "      <td>5.8</td>\n",
       "      <td>18</td>\n",
       "      <td>6.5</td>\n",
       "    </tr>\n",
       "  </tbody>\n",
       "</table>\n",
       "<p>2 rows × 28 columns</p>\n",
       "</div>"
      ],
      "text/plain": [
       "            species  trap  latitude  longitude  nummosquitos  wnvpresent  \\\n",
       "date                                                                       \n",
       "2007-05-29        2  T002  41.95469 -87.800991             1           0   \n",
       "2007-05-29        3  T002  41.95469 -87.800991             1           0   \n",
       "\n",
       "            month  day              2dlocation   dist_st1    ...     DewPoint  \\\n",
       "date                                                         ...                \n",
       "2007-05-29      5   29  (41.95469, -87.800991)  11.801095    ...           58   \n",
       "2007-05-29      5   29  (41.95469, -87.800991)  11.801095    ...           58   \n",
       "\n",
       "            WetBulb  Cool Sunrise  Sunset  StnPressure  SeaLevel  ResultSpeed  \\\n",
       "date                                                                            \n",
       "2007-05-29     65.0     9     421    1917        29.39     30.11          5.8   \n",
       "2007-05-29     65.0     9     421    1917        29.39     30.11          5.8   \n",
       "\n",
       "            ResultDir  AvgSpeed  \n",
       "date                             \n",
       "2007-05-29         18       6.5  \n",
       "2007-05-29         18       6.5  \n",
       "\n",
       "[2 rows x 28 columns]"
      ]
     },
     "execution_count": 518,
     "metadata": {},
     "output_type": "execute_result"
    }
   ],
   "source": [
    "df= train.join(weather, lsuffix='_')\n",
    "df.head(2)"
   ]
  },
  {
   "cell_type": "code",
   "execution_count": 519,
   "metadata": {
    "collapsed": false
   },
   "outputs": [
    {
     "data": {
      "text/plain": [
       "Index([u'species', u'trap', u'latitude', u'longitude', u'nummosquitos',\n",
       "       u'wnvpresent', u'month', u'day', u'2dlocation', u'dist_st1',\n",
       "       u'dist_st2', u'Station_', u'Station', u'Date', u'Tmax', u'Tmin',\n",
       "       u'Tavg', u'Depart', u'DewPoint', u'WetBulb', u'Cool', u'Sunrise',\n",
       "       u'Sunset', u'StnPressure', u'SeaLevel', u'ResultSpeed', u'ResultDir',\n",
       "       u'AvgSpeed'],\n",
       "      dtype='object')"
      ]
     },
     "execution_count": 519,
     "metadata": {},
     "output_type": "execute_result"
    }
   ],
   "source": [
    "df.columns"
   ]
  },
  {
   "cell_type": "code",
   "execution_count": 520,
   "metadata": {
    "collapsed": true
   },
   "outputs": [],
   "source": [
    "df=df.drop(['2dlocation','dist_st1','dist_st2','Station_','Station'], axis=1)"
   ]
  },
  {
   "cell_type": "code",
   "execution_count": 521,
   "metadata": {
    "collapsed": false
   },
   "outputs": [
    {
     "data": {
      "text/html": [
       "<div>\n",
       "<table border=\"1\" class=\"dataframe\">\n",
       "  <thead>\n",
       "    <tr style=\"text-align: right;\">\n",
       "      <th></th>\n",
       "      <th></th>\n",
       "      <th>AvgSpeed</th>\n",
       "      <th>Cool</th>\n",
       "      <th>Depart</th>\n",
       "      <th>DewPoint</th>\n",
       "      <th>ResultDir</th>\n",
       "      <th>ResultSpeed</th>\n",
       "      <th>SeaLevel</th>\n",
       "      <th>StnPressure</th>\n",
       "      <th>Sunrise</th>\n",
       "      <th>Sunset</th>\n",
       "      <th>Tavg</th>\n",
       "      <th>Tmax</th>\n",
       "      <th>Tmin</th>\n",
       "      <th>WetBulb</th>\n",
       "      <th>day</th>\n",
       "      <th>latitude</th>\n",
       "      <th>longitude</th>\n",
       "      <th>month</th>\n",
       "      <th>nummosquitos</th>\n",
       "      <th>species</th>\n",
       "    </tr>\n",
       "    <tr>\n",
       "      <th>wnvpresent</th>\n",
       "      <th></th>\n",
       "      <th></th>\n",
       "      <th></th>\n",
       "      <th></th>\n",
       "      <th></th>\n",
       "      <th></th>\n",
       "      <th></th>\n",
       "      <th></th>\n",
       "      <th></th>\n",
       "      <th></th>\n",
       "      <th></th>\n",
       "      <th></th>\n",
       "      <th></th>\n",
       "      <th></th>\n",
       "      <th></th>\n",
       "      <th></th>\n",
       "      <th></th>\n",
       "      <th></th>\n",
       "      <th></th>\n",
       "      <th></th>\n",
       "      <th></th>\n",
       "    </tr>\n",
       "  </thead>\n",
       "  <tbody>\n",
       "    <tr>\n",
       "      <th rowspan=\"8\" valign=\"top\">0</th>\n",
       "      <th>count</th>\n",
       "      <td>9955.000000</td>\n",
       "      <td>9955.000000</td>\n",
       "      <td>9955.000000</td>\n",
       "      <td>9955.000000</td>\n",
       "      <td>9955.000000</td>\n",
       "      <td>9955.000000</td>\n",
       "      <td>9955.000000</td>\n",
       "      <td>9955.000000</td>\n",
       "      <td>9955.000000</td>\n",
       "      <td>9955.000000</td>\n",
       "      <td>9955.000000</td>\n",
       "      <td>9955.000000</td>\n",
       "      <td>9955.000000</td>\n",
       "      <td>9955.000000</td>\n",
       "      <td>9955.000000</td>\n",
       "      <td>9955.000000</td>\n",
       "      <td>9955.000000</td>\n",
       "      <td>9955.000000</td>\n",
       "      <td>9955.000000</td>\n",
       "      <td>9955.000000</td>\n",
       "    </tr>\n",
       "    <tr>\n",
       "      <th>mean</th>\n",
       "      <td>7.453169</td>\n",
       "      <td>8.410045</td>\n",
       "      <td>2.655650</td>\n",
       "      <td>59.593872</td>\n",
       "      <td>17.502361</td>\n",
       "      <td>6.010799</td>\n",
       "      <td>29.966803</td>\n",
       "      <td>29.250198</td>\n",
       "      <td>467.330588</td>\n",
       "      <td>1871.871924</td>\n",
       "      <td>72.413561</td>\n",
       "      <td>81.749573</td>\n",
       "      <td>62.584731</td>\n",
       "      <td>64.445907</td>\n",
       "      <td>15.324159</td>\n",
       "      <td>41.840378</td>\n",
       "      <td>-87.698538</td>\n",
       "      <td>7.667403</td>\n",
       "      <td>12.106479</td>\n",
       "      <td>2.131391</td>\n",
       "    </tr>\n",
       "    <tr>\n",
       "      <th>std</th>\n",
       "      <td>2.572478</td>\n",
       "      <td>5.711662</td>\n",
       "      <td>6.539716</td>\n",
       "      <td>7.816904</td>\n",
       "      <td>9.528553</td>\n",
       "      <td>2.848231</td>\n",
       "      <td>0.117165</td>\n",
       "      <td>0.116877</td>\n",
       "      <td>45.802861</td>\n",
       "      <td>63.964897</td>\n",
       "      <td>7.607183</td>\n",
       "      <td>8.364587</td>\n",
       "      <td>7.743809</td>\n",
       "      <td>6.844124</td>\n",
       "      <td>8.922370</td>\n",
       "      <td>0.112269</td>\n",
       "      <td>0.095880</td>\n",
       "      <td>1.083410</td>\n",
       "      <td>15.745767</td>\n",
       "      <td>0.947281</td>\n",
       "    </tr>\n",
       "    <tr>\n",
       "      <th>min</th>\n",
       "      <td>2.100000</td>\n",
       "      <td>0.000000</td>\n",
       "      <td>-12.000000</td>\n",
       "      <td>39.000000</td>\n",
       "      <td>1.000000</td>\n",
       "      <td>0.100000</td>\n",
       "      <td>29.600000</td>\n",
       "      <td>28.890000</td>\n",
       "      <td>416.000000</td>\n",
       "      <td>1720.000000</td>\n",
       "      <td>50.000000</td>\n",
       "      <td>57.000000</td>\n",
       "      <td>41.000000</td>\n",
       "      <td>46.000000</td>\n",
       "      <td>1.000000</td>\n",
       "      <td>41.644612</td>\n",
       "      <td>-87.930995</td>\n",
       "      <td>5.000000</td>\n",
       "      <td>1.000000</td>\n",
       "      <td>0.000000</td>\n",
       "    </tr>\n",
       "    <tr>\n",
       "      <th>25%</th>\n",
       "      <td>5.600000</td>\n",
       "      <td>4.000000</td>\n",
       "      <td>-2.000000</td>\n",
       "      <td>54.000000</td>\n",
       "      <td>8.000000</td>\n",
       "      <td>3.850000</td>\n",
       "      <td>29.890000</td>\n",
       "      <td>29.170000</td>\n",
       "      <td>427.000000</td>\n",
       "      <td>1834.000000</td>\n",
       "      <td>69.000000</td>\n",
       "      <td>78.000000</td>\n",
       "      <td>58.000000</td>\n",
       "      <td>61.000000</td>\n",
       "      <td>7.000000</td>\n",
       "      <td>41.732984</td>\n",
       "      <td>-87.757639</td>\n",
       "      <td>7.000000</td>\n",
       "      <td>2.000000</td>\n",
       "      <td>2.000000</td>\n",
       "    </tr>\n",
       "    <tr>\n",
       "      <th>50%</th>\n",
       "      <td>7.100000</td>\n",
       "      <td>9.000000</td>\n",
       "      <td>4.000000</td>\n",
       "      <td>60.000000</td>\n",
       "      <td>19.000000</td>\n",
       "      <td>5.500000</td>\n",
       "      <td>29.980000</td>\n",
       "      <td>29.260000</td>\n",
       "      <td>446.000000</td>\n",
       "      <td>1910.000000</td>\n",
       "      <td>74.000000</td>\n",
       "      <td>83.000000</td>\n",
       "      <td>64.000000</td>\n",
       "      <td>65.000000</td>\n",
       "      <td>15.000000</td>\n",
       "      <td>41.846075</td>\n",
       "      <td>-87.694259</td>\n",
       "      <td>8.000000</td>\n",
       "      <td>4.000000</td>\n",
       "      <td>2.000000</td>\n",
       "    </tr>\n",
       "    <tr>\n",
       "      <th>75%</th>\n",
       "      <td>9.400000</td>\n",
       "      <td>13.000000</td>\n",
       "      <td>8.000000</td>\n",
       "      <td>67.000000</td>\n",
       "      <td>25.000000</td>\n",
       "      <td>7.800000</td>\n",
       "      <td>30.050000</td>\n",
       "      <td>29.340000</td>\n",
       "      <td>513.000000</td>\n",
       "      <td>1925.000000</td>\n",
       "      <td>78.000000</td>\n",
       "      <td>88.000000</td>\n",
       "      <td>69.000000</td>\n",
       "      <td>70.000000</td>\n",
       "      <td>24.000000</td>\n",
       "      <td>41.951866</td>\n",
       "      <td>-87.627796</td>\n",
       "      <td>8.000000</td>\n",
       "      <td>15.000000</td>\n",
       "      <td>3.000000</td>\n",
       "    </tr>\n",
       "    <tr>\n",
       "      <th>max</th>\n",
       "      <td>15.000000</td>\n",
       "      <td>19.000000</td>\n",
       "      <td>18.000000</td>\n",
       "      <td>73.000000</td>\n",
       "      <td>36.000000</td>\n",
       "      <td>14.600000</td>\n",
       "      <td>30.330000</td>\n",
       "      <td>29.590000</td>\n",
       "      <td>557.000000</td>\n",
       "      <td>1931.000000</td>\n",
       "      <td>84.000000</td>\n",
       "      <td>96.000000</td>\n",
       "      <td>76.000000</td>\n",
       "      <td>76.000000</td>\n",
       "      <td>31.000000</td>\n",
       "      <td>42.017430</td>\n",
       "      <td>-87.531635</td>\n",
       "      <td>10.000000</td>\n",
       "      <td>50.000000</td>\n",
       "      <td>6.000000</td>\n",
       "    </tr>\n",
       "    <tr>\n",
       "      <th rowspan=\"8\" valign=\"top\">1</th>\n",
       "      <th>count</th>\n",
       "      <td>551.000000</td>\n",
       "      <td>551.000000</td>\n",
       "      <td>551.000000</td>\n",
       "      <td>551.000000</td>\n",
       "      <td>551.000000</td>\n",
       "      <td>551.000000</td>\n",
       "      <td>551.000000</td>\n",
       "      <td>551.000000</td>\n",
       "      <td>551.000000</td>\n",
       "      <td>551.000000</td>\n",
       "      <td>551.000000</td>\n",
       "      <td>551.000000</td>\n",
       "      <td>551.000000</td>\n",
       "      <td>551.000000</td>\n",
       "      <td>551.000000</td>\n",
       "      <td>551.000000</td>\n",
       "      <td>551.000000</td>\n",
       "      <td>551.000000</td>\n",
       "      <td>551.000000</td>\n",
       "      <td>551.000000</td>\n",
       "    </tr>\n",
       "    <tr>\n",
       "      <th>mean</th>\n",
       "      <td>7.109437</td>\n",
       "      <td>9.909256</td>\n",
       "      <td>4.268603</td>\n",
       "      <td>62.753176</td>\n",
       "      <td>17.840290</td>\n",
       "      <td>5.359165</td>\n",
       "      <td>29.969728</td>\n",
       "      <td>29.255844</td>\n",
       "      <td>488.813067</td>\n",
       "      <td>1852.473684</td>\n",
       "      <td>74.642468</td>\n",
       "      <td>83.626134</td>\n",
       "      <td>65.088929</td>\n",
       "      <td>67.043557</td>\n",
       "      <td>15.653358</td>\n",
       "      <td>41.854891</td>\n",
       "      <td>-87.724663</td>\n",
       "      <td>8.147005</td>\n",
       "      <td>26.350272</td>\n",
       "      <td>1.653358</td>\n",
       "    </tr>\n",
       "    <tr>\n",
       "      <th>std</th>\n",
       "      <td>2.256244</td>\n",
       "      <td>4.621976</td>\n",
       "      <td>5.208428</td>\n",
       "      <td>6.520796</td>\n",
       "      <td>9.167328</td>\n",
       "      <td>2.584918</td>\n",
       "      <td>0.093413</td>\n",
       "      <td>0.092178</td>\n",
       "      <td>34.029285</td>\n",
       "      <td>42.761141</td>\n",
       "      <td>5.404807</td>\n",
       "      <td>6.272738</td>\n",
       "      <td>5.872067</td>\n",
       "      <td>5.349419</td>\n",
       "      <td>8.511467</td>\n",
       "      <td>0.120243</td>\n",
       "      <td>0.104362</td>\n",
       "      <td>0.557743</td>\n",
       "      <td>17.089997</td>\n",
       "      <td>0.636455</td>\n",
       "    </tr>\n",
       "    <tr>\n",
       "      <th>min</th>\n",
       "      <td>2.100000</td>\n",
       "      <td>0.000000</td>\n",
       "      <td>-12.000000</td>\n",
       "      <td>40.000000</td>\n",
       "      <td>1.000000</td>\n",
       "      <td>0.100000</td>\n",
       "      <td>29.630000</td>\n",
       "      <td>28.910000</td>\n",
       "      <td>419.000000</td>\n",
       "      <td>1729.000000</td>\n",
       "      <td>52.000000</td>\n",
       "      <td>58.000000</td>\n",
       "      <td>46.000000</td>\n",
       "      <td>47.000000</td>\n",
       "      <td>1.000000</td>\n",
       "      <td>41.644612</td>\n",
       "      <td>-87.930995</td>\n",
       "      <td>6.000000</td>\n",
       "      <td>1.000000</td>\n",
       "      <td>1.000000</td>\n",
       "    </tr>\n",
       "    <tr>\n",
       "      <th>25%</th>\n",
       "      <td>5.700000</td>\n",
       "      <td>7.000000</td>\n",
       "      <td>0.000000</td>\n",
       "      <td>58.000000</td>\n",
       "      <td>9.000000</td>\n",
       "      <td>3.600000</td>\n",
       "      <td>29.910000</td>\n",
       "      <td>29.210000</td>\n",
       "      <td>452.000000</td>\n",
       "      <td>1832.000000</td>\n",
       "      <td>72.000000</td>\n",
       "      <td>80.000000</td>\n",
       "      <td>61.000000</td>\n",
       "      <td>64.000000</td>\n",
       "      <td>8.000000</td>\n",
       "      <td>41.731922</td>\n",
       "      <td>-87.800991</td>\n",
       "      <td>8.000000</td>\n",
       "      <td>11.000000</td>\n",
       "      <td>1.000000</td>\n",
       "    </tr>\n",
       "    <tr>\n",
       "      <th>50%</th>\n",
       "      <td>6.600000</td>\n",
       "      <td>10.000000</td>\n",
       "      <td>5.000000</td>\n",
       "      <td>64.000000</td>\n",
       "      <td>20.000000</td>\n",
       "      <td>4.700000</td>\n",
       "      <td>29.980000</td>\n",
       "      <td>29.260000</td>\n",
       "      <td>505.000000</td>\n",
       "      <td>1845.000000</td>\n",
       "      <td>75.000000</td>\n",
       "      <td>83.000000</td>\n",
       "      <td>66.000000</td>\n",
       "      <td>69.000000</td>\n",
       "      <td>15.000000</td>\n",
       "      <td>41.903002</td>\n",
       "      <td>-87.725057</td>\n",
       "      <td>8.000000</td>\n",
       "      <td>24.000000</td>\n",
       "      <td>2.000000</td>\n",
       "    </tr>\n",
       "    <tr>\n",
       "      <th>75%</th>\n",
       "      <td>9.300000</td>\n",
       "      <td>13.000000</td>\n",
       "      <td>8.000000</td>\n",
       "      <td>67.000000</td>\n",
       "      <td>24.000000</td>\n",
       "      <td>7.000000</td>\n",
       "      <td>30.010000</td>\n",
       "      <td>29.290000</td>\n",
       "      <td>514.000000</td>\n",
       "      <td>1903.000000</td>\n",
       "      <td>78.000000</td>\n",
       "      <td>89.000000</td>\n",
       "      <td>69.000000</td>\n",
       "      <td>70.000000</td>\n",
       "      <td>22.000000</td>\n",
       "      <td>41.973967</td>\n",
       "      <td>-87.642984</td>\n",
       "      <td>8.000000</td>\n",
       "      <td>44.000000</td>\n",
       "      <td>2.000000</td>\n",
       "    </tr>\n",
       "    <tr>\n",
       "      <th>max</th>\n",
       "      <td>14.000000</td>\n",
       "      <td>19.000000</td>\n",
       "      <td>18.000000</td>\n",
       "      <td>73.000000</td>\n",
       "      <td>36.000000</td>\n",
       "      <td>13.300000</td>\n",
       "      <td>30.330000</td>\n",
       "      <td>29.590000</td>\n",
       "      <td>552.000000</td>\n",
       "      <td>1931.000000</td>\n",
       "      <td>84.000000</td>\n",
       "      <td>96.000000</td>\n",
       "      <td>76.000000</td>\n",
       "      <td>76.000000</td>\n",
       "      <td>31.000000</td>\n",
       "      <td>42.011601</td>\n",
       "      <td>-87.531635</td>\n",
       "      <td>10.000000</td>\n",
       "      <td>50.000000</td>\n",
       "      <td>3.000000</td>\n",
       "    </tr>\n",
       "  </tbody>\n",
       "</table>\n",
       "</div>"
      ],
      "text/plain": [
       "                     AvgSpeed         Cool       Depart     DewPoint  \\\n",
       "wnvpresent                                                             \n",
       "0          count  9955.000000  9955.000000  9955.000000  9955.000000   \n",
       "           mean      7.453169     8.410045     2.655650    59.593872   \n",
       "           std       2.572478     5.711662     6.539716     7.816904   \n",
       "           min       2.100000     0.000000   -12.000000    39.000000   \n",
       "           25%       5.600000     4.000000    -2.000000    54.000000   \n",
       "           50%       7.100000     9.000000     4.000000    60.000000   \n",
       "           75%       9.400000    13.000000     8.000000    67.000000   \n",
       "           max      15.000000    19.000000    18.000000    73.000000   \n",
       "1          count   551.000000   551.000000   551.000000   551.000000   \n",
       "           mean      7.109437     9.909256     4.268603    62.753176   \n",
       "           std       2.256244     4.621976     5.208428     6.520796   \n",
       "           min       2.100000     0.000000   -12.000000    40.000000   \n",
       "           25%       5.700000     7.000000     0.000000    58.000000   \n",
       "           50%       6.600000    10.000000     5.000000    64.000000   \n",
       "           75%       9.300000    13.000000     8.000000    67.000000   \n",
       "           max      14.000000    19.000000    18.000000    73.000000   \n",
       "\n",
       "                    ResultDir  ResultSpeed     SeaLevel  StnPressure  \\\n",
       "wnvpresent                                                             \n",
       "0          count  9955.000000  9955.000000  9955.000000  9955.000000   \n",
       "           mean     17.502361     6.010799    29.966803    29.250198   \n",
       "           std       9.528553     2.848231     0.117165     0.116877   \n",
       "           min       1.000000     0.100000    29.600000    28.890000   \n",
       "           25%       8.000000     3.850000    29.890000    29.170000   \n",
       "           50%      19.000000     5.500000    29.980000    29.260000   \n",
       "           75%      25.000000     7.800000    30.050000    29.340000   \n",
       "           max      36.000000    14.600000    30.330000    29.590000   \n",
       "1          count   551.000000   551.000000   551.000000   551.000000   \n",
       "           mean     17.840290     5.359165    29.969728    29.255844   \n",
       "           std       9.167328     2.584918     0.093413     0.092178   \n",
       "           min       1.000000     0.100000    29.630000    28.910000   \n",
       "           25%       9.000000     3.600000    29.910000    29.210000   \n",
       "           50%      20.000000     4.700000    29.980000    29.260000   \n",
       "           75%      24.000000     7.000000    30.010000    29.290000   \n",
       "           max      36.000000    13.300000    30.330000    29.590000   \n",
       "\n",
       "                      Sunrise       Sunset         Tavg         Tmax  \\\n",
       "wnvpresent                                                             \n",
       "0          count  9955.000000  9955.000000  9955.000000  9955.000000   \n",
       "           mean    467.330588  1871.871924    72.413561    81.749573   \n",
       "           std      45.802861    63.964897     7.607183     8.364587   \n",
       "           min     416.000000  1720.000000    50.000000    57.000000   \n",
       "           25%     427.000000  1834.000000    69.000000    78.000000   \n",
       "           50%     446.000000  1910.000000    74.000000    83.000000   \n",
       "           75%     513.000000  1925.000000    78.000000    88.000000   \n",
       "           max     557.000000  1931.000000    84.000000    96.000000   \n",
       "1          count   551.000000   551.000000   551.000000   551.000000   \n",
       "           mean    488.813067  1852.473684    74.642468    83.626134   \n",
       "           std      34.029285    42.761141     5.404807     6.272738   \n",
       "           min     419.000000  1729.000000    52.000000    58.000000   \n",
       "           25%     452.000000  1832.000000    72.000000    80.000000   \n",
       "           50%     505.000000  1845.000000    75.000000    83.000000   \n",
       "           75%     514.000000  1903.000000    78.000000    89.000000   \n",
       "           max     552.000000  1931.000000    84.000000    96.000000   \n",
       "\n",
       "                         Tmin      WetBulb          day     latitude  \\\n",
       "wnvpresent                                                             \n",
       "0          count  9955.000000  9955.000000  9955.000000  9955.000000   \n",
       "           mean     62.584731    64.445907    15.324159    41.840378   \n",
       "           std       7.743809     6.844124     8.922370     0.112269   \n",
       "           min      41.000000    46.000000     1.000000    41.644612   \n",
       "           25%      58.000000    61.000000     7.000000    41.732984   \n",
       "           50%      64.000000    65.000000    15.000000    41.846075   \n",
       "           75%      69.000000    70.000000    24.000000    41.951866   \n",
       "           max      76.000000    76.000000    31.000000    42.017430   \n",
       "1          count   551.000000   551.000000   551.000000   551.000000   \n",
       "           mean     65.088929    67.043557    15.653358    41.854891   \n",
       "           std       5.872067     5.349419     8.511467     0.120243   \n",
       "           min      46.000000    47.000000     1.000000    41.644612   \n",
       "           25%      61.000000    64.000000     8.000000    41.731922   \n",
       "           50%      66.000000    69.000000    15.000000    41.903002   \n",
       "           75%      69.000000    70.000000    22.000000    41.973967   \n",
       "           max      76.000000    76.000000    31.000000    42.011601   \n",
       "\n",
       "                    longitude        month  nummosquitos      species  \n",
       "wnvpresent                                                             \n",
       "0          count  9955.000000  9955.000000   9955.000000  9955.000000  \n",
       "           mean    -87.698538     7.667403     12.106479     2.131391  \n",
       "           std       0.095880     1.083410     15.745767     0.947281  \n",
       "           min     -87.930995     5.000000      1.000000     0.000000  \n",
       "           25%     -87.757639     7.000000      2.000000     2.000000  \n",
       "           50%     -87.694259     8.000000      4.000000     2.000000  \n",
       "           75%     -87.627796     8.000000     15.000000     3.000000  \n",
       "           max     -87.531635    10.000000     50.000000     6.000000  \n",
       "1          count   551.000000   551.000000    551.000000   551.000000  \n",
       "           mean    -87.724663     8.147005     26.350272     1.653358  \n",
       "           std       0.104362     0.557743     17.089997     0.636455  \n",
       "           min     -87.930995     6.000000      1.000000     1.000000  \n",
       "           25%     -87.800991     8.000000     11.000000     1.000000  \n",
       "           50%     -87.725057     8.000000     24.000000     2.000000  \n",
       "           75%     -87.642984     8.000000     44.000000     2.000000  \n",
       "           max     -87.531635    10.000000     50.000000     3.000000  "
      ]
     },
     "execution_count": 521,
     "metadata": {},
     "output_type": "execute_result"
    }
   ],
   "source": [
    "df.groupby(by='wnvpresent').describe()"
   ]
  },
  {
   "cell_type": "code",
   "execution_count": 522,
   "metadata": {
    "collapsed": false
   },
   "outputs": [
    {
     "data": {
      "text/html": [
       "<div>\n",
       "<table border=\"1\" class=\"dataframe\">\n",
       "  <thead>\n",
       "    <tr style=\"text-align: right;\">\n",
       "      <th></th>\n",
       "      <th>species</th>\n",
       "      <th>trap</th>\n",
       "      <th>latitude</th>\n",
       "      <th>longitude</th>\n",
       "      <th>nummosquitos</th>\n",
       "      <th>month</th>\n",
       "      <th>day</th>\n",
       "      <th>Date</th>\n",
       "      <th>Tmax</th>\n",
       "      <th>Tmin</th>\n",
       "      <th>...</th>\n",
       "      <th>WetBulb</th>\n",
       "      <th>Cool</th>\n",
       "      <th>Sunrise</th>\n",
       "      <th>Sunset</th>\n",
       "      <th>StnPressure</th>\n",
       "      <th>SeaLevel</th>\n",
       "      <th>ResultSpeed</th>\n",
       "      <th>ResultDir</th>\n",
       "      <th>AvgSpeed</th>\n",
       "      <th>wnvpresent</th>\n",
       "    </tr>\n",
       "    <tr>\n",
       "      <th>date</th>\n",
       "      <th></th>\n",
       "      <th></th>\n",
       "      <th></th>\n",
       "      <th></th>\n",
       "      <th></th>\n",
       "      <th></th>\n",
       "      <th></th>\n",
       "      <th></th>\n",
       "      <th></th>\n",
       "      <th></th>\n",
       "      <th></th>\n",
       "      <th></th>\n",
       "      <th></th>\n",
       "      <th></th>\n",
       "      <th></th>\n",
       "      <th></th>\n",
       "      <th></th>\n",
       "      <th></th>\n",
       "      <th></th>\n",
       "      <th></th>\n",
       "      <th></th>\n",
       "    </tr>\n",
       "  </thead>\n",
       "  <tbody>\n",
       "    <tr>\n",
       "      <th>2007-05-29</th>\n",
       "      <td>2</td>\n",
       "      <td>T002</td>\n",
       "      <td>41.95469</td>\n",
       "      <td>-87.800991</td>\n",
       "      <td>1</td>\n",
       "      <td>5</td>\n",
       "      <td>29</td>\n",
       "      <td>2007-05-29</td>\n",
       "      <td>88</td>\n",
       "      <td>60</td>\n",
       "      <td>...</td>\n",
       "      <td>65.0</td>\n",
       "      <td>9</td>\n",
       "      <td>421</td>\n",
       "      <td>1917</td>\n",
       "      <td>29.39</td>\n",
       "      <td>30.11</td>\n",
       "      <td>5.8</td>\n",
       "      <td>18</td>\n",
       "      <td>6.5</td>\n",
       "      <td>0</td>\n",
       "    </tr>\n",
       "    <tr>\n",
       "      <th>2007-05-29</th>\n",
       "      <td>3</td>\n",
       "      <td>T002</td>\n",
       "      <td>41.95469</td>\n",
       "      <td>-87.800991</td>\n",
       "      <td>1</td>\n",
       "      <td>5</td>\n",
       "      <td>29</td>\n",
       "      <td>2007-05-29</td>\n",
       "      <td>88</td>\n",
       "      <td>60</td>\n",
       "      <td>...</td>\n",
       "      <td>65.0</td>\n",
       "      <td>9</td>\n",
       "      <td>421</td>\n",
       "      <td>1917</td>\n",
       "      <td>29.39</td>\n",
       "      <td>30.11</td>\n",
       "      <td>5.8</td>\n",
       "      <td>18</td>\n",
       "      <td>6.5</td>\n",
       "      <td>0</td>\n",
       "    </tr>\n",
       "  </tbody>\n",
       "</table>\n",
       "<p>2 rows × 23 columns</p>\n",
       "</div>"
      ],
      "text/plain": [
       "            species  trap  latitude  longitude  nummosquitos  month  day  \\\n",
       "date                                                                       \n",
       "2007-05-29        2  T002  41.95469 -87.800991             1      5   29   \n",
       "2007-05-29        3  T002  41.95469 -87.800991             1      5   29   \n",
       "\n",
       "                 Date  Tmax  Tmin     ...      WetBulb  Cool  Sunrise  Sunset  \\\n",
       "date                                  ...                                       \n",
       "2007-05-29 2007-05-29    88    60     ...         65.0     9      421    1917   \n",
       "2007-05-29 2007-05-29    88    60     ...         65.0     9      421    1917   \n",
       "\n",
       "            StnPressure  SeaLevel  ResultSpeed  ResultDir  AvgSpeed  \\\n",
       "date                                                                  \n",
       "2007-05-29        29.39     30.11          5.8         18       6.5   \n",
       "2007-05-29        29.39     30.11          5.8         18       6.5   \n",
       "\n",
       "            wnvpresent  \n",
       "date                    \n",
       "2007-05-29           0  \n",
       "2007-05-29           0  \n",
       "\n",
       "[2 rows x 23 columns]"
      ]
     },
     "execution_count": 522,
     "metadata": {},
     "output_type": "execute_result"
    }
   ],
   "source": [
    "cols=list(df.columns.values)\n",
    "cols.pop(cols.index('wnvpresent'))\n",
    "df=df[cols + ['wnvpresent']]\n",
    "df.head(2)"
   ]
  },
  {
   "cell_type": "code",
   "execution_count": 523,
   "metadata": {
    "collapsed": false
   },
   "outputs": [],
   "source": [
    "#create final dataframe for modeling and convert to csv\n",
    "df.reset_index(level=0, inplace=True)\n",
    "df=df.drop(['Date','trap','date'], axis=1)"
   ]
  },
  {
   "cell_type": "code",
   "execution_count": 524,
   "metadata": {
    "collapsed": true
   },
   "outputs": [],
   "source": [
    "df.to_csv('df.csv')"
   ]
  },
  {
   "cell_type": "code",
   "execution_count": 525,
   "metadata": {
    "collapsed": false
   },
   "outputs": [
    {
     "data": {
      "text/html": [
       "<div>\n",
       "<table border=\"1\" class=\"dataframe\">\n",
       "  <thead>\n",
       "    <tr style=\"text-align: right;\">\n",
       "      <th></th>\n",
       "      <th>species</th>\n",
       "      <th>latitude</th>\n",
       "      <th>longitude</th>\n",
       "      <th>nummosquitos</th>\n",
       "      <th>month</th>\n",
       "      <th>day</th>\n",
       "      <th>Tmax</th>\n",
       "      <th>Tmin</th>\n",
       "      <th>Tavg</th>\n",
       "      <th>Depart</th>\n",
       "      <th>...</th>\n",
       "      <th>WetBulb</th>\n",
       "      <th>Cool</th>\n",
       "      <th>Sunrise</th>\n",
       "      <th>Sunset</th>\n",
       "      <th>StnPressure</th>\n",
       "      <th>SeaLevel</th>\n",
       "      <th>ResultSpeed</th>\n",
       "      <th>ResultDir</th>\n",
       "      <th>AvgSpeed</th>\n",
       "      <th>wnvpresent</th>\n",
       "    </tr>\n",
       "  </thead>\n",
       "  <tbody>\n",
       "    <tr>\n",
       "      <th>0</th>\n",
       "      <td>2</td>\n",
       "      <td>41.954690</td>\n",
       "      <td>-87.800991</td>\n",
       "      <td>1</td>\n",
       "      <td>5</td>\n",
       "      <td>29</td>\n",
       "      <td>88</td>\n",
       "      <td>60</td>\n",
       "      <td>74</td>\n",
       "      <td>10</td>\n",
       "      <td>...</td>\n",
       "      <td>65.0</td>\n",
       "      <td>9</td>\n",
       "      <td>421</td>\n",
       "      <td>1917</td>\n",
       "      <td>29.39</td>\n",
       "      <td>30.11</td>\n",
       "      <td>5.8</td>\n",
       "      <td>18</td>\n",
       "      <td>6.5</td>\n",
       "      <td>0</td>\n",
       "    </tr>\n",
       "    <tr>\n",
       "      <th>1</th>\n",
       "      <td>3</td>\n",
       "      <td>41.954690</td>\n",
       "      <td>-87.800991</td>\n",
       "      <td>1</td>\n",
       "      <td>5</td>\n",
       "      <td>29</td>\n",
       "      <td>88</td>\n",
       "      <td>60</td>\n",
       "      <td>74</td>\n",
       "      <td>10</td>\n",
       "      <td>...</td>\n",
       "      <td>65.0</td>\n",
       "      <td>9</td>\n",
       "      <td>421</td>\n",
       "      <td>1917</td>\n",
       "      <td>29.39</td>\n",
       "      <td>30.11</td>\n",
       "      <td>5.8</td>\n",
       "      <td>18</td>\n",
       "      <td>6.5</td>\n",
       "      <td>0</td>\n",
       "    </tr>\n",
       "    <tr>\n",
       "      <th>2</th>\n",
       "      <td>3</td>\n",
       "      <td>41.994991</td>\n",
       "      <td>-87.769279</td>\n",
       "      <td>1</td>\n",
       "      <td>5</td>\n",
       "      <td>29</td>\n",
       "      <td>88</td>\n",
       "      <td>60</td>\n",
       "      <td>74</td>\n",
       "      <td>10</td>\n",
       "      <td>...</td>\n",
       "      <td>65.0</td>\n",
       "      <td>9</td>\n",
       "      <td>421</td>\n",
       "      <td>1917</td>\n",
       "      <td>29.39</td>\n",
       "      <td>30.11</td>\n",
       "      <td>5.8</td>\n",
       "      <td>18</td>\n",
       "      <td>6.5</td>\n",
       "      <td>0</td>\n",
       "    </tr>\n",
       "    <tr>\n",
       "      <th>3</th>\n",
       "      <td>2</td>\n",
       "      <td>41.974089</td>\n",
       "      <td>-87.824812</td>\n",
       "      <td>1</td>\n",
       "      <td>5</td>\n",
       "      <td>29</td>\n",
       "      <td>88</td>\n",
       "      <td>60</td>\n",
       "      <td>74</td>\n",
       "      <td>10</td>\n",
       "      <td>...</td>\n",
       "      <td>65.0</td>\n",
       "      <td>9</td>\n",
       "      <td>421</td>\n",
       "      <td>1917</td>\n",
       "      <td>29.39</td>\n",
       "      <td>30.11</td>\n",
       "      <td>5.8</td>\n",
       "      <td>18</td>\n",
       "      <td>6.5</td>\n",
       "      <td>0</td>\n",
       "    </tr>\n",
       "    <tr>\n",
       "      <th>4</th>\n",
       "      <td>3</td>\n",
       "      <td>41.974089</td>\n",
       "      <td>-87.824812</td>\n",
       "      <td>4</td>\n",
       "      <td>5</td>\n",
       "      <td>29</td>\n",
       "      <td>88</td>\n",
       "      <td>60</td>\n",
       "      <td>74</td>\n",
       "      <td>10</td>\n",
       "      <td>...</td>\n",
       "      <td>65.0</td>\n",
       "      <td>9</td>\n",
       "      <td>421</td>\n",
       "      <td>1917</td>\n",
       "      <td>29.39</td>\n",
       "      <td>30.11</td>\n",
       "      <td>5.8</td>\n",
       "      <td>18</td>\n",
       "      <td>6.5</td>\n",
       "      <td>0</td>\n",
       "    </tr>\n",
       "  </tbody>\n",
       "</table>\n",
       "<p>5 rows × 21 columns</p>\n",
       "</div>"
      ],
      "text/plain": [
       "   species   latitude  longitude  nummosquitos  month  day  Tmax  Tmin  Tavg  \\\n",
       "0        2  41.954690 -87.800991             1      5   29    88    60    74   \n",
       "1        3  41.954690 -87.800991             1      5   29    88    60    74   \n",
       "2        3  41.994991 -87.769279             1      5   29    88    60    74   \n",
       "3        2  41.974089 -87.824812             1      5   29    88    60    74   \n",
       "4        3  41.974089 -87.824812             4      5   29    88    60    74   \n",
       "\n",
       "   Depart     ...      WetBulb  Cool  Sunrise  Sunset  StnPressure  SeaLevel  \\\n",
       "0      10     ...         65.0     9      421    1917        29.39     30.11   \n",
       "1      10     ...         65.0     9      421    1917        29.39     30.11   \n",
       "2      10     ...         65.0     9      421    1917        29.39     30.11   \n",
       "3      10     ...         65.0     9      421    1917        29.39     30.11   \n",
       "4      10     ...         65.0     9      421    1917        29.39     30.11   \n",
       "\n",
       "   ResultSpeed  ResultDir  AvgSpeed  wnvpresent  \n",
       "0          5.8         18       6.5           0  \n",
       "1          5.8         18       6.5           0  \n",
       "2          5.8         18       6.5           0  \n",
       "3          5.8         18       6.5           0  \n",
       "4          5.8         18       6.5           0  \n",
       "\n",
       "[5 rows x 21 columns]"
      ]
     },
     "execution_count": 525,
     "metadata": {},
     "output_type": "execute_result"
    }
   ],
   "source": [
    "df.head()"
   ]
  },
  {
   "cell_type": "markdown",
   "metadata": {},
   "source": [
    "# RoadMap"
   ]
  },
  {
   "cell_type": "markdown",
   "metadata": {},
   "source": [
    "1. Data Preperation:\n",
    "    - Data Cleaning ( rename columns, deal with null values, data concatenation ...)\n",
    "    - Perform Data Exploration\n",
    "    - PCA\n",
    "2. Hypothesis/Modeling:\n",
    "    - Perform Different types of Modeling\n",
    "    - use RMSE and other evaluation metrics\n",
    "3. Interpret Results\n",
    "    "
   ]
  }
 ],
 "metadata": {
  "kernelspec": {
   "display_name": "Python 2",
   "language": "python",
   "name": "python2"
  },
  "language_info": {
   "codemirror_mode": {
    "name": "ipython",
    "version": 2
   },
   "file_extension": ".py",
   "mimetype": "text/x-python",
   "name": "python",
   "nbconvert_exporter": "python",
   "pygments_lexer": "ipython2",
   "version": "2.7.11"
  }
 },
 "nbformat": 4,
 "nbformat_minor": 0
}
